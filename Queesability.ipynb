{
 "cells": [
  {
   "cell_type": "code",
   "execution_count": 2,
   "id": "842b46b2-dfb5-4170-a5c5-510b601e0ac6",
   "metadata": {},
   "outputs": [
    {
     "data": {
      "text/plain": [
       "300mm diam.\teff.surf:\n",
       "\tband 1: 462+/-11 cm2\n",
       "\tband 2: 416+/-10 cm2\n",
       "\tband 3: 323+/-8 cm2"
      ]
     },
     "execution_count": 2,
     "metadata": {},
     "output_type": "execute_result"
    }
   ],
   "source": [
    "from math import pi\n",
    "import numpy as np\n",
    "\n",
    "from uncertainties import ufloat\n",
    "import uncertainties.umath as um\n",
    "gtrack=0 #printed output level\n",
    "\n",
    "\n",
    "class optical():\n",
    "    foclength=1850\n",
    "    diameter=300 #mm\n",
    "    shade=ufloat(0.14,0.02)\n",
    "    mirror=0.8\n",
    "    corrector=0.95\n",
    "    beamsplitter=0.95#reflectivity\n",
    "    shortpass=0.85\n",
    "    longpass=0.7#BMS/other filter transmissivity\n",
    "\n",
    "    stray=ufloat(0.00011,0.00002)\n",
    "    external={}\n",
    "    \n",
    "    def __init__(self):\n",
    "        self.external['zodiac']=3\n",
    "        \n",
    "    def effective(self):\n",
    "        return self.diameter**2*pi/4*(1-self.shade)*1e-6 #in m^2\n",
    "    \n",
    "    def reflectivity(self, band=1):\n",
    "        '''should make wavelength dependant later'''\n",
    "        if band==2: return self.mirror*self.corrector*self.longpass #through beamsplitter\n",
    "        if band==1: return self.mirror*self.corrector*self.beamsplitter #reflected on beamsplitter\n",
    "        return self.mirror*self.corrector # no filter\n",
    "    def __repr__(self):\n",
    "        out=f'{self.diameter}mm diam.\\teff.surf:\\n'\n",
    "        for i in range(3):\n",
    "            surf=self.reflectivity(i) * self.effective() *1e4\n",
    "            out+=f'\\tband {i+1}: {surf} cm2\\n'\n",
    "        return out\n",
    "    \n",
    "modelA=optical()\n",
    "modelA.diameter=300\n",
    "modelA.psf=2.5 #arcsec\n",
    "modelA.beamsplitter=0.9\n",
    "modelA"
   ]
  },
  {
   "cell_type": "code",
   "execution_count": 3,
   "id": "f85eef06-2354-4462-ab1a-9f254b91541e",
   "metadata": {},
   "outputs": [],
   "source": [
    "# obtained from https://www.gpixel.com/products/area-scan-en/gsense/gsense4040bsi/\n",
    "gsens_csv=\"/home/limu/Documents/Space/QUVIK/Science/hware/QEsensitivity.csv\"\n",
    "gsens_tab=np.loadtxt(gsens_csv,delimiter=\",\").T\n",
    "\n",
    "class detector():\n",
    "    tele=None\n",
    "    exposure=1\n",
    "    readout=3\n",
    "    def __init__(self,pixsize,npix,tele,sens=[]):\n",
    "        self.pixsize=pixsize\n",
    "        self.npix=npix\n",
    "        #self.psfpix=psfpix\n",
    "        if len(sens)>0:\n",
    "            self.sensitivity=sens\n",
    "        else:\n",
    "            self.sensitivity=[0.8]\n",
    "        self.tele=tele\n",
    "        self.bandlims=[[200,400]]\n",
    "        \n",
    "    def __repr__(self):\n",
    "        out=f'pix.size {self.pixsize:.2f} um\\n'\n",
    "        out+=f'field {self.npix} x {self.npix} pix\\n'\n",
    "        out+=f'exp. {self.exposure} s vs. RO noise {self.readout}'\n",
    "        return out\n",
    "    \n",
    "    def angsize(self):\n",
    "        return self.pixsize*1e-3/self.tele.foclength/pi*180*60*60 #u.arcsec\n",
    "    \n",
    "    def get_sens(self,band=None):\n",
    "        '''so far source spectra not considered'''\n",
    "        if not np.iterable(self.sensitivity): return self.sensitivity\n",
    "        if not np.iterable(self.sensitivity[0]):\n",
    "            if band==None: return self.sensitivity[0]\n",
    "            else: return self.sensitivity[band]\n",
    "        if band!=None and band>0 and band<len(self.bandlims): blow,bhig=self.bandlims[band]\n",
    "        else: blow,bhig=self.bandlims[0]\n",
    "        l,qe=self.sensitivity\n",
    "        sel=(l>=blow)*(l<=bhig)\n",
    "        return qe[sel].mean()\n",
    "        \n",
    "    def elecrate(self,source,band=None):\n",
    "        return source.photrate(self.tele.effective()*self.tele.reflectivity(band))*self.get_sens(band)\n",
    "    \n",
    "    def elecount(self,source):\n",
    "        '''nb. photons in psf pixels\n",
    "        '''\n",
    "        nbpix=(self.tele.psf/self.angsize())**2*pi/4 #not relevant for point sources?\n",
    "        return self.elecrate(source)*self.exposure\n",
    "\n",
    "    def pixnoise(self,out='e',sources=[],band=None):\n",
    "        '''noise in 1 pixel\n",
    "        \n",
    "        '''\n",
    "        if out=='e':\n",
    "            #from numpy import sqrt\n",
    "            bkgelec=self.pixnoise(out='phot',sources=sources)*self.get_sens(band) #should model spectrum (later)\n",
    "            return um.sqrt(self.readout**2+bkgelec)\n",
    "        rate=0\n",
    "        efsurface=self.tele.effective()*self.tele.reflectivity(band)\n",
    "        for sr in sources:\n",
    "            if sr.off: #straylight sources\n",
    "                rate+=sr.photrate(efsurface)*self.tele.stray\n",
    "            elif hasattr(sr,'radius'): #extended\n",
    "                rate+=sr.photrate(efsurface,self.angsize()**2)\n",
    "            else:\n",
    "                rate+=sr.photrate(efsurface)\n",
    "        if gtrack>1: print(f'{rate} photelectrons, {self.darkrate} dark, {self.readout} from readout')\n",
    "        rate+=self.darkrate\n",
    "        if 'zodiac' in self.tele.external: rate+=self.tele.external['zodiac'] #zodiac\n",
    "        return rate*self.exposure\n",
    "        \n",
    "    def psfnoise(self,sources=[],band=None,accum=1):\n",
    "        '''noise in some rounded number of pixels within PSF'''\n",
    "        nbpix=(self.tele.psf/self.angsize())**2*pi/4\n",
    "        nbpix=int(nbpix+0.5)\n",
    "        if gtrack>1: print(f'{nbpix} pixels')\n",
    "        bkgelec=nbpix*self.pixnoise(out='phot',sources=sources)*self.get_sens(band)#sensitivity[0] \n",
    "        \n",
    "        return um.sqrt(self.readout**2*nbpix*accum+bkgelec*accum)\n",
    "    \n",
    "    def expose(self,band,src,bkg,integ=0,accum=1):\n",
    "        '''calculate signal/noise'''\n",
    "        if integ>0: self.exposure=integ\n",
    "        sig=self.elecrate(src,band)*self.exposure*accum\n",
    "        noi=self.psfnoise([src]+bkg,band,accum)\n",
    "        return sig/noi\n",
    "\n",
    "    #return int(nbpix+0.5)*self.pixnoise('e',sources=sourccombineses)"
   ]
  },
  {
   "cell_type": "code",
   "execution_count": 4,
   "id": "5a785e12-6864-4276-84b8-f79f7e8bc8cb",
   "metadata": {},
   "outputs": [
    {
     "name": "stdout",
     "output_type": "stream",
     "text": [
      "9.096047074468798 9.152411621565435\n"
     ]
    }
   ],
   "source": [
    "class source():\n",
    "    jansky=1e-26 #W/m^2/Hz\n",
    "    evolt=1.602e-19\n",
    "    planck=6.626e-34\n",
    "    zeromag=8.9\n",
    "    def __init__(self,mag,freq=1.3e15,delta_freq=3.45e14,off=False):\n",
    "        self.mag=mag\n",
    "        self.freq=freq #Hz\n",
    "        self.delta_freq=delta_freq\n",
    "        self.off=off #outside FoV\n",
    "    def __repr__(self):\n",
    "        return f'src. {self.mag:.2f} mag'\n",
    "\n",
    "    def energy(self): #eV\n",
    "        return self.freq*self.planck/self.evolt\n",
    "    def flux(self,band=None): #W/m^2\n",
    "        return 10**(-0.4*(self.mag-self.zeromag))*(self.jansky/self.evolt)*self.delta_freq\n",
    "    def photrate(self,surface):\n",
    "        return self.flux()*surface/self.energy()\n",
    "    def invert(self,rate,surface,nsigma=0,expos=0):\n",
    "        '''get magnitude from photrate\n",
    "        if nsigma>0: rate is bkgrate, compute signal for nsigma significance'''\n",
    "        eflux=rate/surface*self.energy()\n",
    "        eflux/=(self.jansky/self.evolt)*self.delta_freq\n",
    "        return -np.log10(eflux)/0.4+self.refmag\n",
    "    \n",
    "class extsource(source):\n",
    "    '''for extended sources\n",
    "    using surface density (in magnitude)\n",
    "    '''\n",
    "    radius=10\n",
    "    def __init__(self,mag,freq=1.3e15,delta_freq=3.45e14,off=False):\n",
    "        super().__init__(mag,freq,delta_freq)\n",
    "        \n",
    "    def __repr__(self):\n",
    "        return f'field src. {self.mag:.2f} mag/sq.\"'\n",
    "    \n",
    "    def photrate(self,surface,angsize=None):\n",
    "        if angsize==None: #total magnitude?\n",
    "                return self.flux()*surface/self.energy()\n",
    "        return self.flux()*surface/self.energy()*angsize\n",
    "    \n",
    "#gsense_6060=detector(10,6144,tele=modelA,sens=[.50,.45]) # 2 bands\n",
    "gsense_4040=detector(9,4096,tele=modelA,sens=gsens_tab) # 2 bands\n",
    "gsense_4040.darkrate=3 #e/pix/s\n",
    "gsense_4040.darkrate=0.3 #e/pix/s\n",
    "gsense_4040.darkrate=0.04 #e/pix/s @ -40 oC\n",
    "gsense_4040.readout=3.9 #rms\n",
    "gsense_4040.bandlims=[[200,260],[260,400]]\n",
    "modelA.psf=2.5\n",
    "print(gsense_4040.psfnoise(),gsense_4040.psfnoise(band=1))"
   ]
  },
  {
   "cell_type": "code",
   "execution_count": 5,
   "id": "da71cee6-1d46-49a0-8321-61d5b103d38d",
   "metadata": {},
   "outputs": [
    {
     "data": {
      "text/plain": [
       "3059.6454659793576"
      ]
     },
     "execution_count": 5,
     "metadata": {},
     "output_type": "execute_result"
    }
   ],
   "source": [
    "galexample=extsource(25)\n",
    "galfield=[extsource(m,off=True) for m in np.random.randn(10)*2+18] #contribute to straylight\n",
    "\n",
    "efsurf=200e-4\n",
    "src_phot=source(22).photrate(efsurf)*600#,efsurf\n",
    "bkg_sig=src_phot/5\n",
    "bkg_mean=bkg_sig**2\n",
    "bkg_mean"
   ]
  },
  {
   "cell_type": "code",
   "execution_count": 6,
   "id": "35273d1b-7d31-4587-a400-469a059ceda3",
   "metadata": {},
   "outputs": [
    {
     "data": {
      "text/plain": [
       "5.967485951161032+/-0.10306904459515981"
      ]
     },
     "execution_count": 6,
     "metadata": {},
     "output_type": "execute_result"
    }
   ],
   "source": [
    "det=gsense_4040\n",
    "det.expose(0,source(20),[extsource(24)],10,accum=12) #sig2noise"
   ]
  },
  {
   "cell_type": "markdown",
   "id": "1817c6fd-21ec-43e0-9841-e3dd2d0f1c41",
   "metadata": {},
   "source": [
    "Efficiency combines\n",
    "- transmission \n",
    "  - mirrors (reflectivity)\n",
    "  - corrector\n",
    "  - beamsplitter (reflect/trans)"
   ]
  },
  {
   "cell_type": "code",
   "execution_count": 14,
   "id": "f348af8b-7625-428a-ba5a-dfe37cb61a4b",
   "metadata": {},
   "outputs": [
    {
     "data": {
      "text/plain": [
       "2.671721993505953"
      ]
     },
     "execution_count": 14,
     "metadata": {},
     "output_type": "execute_result"
    }
   ],
   "source": [
    "nsigma_from_proposal=120*2.5/np.sqrt(120*100+10*4*gsense_4040.readout**2)\n",
    "nsigma_from_proposal"
   ]
  },
  {
   "cell_type": "code",
   "execution_count": 11,
   "id": "bd7ef771-26ab-4ee9-8968-e9f82b3fba1e",
   "metadata": {},
   "outputs": [
    {
     "data": {
      "text/plain": [
       "0.30792151621017644+/-0.003582664567779339"
      ]
     },
     "execution_count": 11,
     "metadata": {},
     "output_type": "execute_result"
    }
   ],
   "source": [
    "det.expose(1,source(19),galfield,5,accum=12)"
   ]
  },
  {
   "cell_type": "markdown",
   "id": "d9896a80-8a97-46bf-b3c3-a65c8e885a01",
   "metadata": {},
   "source": [
    "### PSF dependance"
   ]
  },
  {
   "cell_type": "code",
   "execution_count": 19,
   "id": "7070cd58-d7fc-47cc-9106-4d4e076d94b1",
   "metadata": {},
   "outputs": [
    {
     "data": {
      "image/png": "[encoded data removed]",
      "text/plain": [
       "<Figure size 432x288 with 1 Axes>"
      ]
     },
     "metadata": {
      "needs_background": "light"
     },
     "output_type": "display_data"
    }
   ],
   "source": [
    "#different accumulations and exposures\n",
    "getval=lambda dval:getattr(dval,'n',dval)\n",
    "texpos=[40,120,600]\n",
    "from matplotlib import pyplot as pl\n",
    "#gsense_4040.exposure=100\n",
    "compa=[]\n",
    "for ac in [60,120,300]: #accumulation\n",
    "    for b in [25]:#,22,23,24,25]:\n",
    "        for ex in texpos:\n",
    "            gsense_4040.exposure=ex/float(ac)\n",
    "            pep,rep=[],[]\n",
    "            bkg=[extsource(b)]\n",
    "            gtrack=0\n",
    "            for i in range(20):\n",
    "                modelA.psf=2+i*0.2\n",
    "                pep.append(2+i*0.2)\n",
    "                rep.append(gsense_4040.psfnoise(bkg,accum=ac))\n",
    "            pl.plot(pep,[getval(r) for r in rep],label=f'{ex}s ac{ac}')\n",
    "            compa.append(np.array([getval(r) for r in rep]))\n",
    "pl.xlabel(\"psf [arcsec]\")\n",
    "pl.ylabel(\"bkg. elec\")\n",
    "leg=pl.legend()"
   ]
  },
  {
   "cell_type": "markdown",
   "id": "fb74c971-c01b-478e-a9a1-6e1190053336",
   "metadata": {},
   "source": [
    "now calculate limiting magnitude estimates using bkg. galaxy with 25 mag./square arcsec, wanting 5 $\\sigma$ detection"
   ]
  },
  {
   "cell_type": "code",
   "execution_count": 124,
   "id": "c001f663-02b7-42ca-b01e-9767931f25ca",
   "metadata": {},
   "outputs": [
    {
     "data": {
      "image/png": "[encoded data removed]",
      "text/plain": [
       "<Figure size 432x288 with 1 Axes>"
      ]
     },
     "metadata": {
      "needs_background": "light"
     },
     "output_type": "display_data"
    }
   ],
   "source": [
    "nsig=5\n",
    "band=0\n",
    "tele=modelA\n",
    "ex1=source(21)\n",
    "efsurf=tele.effective()*tele.reflectivity(band)\n",
    "for i,a in enumerate(compa):\n",
    "    pl.plot(pep,ex1.invert(a*nsig/texpos[i%3],efsurf.n))\n",
    "    b=quads(1/nsig**2,-1,-a**2)\n",
    "    pl.plot(pep,ex1.invert(b/texpos[i%3],efsurf.n))\n",
    "pl.ylim(23,18)\n",
    "pl.xlabel(\"psf [arcsec]\")\n",
    "pl.ylabel(\"lim. mag\")\n",
    "pl.title(f'{nsig} sigma, bkg. surf 25 mag')\n",
    "#(np.array([getval(r) for r in rep])*nsig/100)\n",
    "pl.legend([t.get_text() for t in leg.get_texts()])\n",
    "pl.grid()"
   ]
  },
  {
   "cell_type": "raw",
   "id": "69cc6bce-bfb8-4bc5-8c1a-bbd6c64ff30e",
   "metadata": {},
   "source": [
    "nsig=5\n",
    "# sometimes (for stronger sources/big readout noise) needs a correction\n",
    "quads=lambda a,b,c:(np.sqrt(b**2-4*a*c)-b)/2/a\n",
    "bel=compa[3] #nb. background electrons\n",
    "ro=60*gsense_4040.readout\n",
    "esig=quads(1/nsig**2,-1,-bel**2)\n",
    "bel*nsig,esig#=quads(1/nsig**2,-1,-bel-ro**2)\n",
    "#quads(1,-2*nsig*ro,(ro**2-(bel-ro)**2)*nsig**2)"
   ]
  },
  {
   "cell_type": "markdown",
   "id": "d8e3afe8-f086-429d-a8a3-5b908db573b8",
   "metadata": {},
   "source": [
    "Cell aboves gives a solution for source electron count $e_s$ from equation\n",
    "\n",
    "$$\\sigma=\\frac{e_s}{\\sqrt{e_s+e_b+r_o^2}}$$\n",
    "\n",
    "$e_b$ is background \"electrons\", $r_o$ is readout RMS.\n",
    "\n",
    "This is true if we subtract background as some 2-D interpolation (small gaussian uncertainty); if pre-measured $e_b$ is subtracted (with Poissonian noise), the denominator reads $\\sqrt{e_s+2\\ e_b+r_o^2}$."
   ]
  },
  {
   "cell_type": "markdown",
   "id": "141f812a-e34e-4787-a4f6-e88bddad3462",
   "metadata": {},
   "source": [
    "**Magnitude error** is directly related to (inverse) signal-to-noise ratio \n",
    "$$\\Delta m = 1.086 \\frac{\\mathrm{Noise}}{\\mathrm{Sig}}  = 1.086 \\frac{\\sqrt{\\left[(F(m_b)+Z)\\ \\Omega\\ S_{e} + F(m_s)\\ S_{e} + DN\\right]T + R_o^2\\frac{T}{\\tau} N} }{F(m_s)\\ S_{e}T}$$\n",
    "\n",
    "where \n",
    "\n",
    "- $S_{e}$ is effective surface (incl. quantum efficiency, so photons are converted to photoelectrons)\n",
    "- $\\tau$ is read-out time (period), $R_o$ is read-out noise (RMS)\n",
    "- $\\Omega=N\\ \\phi^2$ is angular surface of $N$ pixels involved (nb. of pixels to be included in magnitude estimation depends on effective PSF\n",
    "- $D$ is dark current (e/s) of 1 pixel\n",
    "- $Z$ is zodiacal light density (using some sky-average value)\n",
    "\n",
    "$F(m_s)$ and $F(m_b)$ are fluxes for source and flux densities (/arcsec${}^2$) for background, respectively, following the formula\n",
    "\n",
    "$$F(m)=10^{2/5\\ (m_0-m)} F_0$$ with convenient zeropoint magnitude $m_0$ (depending on spectral region).\n",
    "\n",
    "From that (bringing exposure time to the left side) \n",
    "$$q^2\\ T \\Delta m^2= \\frac{\\left[(F(m_b)+Z)\\ \\phi^2\\ S_{e} + D + \\frac{R_o^2}{\\tau} \\right] N + F(m_s)\\ S_{e}}{F(m_s)^2\\ S_e^2}$$\n",
    "\n",
    "$q=\\ln(10)\\ 0.4 = 1/1.086$"
   ]
  },
  {
   "cell_type": "markdown",
   "id": "bfbd7b32-d815-4308-b38a-9bc3fdce2fac",
   "metadata": {},
   "source": [
    "Solving for $S_e$ is a quadratic equation with\n",
    "\n",
    "$$a=q^2\\ F(m_s)^2 T \\Delta m^2$$\n",
    "$$b= [(F(m_b)+Z)\\ \\phi^2\\ N]+ F(m_s)$$\n",
    "$$c= (D + \\frac{R_o^2}{\\tau})\\ N$$"
   ]
  },
  {
   "cell_type": "code",
   "execution_count": 16,
   "id": "3675293a-142d-4a07-ad67-a8c73056b9b5",
   "metadata": {},
   "outputs": [
    {
     "data": {
      "text/plain": [
       "(2.3425891448191614, 0.9583215514352043+/-0.022286547707795448)"
      ]
     },
     "execution_count": 16,
     "metadata": {},
     "output_type": "execute_result"
    }
   ],
   "source": [
    "srb=source(22)\n",
    "q=np.log(10)*0.4\n",
    "delta=0.2\n",
    "tele=modelA\n",
    "band=1\n",
    "efsurface=tele.effective()*tele.reflectivity(band)\n",
    "srb.photrate(efsurface),efsurface\n",
    "det.elecount(srb).n,srb.photrate(efsurface)"
   ]
  },
  {
   "cell_type": "code",
   "execution_count": 338,
   "id": "c34a29a6-f759-4470-b56e-03172d78aeed",
   "metadata": {},
   "outputs": [
    {
     "data": {
      "text/plain": [
       "1"
      ]
     },
     "execution_count": 338,
     "metadata": {},
     "output_type": "execute_result"
    }
   ],
   "source": [
    "srb.photrate(nrsurf)*det.get_sens(1)\n",
    "#srb.photrate\n",
    "gsense_4040.exposure"
   ]
  },
  {
   "cell_type": "code",
   "execution_count": 315,
   "id": "74c0d5f4-36a7-490b-8661-2d567dd2a915",
   "metadata": {},
   "outputs": [
    {
     "data": {
      "text/plain": [
       "6036.537004701536+/-268.11965788675917"
      ]
     },
     "execution_count": 315,
     "metadata": {},
     "output_type": "execute_result"
    }
   ],
   "source": [
    "(det.psfnoise([srb,bga])/det.elecrate(srb)/delta/q)**2"
   ]
  },
  {
   "cell_type": "code",
   "execution_count": 18,
   "id": "eb353ff6-a4e4-4ffd-ab0b-d0d43c3a40be",
   "metadata": {},
   "outputs": [
    {
     "data": {
      "text/plain": [
       "(1167.4988326985106, 1180.2083000795164)"
      ]
     },
     "execution_count": 18,
     "metadata": {},
     "output_type": "execute_result"
    }
   ],
   "source": [
    "det=gsense_4040\n",
    "bga=extsource(23)\n",
    "quads=lambda a,b,c:(np.sqrt(b**2-4*a*c)-b)/2/a\n",
    "\n",
    "#srb.photrate(efsurface),gsense_4040.elecount(srb)\n",
    "#quads2=lambda a,b,c:(-np.sqrt(b**2-4*a*c)-b)/2/a\n",
    "def calc_surface(delta,expos=120,sr_mag=21,npix=4,integ=4,band=1):\n",
    "    '''delta=noise/signal\n",
    "    returns eff. surface in cm^2\n",
    "    '''\n",
    "    srb=source(sr_mag)\n",
    "    pixnoise=det.darkrate*npix+det.readout**2*npix/integ\n",
    "    qe=det.get_sens(band)\n",
    "    ind2=[0,-det.angsize()**2*bga.photrate(surface=1)*npix*qe,-pixnoise]\n",
    "    ind2[0]=(delta*srb.photrate(surface=1)*qe)**2*expos\n",
    "    ind2[1]+=srb.photrate(surface=1)*qe\n",
    "    return quads(*ind2)*1e4\n",
    "calc_surface(0.1,npix=4),calc_surface(0.1,npix=9,expos=300)"
   ]
  },
  {
   "cell_type": "markdown",
   "id": "93676437-4e6a-4c90-9469-274564ef9de3",
   "metadata": {},
   "source": [
    "## import STM"
   ]
  },
  {
   "cell_type": "code",
   "execution_count": 62,
   "id": "8ac13450-c793-43ed-bbcf-c6d78df99d59",
   "metadata": {},
   "outputs": [
    {
     "data": {
      "text/plain": [
       "array([22., 17., 17., 17., 17., 17., 19., 19., 19., 20., 21., 21., 21.,\n",
       "       23., 23., 24.])"
      ]
     },
     "execution_count": 62,
     "metadata": {},
     "output_type": "execute_result"
    }
   ],
   "source": [
    "import pandas as pd\n",
    "cols=[0,1,2]+list(range(3,11,2))+[11,13,14,16]+list(range(17,28,2))\n",
    "fultab=pd.read_excel(\"/home/limu/Documents/Space/QUVIK/Science/STM_combined.xlsx\",usecols=cols,skiprows=[1])\n",
    "ql=[a for a in fultab.mag_max if a!=float('nan')]#pd.NaN]\n",
    "#type(ql[1])\n",
    "zoo=np.array(ql).astype(float)\n",
    "zsel=np.isnan(zoo)==False\n",
    "zoo[zsel]#fultab.mag_max"
   ]
  },
  {
   "cell_type": "code",
   "execution_count": 63,
   "id": "debe4a98-a8d5-4ca4-b81a-f643c821f201",
   "metadata": {},
   "outputs": [
    {
     "data": {
      "text/plain": [
       "Index(['ON', 'WG', 'Objective', 'PSF', 'FOV', 'PhotPrecision', 'ObsLatency',\n",
       "       'ObsDuration', 'band1', 'band2', 'mag_min', 'mag_max', 'S2N',\n",
       "       'PhotAccuracy', 'ObsStrategy', 'target rate', 'img_rate'],\n",
       "      dtype='object')"
      ]
     },
     "execution_count": 63,
     "metadata": {},
     "output_type": "execute_result"
    }
   ],
   "source": [
    "fultab.columns"
   ]
  },
  {
   "cell_type": "code",
   "execution_count": 20,
   "id": "ae62f7cd-74f6-4c57-b7dd-c1ef609dd29a",
   "metadata": {},
   "outputs": [],
   "source": [
    "prec=fultab.PhotPrecision.to_numpy()\n",
    "prec2=1/fultab.S2N.to_numpy()\n",
    "nsel=(np.isnan(prec2)==False)\n",
    "prec[nsel]=prec2[nsel]\n",
    "\n",
    "expo=fultab.ObsDuration.to_numpy()\n",
    "expo2=fultab.ObsLatency.to_numpy()\n",
    "nsel=np.isnan(expo)*(np.isnan(expo2)==False)\n",
    "expo[nsel]=expo2[nsel]"
   ]
  },
  {
   "cell_type": "code",
   "execution_count": 54,
   "id": "2c7430d9-b8c2-4690-96c2-2f1121c322bc",
   "metadata": {},
   "outputs": [
    {
     "data": {
      "text/plain": [
       "(0.04609505174982449, 0.092190103499649)"
      ]
     },
     "execution_count": 54,
     "metadata": {},
     "output_type": "execute_result"
    }
   ],
   "source": [
    "#(np.sqrt(nois)/(srb.photrate(surface=nrsurf)*prec[10]*q))**2/3600\n",
    "source(17).photrate(surface=nrsurf)*1e-3,source(22).photrate(surface=nrsurf)*0.2"
   ]
  },
  {
   "cell_type": "code",
   "execution_count": 67,
   "id": "0b8cc059-b14c-4c07-88da-d2b9ed63f9d1",
   "metadata": {},
   "outputs": [],
   "source": [
    "nsel=np.isnan(prec)==False\n",
    "pos=np.where(nsel*zsel)[0]\n",
    "#expos=fultab.ObsLatency\n",
    "surfs=[]\n",
    "surfg=[]\n",
    "limex=[]\n",
    "integ=10\n",
    "npix=4\n",
    "nrsurf=0.0200 #normalized surface\n",
    "qe=det.get_sens(1) #already included in nrsurf\n",
    "for i in pos:\n",
    "    surfs.append(int(calc_surface(delta=prec[i],expos=expo[i]*60,sr_mag=zoo[i],npix=4,integ=integ)))\n",
    "    surfg.append(int(calc_surface(delta=prec[i],expos=1,sr_mag=zoo[i],npix=4,integ=1)))\n",
    "    nois=(det.darkrate*npix+det.readout**2*npix/integ)\n",
    "    nois+=det.angsize()**2*bga.photrate(surface=nrsurf)*npix\n",
    "    src=source(zoo[i])\n",
    "    nois+=src.photrate(surface=nrsurf)\n",
    "    limex.append(nois/(src.photrate(surface=nrsurf)*prec[i]*q)**2/60)\n",
    "limex=(np.array(limex)*10).astype('int')/10"
   ]
  },
  {
   "cell_type": "code",
   "execution_count": 71,
   "id": "5c4651a8-3785-41c7-a2bf-4a38f9310c84",
   "metadata": {},
   "outputs": [
    {
     "data": {
      "text/html": [
       "<div>\n",
       "<style scoped>\n",
       "    .dataframe tbody tr th:only-of-type {\n",
       "        vertical-align: middle;\n",
       "    }\n",
       "\n",
       "    .dataframe tbody tr th {\n",
       "        vertical-align: top;\n",
       "    }\n",
       "\n",
       "    .dataframe thead th {\n",
       "        text-align: right;\n",
       "    }\n",
       "</style>\n",
       "<table border=\"1\" class=\"dataframe\">\n",
       "  <thead>\n",
       "    <tr style=\"text-align: right;\">\n",
       "      <th></th>\n",
       "      <th>group</th>\n",
       "      <th>objective</th>\n",
       "      <th>magnitude</th>\n",
       "      <th>surf_1s</th>\n",
       "      <th>opt_expo</th>\n",
       "      <th>repeat</th>\n",
       "      <th>expo_200cm</th>\n",
       "      <th>opt_surf</th>\n",
       "      <th>band1</th>\n",
       "      <th>band2</th>\n",
       "    </tr>\n",
       "  </thead>\n",
       "  <tbody>\n",
       "    <tr>\n",
       "      <th>0</th>\n",
       "      <td>KN</td>\n",
       "      <td>kilonovae detection</td>\n",
       "      <td>22.0</td>\n",
       "      <td>40438</td>\n",
       "      <td>60.0</td>\n",
       "      <td>16</td>\n",
       "      <td>17.2</td>\n",
       "      <td>179</td>\n",
       "      <td>200-260</td>\n",
       "      <td>260-400</td>\n",
       "    </tr>\n",
       "    <tr>\n",
       "      <th>2</th>\n",
       "      <td>ST</td>\n",
       "      <td>BA star surface</td>\n",
       "      <td>17.0</td>\n",
       "      <td>529</td>\n",
       "      <td>5.0</td>\n",
       "      <td>288</td>\n",
       "      <td>490.8</td>\n",
       "      <td>54</td>\n",
       "      <td>both needed</td>\n",
       "      <td>NaN</td>\n",
       "    </tr>\n",
       "    <tr>\n",
       "      <th>4</th>\n",
       "      <td>ST</td>\n",
       "      <td>peculiar warps</td>\n",
       "      <td>17.0</td>\n",
       "      <td>529</td>\n",
       "      <td>1.0</td>\n",
       "      <td>1440</td>\n",
       "      <td>490.8</td>\n",
       "      <td>54</td>\n",
       "      <td>both needed, UV prefer</td>\n",
       "      <td>NaN</td>\n",
       "    </tr>\n",
       "    <tr>\n",
       "      <th>5</th>\n",
       "      <td>ST</td>\n",
       "      <td>wind instabil</td>\n",
       "      <td>17.0</td>\n",
       "      <td>529</td>\n",
       "      <td>0.5</td>\n",
       "      <td>2880</td>\n",
       "      <td>490.8</td>\n",
       "      <td>54</td>\n",
       "      <td>both needed, UV prefer</td>\n",
       "      <td>NaN</td>\n",
       "    </tr>\n",
       "    <tr>\n",
       "      <th>8</th>\n",
       "      <td>ST</td>\n",
       "      <td>cool SG loss</td>\n",
       "      <td>17.0</td>\n",
       "      <td>526</td>\n",
       "      <td>60.0</td>\n",
       "      <td>1</td>\n",
       "      <td>4.9</td>\n",
       "      <td>25</td>\n",
       "      <td>both needed</td>\n",
       "      <td>NaN</td>\n",
       "    </tr>\n",
       "    <tr>\n",
       "      <th>9</th>\n",
       "      <td>ST</td>\n",
       "      <td>pulsating models</td>\n",
       "      <td>17.0</td>\n",
       "      <td>529</td>\n",
       "      <td>5.0</td>\n",
       "      <td>288</td>\n",
       "      <td>490.8</td>\n",
       "      <td>54</td>\n",
       "      <td>both needed, UV</td>\n",
       "      <td>NaN</td>\n",
       "    </tr>\n",
       "    <tr>\n",
       "      <th>10</th>\n",
       "      <td>AG</td>\n",
       "      <td>disc model</td>\n",
       "      <td>19.0</td>\n",
       "      <td>3652</td>\n",
       "      <td>5.0</td>\n",
       "      <td>1</td>\n",
       "      <td>210.3</td>\n",
       "      <td>355</td>\n",
       "      <td>both needed</td>\n",
       "      <td>NaN</td>\n",
       "    </tr>\n",
       "    <tr>\n",
       "      <th>11</th>\n",
       "      <td>AG</td>\n",
       "      <td>TDE physics</td>\n",
       "      <td>19.0</td>\n",
       "      <td>3652</td>\n",
       "      <td>5.0</td>\n",
       "      <td>1</td>\n",
       "      <td>210.3</td>\n",
       "      <td>355</td>\n",
       "      <td>NaN</td>\n",
       "      <td>NaN</td>\n",
       "    </tr>\n",
       "    <tr>\n",
       "      <th>12</th>\n",
       "      <td>AG</td>\n",
       "      <td>change look</td>\n",
       "      <td>19.0</td>\n",
       "      <td>3652</td>\n",
       "      <td>5.0</td>\n",
       "      <td>1</td>\n",
       "      <td>210.3</td>\n",
       "      <td>355</td>\n",
       "      <td>-300</td>\n",
       "      <td>NaN</td>\n",
       "    </tr>\n",
       "    <tr>\n",
       "      <th>13</th>\n",
       "      <td>BN</td>\n",
       "      <td>symbiotic stats</td>\n",
       "      <td>20.0</td>\n",
       "      <td>10959</td>\n",
       "      <td>30.0</td>\n",
       "      <td>0</td>\n",
       "      <td>229.7</td>\n",
       "      <td>565</td>\n",
       "      <td>any</td>\n",
       "      <td>NaN</td>\n",
       "    </tr>\n",
       "    <tr>\n",
       "      <th>14</th>\n",
       "      <td>GB</td>\n",
       "      <td>early SED</td>\n",
       "      <td>21.0</td>\n",
       "      <td>11837</td>\n",
       "      <td>10.0</td>\n",
       "      <td>0</td>\n",
       "      <td>2.9</td>\n",
       "      <td>171</td>\n",
       "      <td>200-260</td>\n",
       "      <td>260-350</td>\n",
       "    </tr>\n",
       "    <tr>\n",
       "      <th>15</th>\n",
       "      <td>GB</td>\n",
       "      <td>redshift/extinction</td>\n",
       "      <td>21.0</td>\n",
       "      <td>11837</td>\n",
       "      <td>10.0</td>\n",
       "      <td>0</td>\n",
       "      <td>2.9</td>\n",
       "      <td>171</td>\n",
       "      <td>200-260</td>\n",
       "      <td>260-350</td>\n",
       "    </tr>\n",
       "    <tr>\n",
       "      <th>18</th>\n",
       "      <td>SN</td>\n",
       "      <td>CV strong episodic</td>\n",
       "      <td>21.0</td>\n",
       "      <td>33958</td>\n",
       "      <td>60.0</td>\n",
       "      <td>144</td>\n",
       "      <td>47.7</td>\n",
       "      <td>276</td>\n",
       "      <td>200-300</td>\n",
       "      <td>300-</td>\n",
       "    </tr>\n",
       "    <tr>\n",
       "      <th>19</th>\n",
       "      <td>NS</td>\n",
       "      <td>temp vs age</td>\n",
       "      <td>23.0</td>\n",
       "      <td>197991</td>\n",
       "      <td>60.0</td>\n",
       "      <td>0</td>\n",
       "      <td>104.5</td>\n",
       "      <td>470</td>\n",
       "      <td>both needed</td>\n",
       "      <td>NaN</td>\n",
       "    </tr>\n",
       "    <tr>\n",
       "      <th>20</th>\n",
       "      <td>NS</td>\n",
       "      <td>pulsar emission</td>\n",
       "      <td>23.0</td>\n",
       "      <td>197991</td>\n",
       "      <td>180.0</td>\n",
       "      <td>0</td>\n",
       "      <td>104.5</td>\n",
       "      <td>265</td>\n",
       "      <td>NaN</td>\n",
       "      <td>NaN</td>\n",
       "    </tr>\n",
       "    <tr>\n",
       "      <th>21</th>\n",
       "      <td>NS</td>\n",
       "      <td>FRB counterparts</td>\n",
       "      <td>24.0</td>\n",
       "      <td>1264167</td>\n",
       "      <td>180.0</td>\n",
       "      <td>0</td>\n",
       "      <td>649.3</td>\n",
       "      <td>707</td>\n",
       "      <td>any</td>\n",
       "      <td>NaN</td>\n",
       "    </tr>\n",
       "  </tbody>\n",
       "</table>\n",
       "</div>"
      ],
      "text/plain": [
       "   group            objective  magnitude  surf_1s  opt_expo  repeat  \\\n",
       "0     KN  kilonovae detection       22.0    40438      60.0      16   \n",
       "2     ST      BA star surface       17.0      529       5.0     288   \n",
       "4     ST       peculiar warps       17.0      529       1.0    1440   \n",
       "5     ST        wind instabil       17.0      529       0.5    2880   \n",
       "8     ST         cool SG loss       17.0      526      60.0       1   \n",
       "9     ST     pulsating models       17.0      529       5.0     288   \n",
       "10    AG           disc model       19.0     3652       5.0       1   \n",
       "11    AG          TDE physics       19.0     3652       5.0       1   \n",
       "12    AG          change look       19.0     3652       5.0       1   \n",
       "13    BN      symbiotic stats       20.0    10959      30.0       0   \n",
       "14    GB            early SED       21.0    11837      10.0       0   \n",
       "15    GB  redshift/extinction       21.0    11837      10.0       0   \n",
       "18    SN   CV strong episodic       21.0    33958      60.0     144   \n",
       "19    NS          temp vs age       23.0   197991      60.0       0   \n",
       "20    NS      pulsar emission       23.0   197991     180.0       0   \n",
       "21    NS     FRB counterparts       24.0  1264167     180.0       0   \n",
       "\n",
       "    expo_200cm  opt_surf                   band1    band2  \n",
       "0         17.2       179                 200-260  260-400  \n",
       "2        490.8        54             both needed      NaN  \n",
       "4        490.8        54  both needed, UV prefer      NaN  \n",
       "5        490.8        54  both needed, UV prefer      NaN  \n",
       "8          4.9        25             both needed      NaN  \n",
       "9        490.8        54         both needed, UV      NaN  \n",
       "10       210.3       355             both needed      NaN  \n",
       "11       210.3       355                     NaN      NaN  \n",
       "12       210.3       355                    -300      NaN  \n",
       "13       229.7       565                     any      NaN  \n",
       "14         2.9       171                 200-260  260-350  \n",
       "15         2.9       171                 200-260  260-350  \n",
       "18        47.7       276                 200-300     300-  \n",
       "19       104.5       470             both needed      NaN  \n",
       "20       104.5       265                     NaN      NaN  \n",
       "21       649.3       707                     any      NaN  "
      ]
     },
     "execution_count": 71,
     "metadata": {},
     "output_type": "execute_result"
    }
   ],
   "source": [
    "obje,wg=fultab.Objective[pos],fultab.WG[pos]\n",
    "repe=(fultab.img_rate[pos].to_numpy()*16).astype(int)\n",
    "repe[repe<0]=0\n",
    "outab={'group':wg,'objective':obje,'magnitude':zoo[pos],'surf_1s':surfg,'opt_expo':expo[pos],'repeat':repe,'expo_200cm':limex,'opt_surf':surfs}\n",
    "outab['band1']=fultab.band1[pos]\n",
    "outab['band2']=fultab.band2[pos]\n",
    "outframe=pd.DataFrame(data=outab)\n",
    "outframe"
   ]
  },
  {
   "cell_type": "code",
   "execution_count": 72,
   "id": "43d09f32-8736-47f1-9cf2-6188451facc4",
   "metadata": {},
   "outputs": [],
   "source": [
    "outframe.to_excel(\"/home/limu/Documents/Space/QUVIK/Science/Science_requirem.xlsx\")"
   ]
  },
  {
   "cell_type": "code",
   "execution_count": 184,
   "id": "9ebe38bf-f4c3-42e9-88eb-13f49550e35a",
   "metadata": {},
   "outputs": [
    {
     "data": {
      "text/plain": [
       "7"
      ]
     },
     "execution_count": 184,
     "metadata": {},
     "output_type": "execute_result"
    }
   ],
   "source": [
    "wsel=(fultab.WG=='ST')\n",
    "too=fultab.ObsStrategy=='ToO'\n",
    "sum(too)"
   ]
  },
  {
   "cell_type": "code",
   "execution_count": 125,
   "id": "bdf63161-201a-49ee-8401-797b62a48e62",
   "metadata": {},
   "outputs": [
    {
     "data": {
      "image/png": "[encoded data removed]",
      "text/plain": [
       "<Figure size 432x288 with 1 Axes>"
      ]
     },
     "metadata": {
      "needs_background": "light"
     },
     "output_type": "display_data"
    }
   ],
   "source": [
    "#different accumulations and exposures\n",
    "getval=lambda dval:getattr(dval,'n',dval)\n",
    "texpos=[120]\n",
    "from matplotlib import pyplot as pl\n",
    "#gsense_4040.exposure=100\n",
    "compa=[]\n",
    "for ac in [60,120]: #accumulation\n",
    "    for b in [24,25,26]:#,22,23,24,25]:\n",
    "        for ex in texpos:\n",
    "            gsense_4040.exposure=ex/float(ac)\n",
    "            pep,rep=[],[]\n",
    "            bkg=[extsource(b)]\n",
    "            gtrack=0\n",
    "            for i in range(20):\n",
    "                modelA.psf=2+i*0.2\n",
    "                pep.append(2+i*0.2)\n",
    "                rep.append(gsense_4040.psfnoise(bkg,accum=ac))\n",
    "            pl.plot(pep,[getval(r) for r in rep],label=f'{b}mag ac{ac}')\n",
    "            compa.append(np.array([getval(r) for r in rep]))\n",
    "pl.xlabel(\"psf [arcsec]\")\n",
    "pl.ylabel(\"bkg. elec\")\n",
    "leg=pl.legend()"
   ]
  },
  {
   "cell_type": "code",
   "execution_count": 102,
   "id": "c6f98924-a7d1-43e7-ab94-46d5ea0d3a92",
   "metadata": {},
   "outputs": [
    {
     "data": {
      "text/plain": [
       "<matplotlib.legend.Legend at 0x7f78bff072e0>"
      ]
     },
     "execution_count": 102,
     "metadata": {},
     "output_type": "execute_result"
    },
    {
     "data": {
      "image/png": "[encoded data removed]",
      "text/plain": [
       "<Figure size 432x288 with 1 Axes>"
      ]
     },
     "metadata": {
      "needs_background": "light"
     },
     "output_type": "display_data"
    }
   ],
   "source": [
    "nsig=5\n",
    "band=0\n",
    "tele=modelA\n",
    "ex1=source(21)\n",
    "efsurf=tele.effective()*tele.reflectivity(band)\n",
    "for i,a in enumerate(compa):\n",
    "    b=quads(1/nsig**2,-1,-a**2)\n",
    "    pl.plot(pep,ex1.invert(a*nsig/texpos[0],efsurf.n))\n",
    "    pl.plot(pep,ex1.invert(b/texpos[0],efsurf.n),':')\n",
    "pl.ylim(22,20)\n",
    "pl.xlabel(\"psf [arcsec]\")\n",
    "pl.ylabel(\"lim. mag\")\n",
    "pl.title(f'{nsig} sigma, 120s exposure')\n",
    "#(np.array([getval(r) for r in rep])*nsig/100)\n",
    "pl.legend([t.get_text() for t in leg.get_texts()])"
   ]
  },
  {
   "cell_type": "code",
   "execution_count": 9,
   "id": "cdf2fc7f-7ecd-42ce-b21b-3f647baa6d39",
   "metadata": {},
   "outputs": [
    {
     "data": {
      "text/plain": [
       "2.4211580267459185"
      ]
     },
     "execution_count": 9,
     "metadata": {},
     "output_type": "execute_result"
    }
   ],
   "source": [
    "#some play with straylights\n",
    "gsense_4040.darkrate=0.3\n",
    "modelA.external['zodiac']=1 #1 phot/sec/telescope\n",
    "gsense_4040.pixnoise()"
   ]
  },
  {
   "cell_type": "code",
   "execution_count": 21,
   "id": "11407699-ad0c-45fd-a216-2b4db9d59f8e",
   "metadata": {},
   "outputs": [
    {
     "ename": "ValueError",
     "evalue": "x and y must have same first dimension, but have shapes (20,) and (1,)",
     "output_type": "error",
     "traceback": [
      "\u001b[0;31m---------------------------------------------------------------------------\u001b[0m",
      "\u001b[0;31mValueError\u001b[0m                                Traceback (most recent call last)",
      "Input \u001b[0;32mIn [21]\u001b[0m, in \u001b[0;36m<cell line: 39>\u001b[0;34m()\u001b[0m\n\u001b[1;32m     37\u001b[0m     pl\u001b[38;5;241m.\u001b[39mgrid()\n\u001b[1;32m     38\u001b[0m     \u001b[38;5;28;01mreturn\u001b[39;00m compa\n\u001b[0;32m---> 39\u001b[0m out\u001b[38;5;241m=\u001b[39mplot_set([\u001b[38;5;241m25\u001b[39m])\n",
      "Input \u001b[0;32mIn [21]\u001b[0m, in \u001b[0;36mplot_set\u001b[0;34m(bkmags, texpos, nsig)\u001b[0m\n\u001b[1;32m     29\u001b[0m                 b\u001b[38;5;241m=\u001b[39mquads(\u001b[38;5;241m1\u001b[39m\u001b[38;5;241m/\u001b[39mnsig\u001b[38;5;241m*\u001b[39m\u001b[38;5;241m*\u001b[39m\u001b[38;5;241m2\u001b[39m,\u001b[38;5;241m-\u001b[39m\u001b[38;5;241m1\u001b[39m,\u001b[38;5;241m-\u001b[39ma\u001b[38;5;241m*\u001b[39m\u001b[38;5;241m*\u001b[39m\u001b[38;5;241m2\u001b[39m)[\u001b[38;5;241m0\u001b[39m]\n\u001b[1;32m     30\u001b[0m                 vals\u001b[38;5;241m.\u001b[39mappend(ex1\u001b[38;5;241m.\u001b[39minvert(b\u001b[38;5;241m/\u001b[39mex,efsurf\u001b[38;5;241m.\u001b[39mn))\n\u001b[0;32m---> 31\u001b[0m             \u001b[43mpl\u001b[49m\u001b[38;5;241;43m.\u001b[39;49m\u001b[43mplot\u001b[49m\u001b[43m(\u001b[49m\u001b[43mpep\u001b[49m\u001b[43m,\u001b[49m\u001b[43mvals\u001b[49m\u001b[43m,\u001b[49m\u001b[43mlabel\u001b[49m\u001b[38;5;241;43m=\u001b[39;49m\u001b[38;5;124;43mf\u001b[39;49m\u001b[38;5;124;43m'\u001b[39;49m\u001b[38;5;132;43;01m{\u001b[39;49;00m\u001b[43mex\u001b[49m\u001b[38;5;132;43;01m}\u001b[39;49;00m\u001b[38;5;124;43ms ac\u001b[39;49m\u001b[38;5;132;43;01m{\u001b[39;49;00m\u001b[43mac\u001b[49m\u001b[38;5;132;43;01m}\u001b[39;49;00m\u001b[38;5;124;43m'\u001b[39;49m\u001b[43m)\u001b[49m\n\u001b[1;32m     32\u001b[0m pl\u001b[38;5;241m.\u001b[39mylim(\u001b[38;5;241m23\u001b[39m,\u001b[38;5;241m18\u001b[39m)\n\u001b[1;32m     33\u001b[0m pl\u001b[38;5;241m.\u001b[39mxlabel(\u001b[38;5;124m\"\u001b[39m\u001b[38;5;124mpsf [arcsec]\u001b[39m\u001b[38;5;124m\"\u001b[39m)\n",
      "File \u001b[0;32m/usr/local/lib64/python3.10/site-packages/matplotlib/pyplot.py:2757\u001b[0m, in \u001b[0;36mplot\u001b[0;34m(scalex, scaley, data, *args, **kwargs)\u001b[0m\n\u001b[1;32m   2755\u001b[0m \u001b[38;5;129m@_copy_docstring_and_deprecators\u001b[39m(Axes\u001b[38;5;241m.\u001b[39mplot)\n\u001b[1;32m   2756\u001b[0m \u001b[38;5;28;01mdef\u001b[39;00m \u001b[38;5;21mplot\u001b[39m(\u001b[38;5;241m*\u001b[39margs, scalex\u001b[38;5;241m=\u001b[39m\u001b[38;5;28;01mTrue\u001b[39;00m, scaley\u001b[38;5;241m=\u001b[39m\u001b[38;5;28;01mTrue\u001b[39;00m, data\u001b[38;5;241m=\u001b[39m\u001b[38;5;28;01mNone\u001b[39;00m, \u001b[38;5;241m*\u001b[39m\u001b[38;5;241m*\u001b[39mkwargs):\n\u001b[0;32m-> 2757\u001b[0m     \u001b[38;5;28;01mreturn\u001b[39;00m \u001b[43mgca\u001b[49m\u001b[43m(\u001b[49m\u001b[43m)\u001b[49m\u001b[38;5;241;43m.\u001b[39;49m\u001b[43mplot\u001b[49m\u001b[43m(\u001b[49m\n\u001b[1;32m   2758\u001b[0m \u001b[43m        \u001b[49m\u001b[38;5;241;43m*\u001b[39;49m\u001b[43margs\u001b[49m\u001b[43m,\u001b[49m\u001b[43m \u001b[49m\u001b[43mscalex\u001b[49m\u001b[38;5;241;43m=\u001b[39;49m\u001b[43mscalex\u001b[49m\u001b[43m,\u001b[49m\u001b[43m \u001b[49m\u001b[43mscaley\u001b[49m\u001b[38;5;241;43m=\u001b[39;49m\u001b[43mscaley\u001b[49m\u001b[43m,\u001b[49m\n\u001b[1;32m   2759\u001b[0m \u001b[43m        \u001b[49m\u001b[38;5;241;43m*\u001b[39;49m\u001b[38;5;241;43m*\u001b[39;49m\u001b[43m(\u001b[49m\u001b[43m{\u001b[49m\u001b[38;5;124;43m\"\u001b[39;49m\u001b[38;5;124;43mdata\u001b[39;49m\u001b[38;5;124;43m\"\u001b[39;49m\u001b[43m:\u001b[49m\u001b[43m \u001b[49m\u001b[43mdata\u001b[49m\u001b[43m}\u001b[49m\u001b[43m \u001b[49m\u001b[38;5;28;43;01mif\u001b[39;49;00m\u001b[43m \u001b[49m\u001b[43mdata\u001b[49m\u001b[43m \u001b[49m\u001b[38;5;129;43;01mis\u001b[39;49;00m\u001b[43m \u001b[49m\u001b[38;5;129;43;01mnot\u001b[39;49;00m\u001b[43m \u001b[49m\u001b[38;5;28;43;01mNone\u001b[39;49;00m\u001b[43m \u001b[49m\u001b[38;5;28;43;01melse\u001b[39;49;00m\u001b[43m \u001b[49m\u001b[43m{\u001b[49m\u001b[43m}\u001b[49m\u001b[43m)\u001b[49m\u001b[43m,\u001b[49m\u001b[43m \u001b[49m\u001b[38;5;241;43m*\u001b[39;49m\u001b[38;5;241;43m*\u001b[39;49m\u001b[43mkwargs\u001b[49m\u001b[43m)\u001b[49m\n",
      "File \u001b[0;32m/usr/local/lib64/python3.10/site-packages/matplotlib/axes/_axes.py:1632\u001b[0m, in \u001b[0;36mAxes.plot\u001b[0;34m(self, scalex, scaley, data, *args, **kwargs)\u001b[0m\n\u001b[1;32m   1390\u001b[0m \u001b[38;5;124;03m\"\"\"\u001b[39;00m\n\u001b[1;32m   1391\u001b[0m \u001b[38;5;124;03mPlot y versus x as lines and/or markers.\u001b[39;00m\n\u001b[1;32m   1392\u001b[0m \n\u001b[0;32m   (...)\u001b[0m\n\u001b[1;32m   1629\u001b[0m \u001b[38;5;124;03m(``'green'``) or hex strings (``'#008000'``).\u001b[39;00m\n\u001b[1;32m   1630\u001b[0m \u001b[38;5;124;03m\"\"\"\u001b[39;00m\n\u001b[1;32m   1631\u001b[0m kwargs \u001b[38;5;241m=\u001b[39m cbook\u001b[38;5;241m.\u001b[39mnormalize_kwargs(kwargs, mlines\u001b[38;5;241m.\u001b[39mLine2D)\n\u001b[0;32m-> 1632\u001b[0m lines \u001b[38;5;241m=\u001b[39m [\u001b[38;5;241m*\u001b[39m\u001b[38;5;28mself\u001b[39m\u001b[38;5;241m.\u001b[39m_get_lines(\u001b[38;5;241m*\u001b[39margs, data\u001b[38;5;241m=\u001b[39mdata, \u001b[38;5;241m*\u001b[39m\u001b[38;5;241m*\u001b[39mkwargs)]\n\u001b[1;32m   1633\u001b[0m \u001b[38;5;28;01mfor\u001b[39;00m line \u001b[38;5;129;01min\u001b[39;00m lines:\n\u001b[1;32m   1634\u001b[0m     \u001b[38;5;28mself\u001b[39m\u001b[38;5;241m.\u001b[39madd_line(line)\n",
      "File \u001b[0;32m/usr/local/lib64/python3.10/site-packages/matplotlib/axes/_base.py:312\u001b[0m, in \u001b[0;36m_process_plot_var_args.__call__\u001b[0;34m(self, data, *args, **kwargs)\u001b[0m\n\u001b[1;32m    310\u001b[0m     this \u001b[38;5;241m+\u001b[39m\u001b[38;5;241m=\u001b[39m args[\u001b[38;5;241m0\u001b[39m],\n\u001b[1;32m    311\u001b[0m     args \u001b[38;5;241m=\u001b[39m args[\u001b[38;5;241m1\u001b[39m:]\n\u001b[0;32m--> 312\u001b[0m \u001b[38;5;28;01myield from\u001b[39;00m \u001b[38;5;28;43mself\u001b[39;49m\u001b[38;5;241;43m.\u001b[39;49m\u001b[43m_plot_args\u001b[49m\u001b[43m(\u001b[49m\u001b[43mthis\u001b[49m\u001b[43m,\u001b[49m\u001b[43m \u001b[49m\u001b[43mkwargs\u001b[49m\u001b[43m)\u001b[49m\n",
      "File \u001b[0;32m/usr/local/lib64/python3.10/site-packages/matplotlib/axes/_base.py:498\u001b[0m, in \u001b[0;36m_process_plot_var_args._plot_args\u001b[0;34m(self, tup, kwargs, return_kwargs)\u001b[0m\n\u001b[1;32m    495\u001b[0m     \u001b[38;5;28mself\u001b[39m\u001b[38;5;241m.\u001b[39maxes\u001b[38;5;241m.\u001b[39myaxis\u001b[38;5;241m.\u001b[39mupdate_units(y)\n\u001b[1;32m    497\u001b[0m \u001b[38;5;28;01mif\u001b[39;00m x\u001b[38;5;241m.\u001b[39mshape[\u001b[38;5;241m0\u001b[39m] \u001b[38;5;241m!=\u001b[39m y\u001b[38;5;241m.\u001b[39mshape[\u001b[38;5;241m0\u001b[39m]:\n\u001b[0;32m--> 498\u001b[0m     \u001b[38;5;28;01mraise\u001b[39;00m \u001b[38;5;167;01mValueError\u001b[39;00m(\u001b[38;5;124mf\u001b[39m\u001b[38;5;124m\"\u001b[39m\u001b[38;5;124mx and y must have same first dimension, but \u001b[39m\u001b[38;5;124m\"\u001b[39m\n\u001b[1;32m    499\u001b[0m                      \u001b[38;5;124mf\u001b[39m\u001b[38;5;124m\"\u001b[39m\u001b[38;5;124mhave shapes \u001b[39m\u001b[38;5;132;01m{\u001b[39;00mx\u001b[38;5;241m.\u001b[39mshape\u001b[38;5;132;01m}\u001b[39;00m\u001b[38;5;124m and \u001b[39m\u001b[38;5;132;01m{\u001b[39;00my\u001b[38;5;241m.\u001b[39mshape\u001b[38;5;132;01m}\u001b[39;00m\u001b[38;5;124m\"\u001b[39m)\n\u001b[1;32m    500\u001b[0m \u001b[38;5;28;01mif\u001b[39;00m x\u001b[38;5;241m.\u001b[39mndim \u001b[38;5;241m>\u001b[39m \u001b[38;5;241m2\u001b[39m \u001b[38;5;129;01mor\u001b[39;00m y\u001b[38;5;241m.\u001b[39mndim \u001b[38;5;241m>\u001b[39m \u001b[38;5;241m2\u001b[39m:\n\u001b[1;32m    501\u001b[0m     \u001b[38;5;28;01mraise\u001b[39;00m \u001b[38;5;167;01mValueError\u001b[39;00m(\u001b[38;5;124mf\u001b[39m\u001b[38;5;124m\"\u001b[39m\u001b[38;5;124mx and y can be no greater than 2D, but have \u001b[39m\u001b[38;5;124m\"\u001b[39m\n\u001b[1;32m    502\u001b[0m                      \u001b[38;5;124mf\u001b[39m\u001b[38;5;124m\"\u001b[39m\u001b[38;5;124mshapes \u001b[39m\u001b[38;5;132;01m{\u001b[39;00mx\u001b[38;5;241m.\u001b[39mshape\u001b[38;5;132;01m}\u001b[39;00m\u001b[38;5;124m and \u001b[39m\u001b[38;5;132;01m{\u001b[39;00my\u001b[38;5;241m.\u001b[39mshape\u001b[38;5;132;01m}\u001b[39;00m\u001b[38;5;124m\"\u001b[39m)\n",
      "\u001b[0;31mValueError\u001b[0m: x and y must have same first dimension, but have shapes (20,) and (1,)"
     ]
    },
    {
     "data": {
      "image/png": "[encoded data removed]",
      "text/plain": [
       "<Figure size 432x288 with 1 Axes>"
      ]
     },
     "metadata": {
      "needs_background": "light"
     },
     "output_type": "display_data"
    }
   ],
   "source": [
    "tele=modelA\n",
    "band=0\n",
    "tele.external['zodiac']=0.6\n",
    "#different accumulations and exposures\n",
    "getval=lambda dval:getattr(dval,'n',dval)\n",
    "efsurf=tele.effective()*tele.reflectivity(band)\n",
    "quads=lambda a,b,c:(np.sqrt(b**2-4*a*c)-b)/2/a\n",
    "\n",
    "def plot_set(bkmags=[25],texpos=[10,40,120],nsig=5):\n",
    "    ex1=source(21)\n",
    "    from matplotlib import pyplot as pl\n",
    "    #gsense_4040.exposure=100\n",
    "    compa=[]\n",
    "    for ac in [10,30]: #accumulation\n",
    "        for b in bkmags:#,22,23,24,25]:\n",
    "            for ex in texpos:\n",
    "                gsense_4040.exposure=ex/float(ac)\n",
    "                pep,rep=[],[]\n",
    "                bkg=[extsource(b)]\n",
    "                gtrack=0\n",
    "                for i in range(20):\n",
    "                    modelA.psf=2+i*0.2\n",
    "                    pep.append(2+i*0.2)\n",
    "                    rep.append(gsense_4040.psfnoise(bkg,accum=ac))\n",
    "                #pl.plot(pep,[getval(r) for r in rep],label=f'{ex}s ac{ac}')\n",
    "                compa.append(np.array([getval(r) for r in rep]))\n",
    "                vals=[]\n",
    "                for a in compa:\n",
    "                    b=quads(1/nsig**2,-1,-a**2)\n",
    "                    vals.append(ex1.invert(b/ex,efsurf.n))\n",
    "                pl.plot(pep,vals,label=f'{ex}s ac{ac}')\n",
    "    pl.ylim(23,18)\n",
    "    pl.xlabel(\"psf [arcsec]\")\n",
    "    pl.ylabel(\"lim. mag\")\n",
    "    pl.title(f'{nsig} sigma, bkg. surf %i mag'%bkmags[0])\n",
    "    pl.legend()\n",
    "    pl.grid()\n",
    "    return compa\n",
    "out=plot_set([25])"
   ]
  },
  {
   "cell_type": "code",
   "execution_count": 20,
   "id": "4df1fb4b-44f7-45d1-9254-81f7d0772b7b",
   "metadata": {},
   "outputs": [
    {
     "data": {
      "text/plain": [
       "[array([13.0947739 , 15.12054247, 15.12054247, 16.90528041, 18.51880684,\n",
       "        20.00259753, 21.38367623, 22.6808137 , 23.90767683, 25.074583  ,\n",
       "        26.18954779, 28.28794471, 29.28080458, 31.17179685, 32.07551434,\n",
       "        33.81056081, 34.6455152 , 36.25778711, 37.03761368, 38.54997055]),\n",
       " array([14.48421256, 16.72492804, 16.72492804, 18.69903801, 20.48376984,\n",
       "        22.12500015, 23.65262007, 25.08739206, 26.44443316, 27.73515548,\n",
       "        28.96842512, 31.28947528, 32.38768389, 34.47932245, 35.4789301 ,\n",
       "        37.39807602, 38.32162437, 40.10496856, 40.96753969, 42.64036722]),\n",
       " array([17.66287747, 20.39533412, 20.39533412, 22.80267676, 24.97908087,\n",
       "        26.980491  , 28.84335813, 30.59300119, 32.24785474, 33.82183538,\n",
       "        35.32575494, 38.15617629, 39.4953947 , 42.04605843, 43.26503719,\n",
       "        45.60535352, 46.73158122, 48.90629316, 49.95816174, 51.99810334]),\n",
       " array([22.11047497, 25.53097735, 25.53097735, 28.54450044, 31.26893357,\n",
       "        33.7743084 , 36.10625443, 38.29646603, 40.36801966, 42.3383362 ,\n",
       "        44.22094994, 47.764085  , 49.44052505, 52.63345817, 54.15938165,\n",
       "        57.08900089, 58.49881814, 61.221133  , 62.53786714, 65.09147586]),\n",
       " array([22.96067102, 26.51269918, 26.51269918, 29.64209882, 32.47129235,\n",
       "        35.07300431, 37.49461876, 39.76904878, 41.92025817, 43.96633769,\n",
       "        45.92134203, 49.60071837, 51.3416212 , 54.65732958, 56.24192814,\n",
       "        59.28419764, 60.74822544, 63.57521926, 64.9425847 , 67.59438525]),\n",
       " array([25.08739206, 28.96842512, 28.96842512, 32.38768389, 35.4789301 ,\n",
       "        38.32162437, 40.96753969, 43.45263768, 45.80310181, 48.03869845,\n",
       "        50.17478413, 54.19496092, 56.09711403, 59.71993829, 61.45130953,\n",
       "        64.77536777, 66.37500044, 69.46384319, 70.9578602 , 73.85528249])]"
      ]
     },
     "execution_count": 20,
     "metadata": {},
     "output_type": "execute_result"
    }
   ],
   "source": [
    "out"
   ]
  },
  {
   "cell_type": "code",
   "execution_count": null,
   "id": "1411796c-d9db-496a-bff7-108ef8e84b85",
   "metadata": {},
   "outputs": [],
   "source": [
    "out=plot_set([23])"
   ]
  },
  {
   "cell_type": "code",
   "execution_count": 28,
   "id": "de39a5dc-a620-4b6f-9044-2fa23ac4c414",
   "metadata": {},
   "outputs": [],
   "source": [
    "class observation():\n",
    "    def __init__(self,telescope,detector):\n",
    "        self.tele=telescope\n",
    "        self.detector=detector\n",
    "        self.detector.tele=self.tele"
   ]
  }
 ],
 "metadata": {
  "kernelspec": {
   "display_name": "Python 3 (ipykernel)",
   "language": "python",
   "name": "python3"
  },
  "language_info": {
   "codemirror_mode": {
    "name": "ipython",
    "version": 3
   },
   "file_extension": ".py",
   "mimetype": "text/x-python",
   "name": "python",
   "nbconvert_exporter": "python",
   "pygments_lexer": "ipython3",
   "version": "3.10.5"
  }
 },
 "nbformat": 4,
 "nbformat_minor": 5
}
