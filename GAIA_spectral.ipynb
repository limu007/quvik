{
 "cells": [
  {
   "cell_type": "markdown",
   "id": "d14ad076-d146-4848-ab73-57d46f75ff62",
   "metadata": {},
   "source": [
    "### GAIA entries for mock catalogue"
   ]
  },
  {
   "cell_type": "code",
   "execution_count": 85,
   "id": "b15c43a1-b1ca-4f8c-b5bd-a9dee6daa3eb",
   "metadata": {},
   "outputs": [],
   "source": [
    "from astroquery.gaia import Gaia\n",
    "import astropy.units as u\n",
    "from astropy.coordinates import SkyCoord\n",
    "Gaia.MAIN_GAIA_TABLE = \"gaiadr3.gaia_source\""
   ]
  },
  {
   "cell_type": "code",
   "execution_count": 86,
   "id": "71de25ed-0f8a-4cd6-a559-eda8b56aa715",
   "metadata": {},
   "outputs": [
    {
     "name": "stdout",
     "output_type": "stream",
     "text": [
      "INFO: Query finished. [astroquery.utils.tap.core]\n"
     ]
    }
   ],
   "source": [
    "coord = SkyCoord(ra=202.428, dec=-23.2813, unit=(u.degree, u.degree), frame='icrs')\n",
    "width = u.Quantity(0.1, u.arcmin)\n",
    "height = u.Quantity(0.1, u.arcmin)\n",
    "out=Gaia.query_object_async(coordinate=coord, width=width, height=height)"
   ]
  },
  {
   "cell_type": "code",
   "execution_count": 87,
   "id": "88748438-9a82-4e89-85d0-526ab8adf6cf",
   "metadata": {},
   "outputs": [
    {
     "data": {
      "text/plain": [
       "(3.1524858, 6195030801635544704)"
      ]
     },
     "execution_count": 87,
     "metadata": {},
     "output_type": "execute_result"
    }
   ],
   "source": [
    "rr=out[0]\n",
    "rr['phot_g_mean_mag'],rr['source_id']"
   ]
  },
  {
   "cell_type": "code",
   "execution_count": 89,
   "id": "ade1b84a-89ac-439c-beb0-9b21fe2fe8fb",
   "metadata": {},
   "outputs": [
    {
     "name": "stdout",
     "output_type": "stream",
     "text": [
      "Retrieving table 'gaiadr2.gaia_source'\n"
     ]
    }
   ],
   "source": [
    "table_metadata = Gaia.load_table('gaiadr2.gaia_source')"
   ]
  },
  {
   "cell_type": "code",
   "execution_count": 93,
   "id": "b12f3c54-a768-41b8-b8d9-c6c61619c4c0",
   "metadata": {},
   "outputs": [
    {
     "data": {
      "text/html": [
       "<div><i>Table length=10</i>\n",
       "<table id=\"table140016631463072\" class=\"table-striped table-bordered table-condensed\">\n",
       "<thead><tr><th>source_id</th><th>ra</th><th>dec</th><th>bp_g</th><th>g_rp</th></tr></thead>\n",
       "<thead><tr><th></th><th>deg</th><th>deg</th><th>mag</th><th>mag</th></tr></thead>\n",
       "<thead><tr><th>int64</th><th>float64</th><th>float64</th><th>float32</th><th>float32</th></tr></thead>\n",
       "<tr><td>4464195329654279808</td><td>243.36304525767025</td><td>13.332207539188948</td><td>0.34056473</td><td>0.5723648</td></tr>\n",
       "<tr><td>4464157602662621312</td><td>245.76072515952</td><td>15.362547713561668</td><td>1.2588463</td><td>1.1769485</td></tr>\n",
       "<tr><td>4464174164056625024</td><td>246.29390759706718</td><td>15.47257793268518</td><td>0.8492985</td><td>0.98810005</td></tr>\n",
       "<tr><td>4464158186777864192</td><td>246.11665685784646</td><td>15.1492979577105</td><td>0.74837875</td><td>1.2008171</td></tr>\n",
       "<tr><td>4464194092703698048</td><td>243.32130865040432</td><td>13.330617936122106</td><td>0.16804504</td><td>0.395895</td></tr>\n",
       "<tr><td>4464185571489765376</td><td>246.0771571149933</td><td>15.475361948153898</td><td>0.63736725</td><td>0.7810192</td></tr>\n",
       "<tr><td>4464057757557728512</td><td>246.0506722084623</td><td>14.64822560418678</td><td>0.3139248</td><td>0.82988167</td></tr>\n",
       "<tr><td>4464152311262771968</td><td>245.87683702199857</td><td>15.255548579139372</td><td>-0.027683258</td><td>0.5860615</td></tr>\n",
       "<tr><td>4464241268624812672</td><td>243.88258608658998</td><td>13.903782305036847</td><td>0.45589066</td><td>0.6631069</td></tr>\n",
       "<tr><td>4464064419051281024</td><td>246.39883051914418</td><td>14.80697876478872</td><td>0.27316856</td><td>0.9616833</td></tr>\n",
       "</table></div>"
      ],
      "text/plain": [
       "<Table length=10>\n",
       "     source_id              ra                dec             bp_g        g_rp   \n",
       "                           deg                deg             mag         mag    \n",
       "       int64             float64            float64         float32     float32  \n",
       "------------------- ------------------ ------------------ ------------ ----------\n",
       "4464195329654279808 243.36304525767025 13.332207539188948   0.34056473  0.5723648\n",
       "4464157602662621312    245.76072515952 15.362547713561668    1.2588463  1.1769485\n",
       "4464174164056625024 246.29390759706718  15.47257793268518    0.8492985 0.98810005\n",
       "4464158186777864192 246.11665685784646   15.1492979577105   0.74837875  1.2008171\n",
       "4464194092703698048 243.32130865040432 13.330617936122106   0.16804504   0.395895\n",
       "4464185571489765376  246.0771571149933 15.475361948153898   0.63736725  0.7810192\n",
       "4464057757557728512  246.0506722084623  14.64822560418678    0.3139248 0.82988167\n",
       "4464152311262771968 245.87683702199857 15.255548579139372 -0.027683258  0.5860615\n",
       "4464241268624812672 243.88258608658998 13.903782305036847   0.45589066  0.6631069\n",
       "4464064419051281024 246.39883051914418  14.80697876478872   0.27316856  0.9616833"
      ]
     },
     "execution_count": 93,
     "metadata": {},
     "output_type": "execute_result"
    }
   ],
   "source": [
    "cols=[c.name for c in table_metadata.columns]\n",
    "query1 = \"\"\"SELECT \n",
    "TOP 10\n",
    "source_id, ra, dec, bp_g, g_rp \n",
    "FROM gaiadr2.gaia_source\n",
    "\"\"\"\n",
    "#job1 = Gaia.launch_job_async(query1)\n",
    "job1 = Gaia.launch_job(query1)\n",
    "res1 = job1.get_results()\n",
    "res1\n",
    "#clr1=table_metadata['bp_g']"
   ]
  }
 ],
 "metadata": {
  "kernelspec": {
   "display_name": "Python 3 (ipykernel)",
   "language": "python",
   "name": "python3"
  },
  "language_info": {
   "codemirror_mode": {
    "name": "ipython",
    "version": 3
   },
   "file_extension": ".py",
   "mimetype": "text/x-python",
   "name": "python",
   "nbconvert_exporter": "python",
   "pygments_lexer": "ipython3",
   "version": "3.10.9"
  }
 },
 "nbformat": 4,
 "nbformat_minor": 5
}
