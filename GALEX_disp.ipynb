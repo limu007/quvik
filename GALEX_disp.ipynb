{
 "cells": [
  {
   "cell_type": "code",
   "execution_count": 2,
   "id": "6b593e2d-ea0e-452b-a3cf-6aab01c8ef66",
   "metadata": {},
   "outputs": [],
   "source": [
    "import numpy as np\n",
    "#open(\"q\n",
    "data=np.genfromtxt(\"/home/limu/Documents/Space/QUVIK/Work/feasibility/galex_catalog.txt\",skip_header=42,usecols=range(1,18))"
   ]
  },
  {
   "cell_type": "code",
   "execution_count": 3,
   "id": "9bf36678-04fc-41c0-bd6d-ca99306ee2d9",
   "metadata": {},
   "outputs": [],
   "source": [
    "sources=np.genfromtxt(\"/home/limu/Documents/Space/QUVIK/Work/feasibility/galex_sources.txt\",skip_header=55,usecols=range(1,13))\n",
    "snames=[a.split(' ')[0] for a in open(\"/home/limu/Documents/Space/QUVIK/Work/feasibility/galex_sources.txt\").readlines()[55:]]"
   ]
  },
  {
   "cell_type": "markdown",
   "id": "0c033197-8c73-48bf-af66-25b6614d34c6",
   "metadata": {},
   "source": [
    "- FUV Band eff. 152 nm\n",
    "- NUV Band eff. 226 nm"
   ]
  },
  {
   "cell_type": "code",
   "execution_count": 4,
   "id": "89260869-a400-4218-8466-747735b552b8",
   "metadata": {},
   "outputs": [
    {
     "data": {
      "text/plain": [
       "1929"
      ]
     },
     "execution_count": 4,
     "metadata": {},
     "output_type": "execute_result"
    }
   ],
   "source": [
    "sel=data[:,0]==12\n",
    "sum(sel)"
   ]
  },
  {
   "cell_type": "code",
   "execution_count": 5,
   "id": "2281ed41-4848-4f5a-9990-e5922d3896f2",
   "metadata": {},
   "outputs": [
    {
     "name": "stderr",
     "output_type": "stream",
     "text": [
      "WARNING: InputWarning: Coordinate string is being interpreted as an ICRS coordinate provided in degrees. [astroquery.utils.commons]\n"
     ]
    },
    {
     "name": "stdout",
     "output_type": "stream",
     "text": [
      "intentType obs_collection provenance_name ... srcDen  obsid       distance    \n",
      "---------- -------------- --------------- ... ------ ------- -----------------\n",
      "   science    SPITZER_SHA    SSC Pipeline ...    nan 1650015               0.0\n",
      "   science    SPITZER_SHA    SSC Pipeline ...    nan 1650015               0.0\n",
      "   science    SPITZER_SHA    SSC Pipeline ...    nan 1641350               0.0\n",
      "   science    SPITZER_SHA    SSC Pipeline ...    nan 1641350               0.0\n",
      "   science            PS1             3PI ... 5885.0 2236113               0.0\n",
      "   science            PS1             3PI ... 5885.0 2236114               0.0\n",
      "   science            PS1             3PI ... 5885.0 2236115               0.0\n",
      "   science            PS1             3PI ... 5885.0 2236116               0.0\n",
      "   science            PS1             3PI ... 5885.0 2236117               0.0\n",
      "   science            PS1             3PI ... 5885.0 2236063 4.996502168242004\n"
     ]
    }
   ],
   "source": [
    "from astroquery.vizier import Vizier\n",
    "from astroquery.mast import Observations\n",
    "obs_table = Observations.query_region(\"%.5f %.5f\"%tuple(sources[0][:2]))\n",
    "print(obs_table[:10])"
   ]
  },
  {
   "cell_type": "code",
   "execution_count": 7,
   "id": "b89a384b-24a7-4988-b7fb-a1d88e766821",
   "metadata": {},
   "outputs": [
    {
     "data": {
      "text/html": [
       "<i>Row index=25 masked=True</i>\n",
       "<table id=\"table140187698100832\">\n",
       "<thead><tr><th>intentType</th><th>obs_collection</th><th>provenance_name</th><th>instrument_name</th><th>project</th><th>filters</th><th>wavelength_region</th><th>target_name</th><th>target_classification</th><th>obs_id</th><th>s_ra</th><th>s_dec</th><th>dataproduct_type</th><th>proposal_pi</th><th>calib_level</th><th>t_min</th><th>t_max</th><th>t_exptime</th><th>em_min</th><th>em_max</th><th>obs_title</th><th>t_obs_release</th><th>proposal_id</th><th>proposal_type</th><th>sequence_number</th><th>s_region</th><th>jpegURL</th><th>dataURL</th><th>dataRights</th><th>mtFlag</th><th>srcDen</th><th>obsid</th><th>distance</th></tr></thead>\n",
       "<thead><tr><th>str7</th><th>str11</th><th>str12</th><th>str5</th><th>str3</th><th>str5</th><th>str16</th><th>str17</th><th>str1</th><th>str31</th><th>float64</th><th>float64</th><th>str5</th><th>str13</th><th>int64</th><th>float64</th><th>float64</th><th>float64</th><th>float64</th><th>float64</th><th>str57</th><th>float64</th><th>str13</th><th>str3</th><th>int64</th><th>str122</th><th>str132</th><th>str137</th><th>str6</th><th>bool</th><th>float64</th><th>str7</th><th>float64</th></tr></thead>\n",
       "<tr><td>science</td><td>GALEX</td><td>MIS</td><td>GALEX</td><td>MIS</td><td>NUV</td><td>UV</td><td>MISDR2_28657_0750</td><td>--</td><td>2472513716323614720</td><td>0.5527482189276043</td><td>15.186919972358</td><td>image</td><td>--</td><td>2</td><td>53243.8337037037</td><td>53243.85327546297</td><td>1691.05</td><td>169300000000.0</td><td>300700000000.0</td><td>--</td><td>55274.94157395</td><td>--</td><td>MIS</td><td>--</td><td>CIRCLE ICRS   0.55274822  15.18691997 0.625</td><td>http://galex.stsci.edu/data/GR6/pipe/01-vsn/04737-MISDR2_28657_0750/d/01-main/0001-img/07-try/qa/MISDR2_28657_0750-xd-int_2color.jpg</td><td>http://galex.stsci.edu/data/GR6/pipe/01-vsn/04737-MISDR2_28657_0750/d/01-main/0001-img/07-try/MISDR2_28657_0750-nd-exp.fits.gz</td><td>PUBLIC</td><td>--</td><td>5885.0</td><td>1083</td><td>0.0</td></tr>\n",
       "</table>"
      ],
      "text/plain": [
       "<Row index=25 masked=True>\n",
       "intentType obs_collection provenance_name instrument_name project filters wavelength_region    target_name    target_classification        obs_id              s_ra             s_dec      dataproduct_type proposal_pi calib_level      t_min             t_max       t_exptime     em_min         em_max     obs_title t_obs_release  proposal_id proposal_type sequence_number                   s_region                                                                                jpegURL                                                                                                                           dataURL                                                             dataRights mtFlag  srcDen obsid distance\n",
       "   str7        str11           str12            str5        str3    str5        str16             str17                str1                str31             float64           float64           str5          str13       int64        float64           float64       float64     float64        float64       str57      float64        str13         str3          int64                         str122                                                                                  str132                                                                                                                            str137                                                                str6     bool  float64  str7 float64 \n",
       "---------- -------------- --------------- --------------- ------- ------- ----------------- ----------------- --------------------- ------------------- ------------------ --------------- ---------------- ----------- ----------- ---------------- ----------------- --------- -------------- -------------- --------- -------------- ----------- ------------- --------------- ------------------------------------------- ------------------------------------------------------------------------------------------------------------------------------------ ------------------------------------------------------------------------------------------------------------------------------ ---------- ------ ------- ----- --------\n",
       "   science          GALEX             MIS           GALEX     MIS     NUV                UV MISDR2_28657_0750                    -- 2472513716323614720 0.5527482189276043 15.186919972358            image          --           2 53243.8337037037 53243.85327546297   1691.05 169300000000.0 300700000000.0        -- 55274.94157395          --           MIS              -- CIRCLE ICRS   0.55274822  15.18691997 0.625 http://galex.stsci.edu/data/GR6/pipe/01-vsn/04737-MISDR2_28657_0750/d/01-main/0001-img/07-try/qa/MISDR2_28657_0750-xd-int_2color.jpg http://galex.stsci.edu/data/GR6/pipe/01-vsn/04737-MISDR2_28657_0750/d/01-main/0001-img/07-try/MISDR2_28657_0750-nd-exp.fits.gz     PUBLIC     --  5885.0  1083      0.0"
      ]
     },
     "execution_count": 7,
     "metadata": {},
     "output_type": "execute_result"
    }
   ],
   "source": [
    "mine=[oo for oo in obs_table if oo['obs_collection']=='GALEX']\n",
    "#data_products = Observations.get_product_list(mine[1])\n",
    "\n",
    "mine[1]"
   ]
  },
  {
   "cell_type": "code",
   "execution_count": 71,
   "id": "896f358c-0b2a-4da3-9208-1b803d6481d0",
   "metadata": {
    "collapsed": true,
    "jupyter": {
     "outputs_hidden": true
    },
    "tags": []
   },
   "outputs": [
    {
     "ename": "ModuleNotFoundError",
     "evalue": "No module named 'boto3'",
     "output_type": "error",
     "traceback": [
      "\u001b[0;31m---------------------------------------------------------------------------\u001b[0m",
      "\u001b[0;31mModuleNotFoundError\u001b[0m                       Traceback (most recent call last)",
      "\u001b[0;32m/tmp/ipykernel_733900/1688642878.py\u001b[0m in \u001b[0;36m<module>\u001b[0;34m\u001b[0m\n\u001b[0;32m----> 1\u001b[0;31m \u001b[0mObservations\u001b[0m\u001b[0;34m.\u001b[0m\u001b[0menable_cloud_dataset\u001b[0m\u001b[0;34m(\u001b[0m\u001b[0mprovider\u001b[0m\u001b[0;34m=\u001b[0m\u001b[0;34m'AWS'\u001b[0m\u001b[0;34m)\u001b[0m\u001b[0;34m\u001b[0m\u001b[0;34m\u001b[0m\u001b[0m\n\u001b[0m\u001b[1;32m      2\u001b[0m \u001b[0mObservations\u001b[0m\u001b[0;34m.\u001b[0m\u001b[0mget_cloud_uris\u001b[0m\u001b[0;34m(\u001b[0m\u001b[0mdata_products\u001b[0m\u001b[0;34m)\u001b[0m\u001b[0;34m\u001b[0m\u001b[0;34m\u001b[0m\u001b[0m\n",
      "\u001b[0;32m/usr/local/lib/python3.10/site-packages/astroquery/mast/core.py\u001b[0m in \u001b[0;36menable_cloud_dataset\u001b[0;34m(self, provider, profile, verbose)\u001b[0m\n\u001b[1;32m    106\u001b[0m         \"\"\"\n\u001b[1;32m    107\u001b[0m \u001b[0;34m\u001b[0m\u001b[0m\n\u001b[0;32m--> 108\u001b[0;31m         \u001b[0mself\u001b[0m\u001b[0;34m.\u001b[0m\u001b[0m_cloud_connection\u001b[0m \u001b[0;34m=\u001b[0m \u001b[0mCloudAccess\u001b[0m\u001b[0;34m(\u001b[0m\u001b[0mprovider\u001b[0m\u001b[0;34m,\u001b[0m \u001b[0mprofile\u001b[0m\u001b[0;34m,\u001b[0m \u001b[0mverbose\u001b[0m\u001b[0;34m)\u001b[0m\u001b[0;34m\u001b[0m\u001b[0;34m\u001b[0m\u001b[0m\n\u001b[0m\u001b[1;32m    109\u001b[0m \u001b[0;34m\u001b[0m\u001b[0m\n\u001b[1;32m    110\u001b[0m     \u001b[0;32mdef\u001b[0m \u001b[0mdisable_cloud_dataset\u001b[0m\u001b[0;34m(\u001b[0m\u001b[0mself\u001b[0m\u001b[0;34m)\u001b[0m\u001b[0;34m:\u001b[0m\u001b[0;34m\u001b[0m\u001b[0;34m\u001b[0m\u001b[0m\n",
      "\u001b[0;32m/usr/local/lib/python3.10/site-packages/astroquery/mast/cloud.py\u001b[0m in \u001b[0;36m__init__\u001b[0;34m(self, provider, profile, verbose)\u001b[0m\n\u001b[1;32m     51\u001b[0m                            \"not require an AWS account\"), AstropyDeprecationWarning)\n\u001b[1;32m     52\u001b[0m \u001b[0;34m\u001b[0m\u001b[0m\n\u001b[0;32m---> 53\u001b[0;31m         \u001b[0;32mimport\u001b[0m \u001b[0mboto3\u001b[0m\u001b[0;34m\u001b[0m\u001b[0;34m\u001b[0m\u001b[0m\n\u001b[0m\u001b[1;32m     54\u001b[0m         \u001b[0;32mimport\u001b[0m \u001b[0mbotocore\u001b[0m\u001b[0;34m\u001b[0m\u001b[0;34m\u001b[0m\u001b[0m\n\u001b[1;32m     55\u001b[0m \u001b[0;34m\u001b[0m\u001b[0m\n",
      "\u001b[0;31mModuleNotFoundError\u001b[0m: No module named 'boto3'"
     ]
    }
   ],
   "source": [
    "Observations.enable_cloud_dataset(provider='AWS')\n",
    "Observations.get_cloud_uris(data_products)"
   ]
  },
  {
   "cell_type": "markdown",
   "id": "56d0e240-d445-482d-9113-bc92f55287c1",
   "metadata": {},
   "source": [
    "### overall table"
   ]
  },
  {
   "cell_type": "code",
   "execution_count": 8,
   "id": "6a40798a-aac4-4e48-8628-edfb7d1f233d",
   "metadata": {},
   "outputs": [],
   "source": [
    "maj_ax=data[:,0]\n",
    "begline=np.where(maj_ax[1:]<maj_ax[:-1])[0]+1\n",
    "begline=np.r_[0,begline]"
   ]
  },
  {
   "cell_type": "code",
   "execution_count": 9,
   "id": "1d709725-3c0e-400e-a525-963a2fdeb3c8",
   "metadata": {},
   "outputs": [
    {
     "data": {
      "text/plain": [
       "1931"
      ]
     },
     "execution_count": 9,
     "metadata": {},
     "output_type": "execute_result"
    }
   ],
   "source": [
    "len(begline)"
   ]
  },
  {
   "cell_type": "code",
   "execution_count": 10,
   "id": "f53f1281-6756-4c4f-bb49-ebe585c48756",
   "metadata": {},
   "outputs": [
    {
     "data": {
      "text/plain": [
       "Text(0, 0.5, 'no of observations')"
      ]
     },
     "execution_count": 10,
     "metadata": {},
     "output_type": "execute_result"
    },
    {
     "data": {
      "image/png": "[encoded data removed]",
      "text/plain": [
       "<Figure size 432x288 with 1 Axes>"
      ]
     },
     "metadata": {
      "needs_background": "light"
     },
     "output_type": "display_data"
    }
   ],
   "source": [
    "from matplotlib import pyplot as pl\n",
    "%matplotlib inline\n",
    "pl.hist(-begline[:-1]+begline[1:],20)\n",
    "pl.ylabel(\"no of observations\")"
   ]
  },
  {
   "cell_type": "code",
   "execution_count": 56,
   "id": "3ec2006e-fd91-41f5-8b04-d7786a6f3e4a",
   "metadata": {},
   "outputs": [
    {
     "data": {
      "text/plain": [
       "Text(0.5, 0, '(largest) maj. ax [arcsec]')"
      ]
     },
     "execution_count": 56,
     "metadata": {},
     "output_type": "execute_result"
    },
    {
     "data": {
      "image/png": "[encoded data removed]",
      "text/plain": [
       "<Figure size 432x288 with 1 Axes>"
      ]
     },
     "metadata": {
      "needs_background": "light"
     },
     "output_type": "display_data"
    }
   ],
   "source": [
    "pl.hist(maj_ax[begline[1:]-1],20)\n",
    "pl.xlabel(\"(largest) maj. ax [arcsec]\")"
   ]
  },
  {
   "cell_type": "code",
   "execution_count": 28,
   "id": "202cfbb0-5d0f-41f1-8ce9-894e8f47d3b4",
   "metadata": {},
   "outputs": [
    {
     "data": {
      "text/plain": [
       "Text(0.5, 0, 'major ax [arcsec]')"
      ]
     },
     "execution_count": 28,
     "metadata": {},
     "output_type": "execute_result"
    },
    {
     "data": {
      "image/png": "[encoded data removed]",
      "text/plain": [
       "<Figure size 432x288 with 1 Axes>"
      ]
     },
     "metadata": {
      "needs_background": "light"
     },
     "output_type": "display_data"
    }
   ],
   "source": [
    "for j in [3,5,8]:\n",
    "    mag,emag=data[begline[j]:begline[j+1],6:8].T\n",
    "    msel=(mag<99)*(emag<7)\n",
    "    pl.errorbar(maj_ax[begline[j]:begline[j+1]][msel],mag[msel],emag[msel])\n",
    "pl.ylim(32,20)\n",
    "pl.legend([snames[j] for j in [3,5,8]])\n",
    "pl.ylabel(\"surf. bright [mag]\")\n",
    "pl.xlabel(\"major ax [arcsec]\")"
   ]
  },
  {
   "cell_type": "code",
   "execution_count": 29,
   "id": "6ca01957-db0c-4456-8154-ffe7c38c127a",
   "metadata": {},
   "outputs": [],
   "source": [
    "#from astropy import cosmology"
   ]
  },
  {
   "cell_type": "code",
   "execution_count": 14,
   "id": "0f19aa37-ac43-40b2-ac6d-a01a76766f74",
   "metadata": {},
   "outputs": [
    {
     "data": {
      "text/plain": [
       "1931"
      ]
     },
     "execution_count": 14,
     "metadata": {},
     "output_type": "execute_result"
    }
   ],
   "source": [
    "len(snames)"
   ]
  },
  {
   "cell_type": "code",
   "execution_count": 23,
   "id": "8ef42d76-12dd-416e-8913-356d40ab7084",
   "metadata": {},
   "outputs": [
    {
     "data": {
      "text/plain": [
       "(array([ 0.288,  0.102, 24.   , 21.958]), array([0.288, 0.043, 0.285, 0.022]))"
      ]
     },
     "execution_count": 23,
     "metadata": {},
     "output_type": "execute_result"
    }
   ],
   "source": [
    "mfuv,mnuv,mcol=data[1][2:14].reshape(3,4)\n",
    "mcol,mfuv-mnuv"
   ]
  },
  {
   "cell_type": "code",
   "execution_count": 108,
   "id": "87c30036-afdb-4116-a6d3-3ef7df2e7aaf",
   "metadata": {},
   "outputs": [
    {
     "data": {
      "text/plain": [
       "array([  6.,  12.,  18.,  24.,  30.,  36.,  42.,  48.,  54.,  60.,  66.,\n",
       "        72.,  78.,  84.,  90.,  96., 102., 108., 114.])"
      ]
     },
     "execution_count": 108,
     "metadata": {},
     "output_type": "execute_result"
    }
   ],
   "source": [
    "j=8\n",
    "mag,emag=data[begline[j]:begline[j+1],6:8].T\n",
    "cmag,ecmag=data[begline[j]:begline[j+1],8:10].T\n",
    "data[begline[i]:begline[i+1],0].T"
   ]
  },
  {
   "cell_type": "code",
   "execution_count": 109,
   "id": "23329033-32fc-459b-b57e-9ca78e45b5fa",
   "metadata": {},
   "outputs": [
    {
     "data": {
      "text/plain": [
       "(array([18.598, 17.392, 16.707, 16.243, 15.957, 15.729, 15.43 , 15.068,\n",
       "        14.872, 14.696, 14.577, 14.482, 14.402, 14.336, 14.286, 14.242,\n",
       "        14.206, 14.182, 14.16 , 14.143, 14.125, 14.112, 14.1  , 14.09 ,\n",
       "        14.078, 14.063, 14.052, 14.042, 14.032, 14.023, 14.015]),\n",
       " array([22.901, 23.38 , 23.68 , 23.917, 24.173, 24.191, 23.824, 23.746,\n",
       "        24.036, 24.274, 24.502, 24.714, 24.99 , 25.168, 25.429, 25.573,\n",
       "        26.012, 26.297, 26.618, 26.652, 26.84 , 27.15 , 27.419, 27.353,\n",
       "        27.155, 27.178, 27.291, 27.577, 27.509, 27.897, 27.771]))"
      ]
     },
     "execution_count": 109,
     "metadata": {},
     "output_type": "execute_result"
    }
   ],
   "source": [
    "cmag,mag"
   ]
  },
  {
   "cell_type": "code",
   "execution_count": 110,
   "id": "0c17aa74-981c-41d6-b9f2-64ea2810d871",
   "metadata": {},
   "outputs": [],
   "source": [
    "elipt=np.sqrt(1-data[begline[j],1]**2)\n",
    "surf=3.1415*maj_ax[begline[j]:begline[j+1]]**2*elipt\n",
    "dsurf=surf[1:]-surf[:-1]"
   ]
  },
  {
   "cell_type": "code",
   "execution_count": 112,
   "id": "e97d96ab-f2c0-45db-ae13-e4f8213ad6c4",
   "metadata": {},
   "outputs": [
    {
     "data": {
      "text/plain": [
       "array([-1.75002079, -1.33506497, -1.12553631, -1.00058794, -0.96462388,\n",
       "       -0.96939039, -0.96538409, -0.87962485, -0.87451269, -0.84374255,\n",
       "       -0.83917638, -0.83718975, -0.82939651, -0.82528561, -0.82470946,\n",
       "       -0.82484461, -0.81903642, -0.81898065, -0.81539665, -0.81684434,\n",
       "       -0.81485964, -0.81429307, -0.81232499, -0.81333212, -0.81492549,\n",
       "       -0.81358335, -0.81520205, -0.81514728, -0.81600233, -0.81478596])"
      ]
     },
     "execution_count": 112,
     "metadata": {},
     "output_type": "execute_result"
    }
   ],
   "source": [
    "dflx=10**(0.4*(10-mag[:-1]))*dsurf\n",
    "10-np.log10(np.cumsum(dflx))/0.4-cmag[:-1]"
   ]
  },
  {
   "cell_type": "code",
   "execution_count": 55,
   "id": "8b385529-093a-4bb3-a8cf-ab47ef8a25f7",
   "metadata": {},
   "outputs": [
    {
     "name": "stdout",
     "output_type": "stream",
     "text": [
      "12 : 1929\n",
      "24 : 1930\n",
      "36 : 1930\n"
     ]
    },
    {
     "data": {
      "text/plain": [
       "Text(0.5, 0, 'surf. mag. NUV')"
      ]
     },
     "execution_count": 55,
     "metadata": {},
     "output_type": "execute_result"
    },
    {
     "data": {
      "image/png": "[encoded data removed]",
      "text/plain": [
       "<Figure size 432x288 with 1 Axes>"
      ]
     },
     "metadata": {
      "needs_background": "light"
     },
     "output_type": "display_data"
    }
   ],
   "source": [
    "for dis in 12,24,36:\n",
    "    linsel=maj_ax==dis\n",
    "    magx,emagx=data[linsel,6:8].T\n",
    "    print(dis,':',sum(linsel))\n",
    "    pl.hist(magx,20,alpha=0.30,label='dis:%i\"'%dis);\n",
    "pl.legend()\n",
    "pl.xlabel('surf. mag. NUV')"
   ]
  },
  {
   "cell_type": "code",
   "execution_count": 62,
   "id": "2017fb9e-7b60-4d20-8c4f-500bd20a137b",
   "metadata": {},
   "outputs": [],
   "source": [
    "radii=[]\n",
    "frac=0.01\n",
    "mfrac=-np.log10(frac)/0.4 #mag difference\n",
    "for i in range(len(begline)-1):\n",
    "    mag,emag=data[begline[i]:begline[i+1],6:8].T\n",
    "    irad=sum(mag<mag[0]+mfrac)\n",
    "    radii.append(data[begline[i]+irad-1,0])\n",
    "radii=np.array(radii)\n",
    "#pl.hist(mag12,20,alpha=0.30);"
   ]
  },
  {
   "cell_type": "code",
   "execution_count": 67,
   "id": "7f020502-47a4-47b2-8e79-377b0d54f661",
   "metadata": {},
   "outputs": [],
   "source": [
    "radii10=[]\n",
    "frac=0.1\n",
    "mfrac=-np.log10(frac)/0.4 #mag difference\n",
    "for i in range(len(begline)-1):\n",
    "    mag,emag=data[begline[i]:begline[i+1],6:8].T\n",
    "    irad=sum(mag<mag[0]+mfrac)\n",
    "    radii10.append(data[begline[i]+irad-1,0])\n",
    "radii10=np.array(radii10)\n"
   ]
  },
  {
   "cell_type": "code",
   "execution_count": 91,
   "id": "6b121926-d79f-4898-8814-36880729cda7",
   "metadata": {},
   "outputs": [
    {
     "data": {
      "text/plain": [
       "<matplotlib.legend.Legend at 0x7f7ffac972e0>"
      ]
     },
     "execution_count": 91,
     "metadata": {},
     "output_type": "execute_result"
    },
    {
     "data": {
      "image/png": "[encoded data removed]",
      "text/plain": [
       "<Figure size 432x288 with 1 Axes>"
      ]
     },
     "metadata": {
      "needs_background": "light"
     },
     "output_type": "display_data"
    }
   ],
   "source": [
    "pl.hist(radii,30,alpha=0.3)\n",
    "pl.hist(radii10,30,alpha=0.3);\n",
    "pl.xlim(0,300)\n",
    "pl.xlabel('eff. radius [arcsec]')\n",
    "pl.legend(['0.01','0.1'])"
   ]
  },
  {
   "cell_type": "code",
   "execution_count": 113,
   "id": "0635eb53-8457-45c3-ba30-c2d67fdf47b2",
   "metadata": {},
   "outputs": [
    {
     "data": {
      "image/png": "[encoded data removed]",
      "text/plain": [
       "<Figure size 432x288 with 1 Axes>"
      ]
     },
     "metadata": {
      "needs_background": "light"
     },
     "output_type": "display_data"
    }
   ],
   "source": [
    "pl.plot(radii,radii10,',')\n",
    "pl.xlabel(\"radius 1%\")\n",
    "pl.ylabel(\"radius 10%\");\n"
   ]
  },
  {
   "cell_type": "code",
   "execution_count": 94,
   "id": "3c3086b8-aa94-4693-89eb-6adadf6f52bf",
   "metadata": {},
   "outputs": [
    {
     "data": {
      "text/plain": [
       "<matplotlib.legend.Legend at 0x7f7ffb382b90>"
      ]
     },
     "execution_count": 94,
     "metadata": {},
     "output_type": "execute_result"
    },
    {
     "data": {
      "image/png": "[encoded data removed]",
      "text/plain": [
       "<Figure size 864x360 with 1 Axes>"
      ]
     },
     "metadata": {
      "needs_background": "light"
     },
     "output_type": "display_data"
    }
   ],
   "source": [
    "fig=pl.figure(figsize=(12,5))\n",
    "step=6\n",
    "d05=(radii10/step/2).astype(int) #half radius\n",
    "mag05=data[d05+begline[:-1],6]\n",
    "pl.hist(mag05[mag05<90],30,alpha=0.3);\n",
    "\n",
    "d10=(radii10/step).astype(int)\n",
    "mag10=data[d10+begline[:-1],6]\n",
    "pl.hist(mag10[mag10<90],30,alpha=0.3);\n",
    "\n",
    "d20=(radii10/step*2).astype(int) #half radius\n",
    "largsel=(begline[1:]-begline[:-1]>d20)\n",
    "mag20=data[d20+begline[:-1],6][largsel]\n",
    "pl.hist(mag20[mag20<90],30,alpha=0.3);\n",
    "\n",
    "pl.title('galaxies at different dist. from center')\n",
    "pl.xlabel('surf. mag. density /arcsec^2')\n",
    "pl.legend(['half 0.1','0.1','double 0.1'])"
   ]
  },
  {
   "cell_type": "code",
   "execution_count": null,
   "id": "36a6716f-6a6f-4e84-ad93-40191b9f58c7",
   "metadata": {},
   "outputs": [],
   "source": [
    "for i in range(len(begline)-1):\n",
    "    mag,emag=data[begline[i]:begline[i+1],6:8].T"
   ]
  },
  {
   "cell_type": "code",
   "execution_count": 89,
   "id": "61791956-c431-4790-83f1-08fe57e456d5",
   "metadata": {},
   "outputs": [
    {
     "data": {
      "text/plain": [
       "array([ 4.199970e+00,  1.235026e+01,  9.800000e+00,  1.590000e+01,\n",
       "       -9.990000e+02,  1.660000e+01,  7.000000e-02,  1.573000e+01,\n",
       "        7.000000e-02,  1.417600e+01,  1.000000e-03,  0.000000e+00])"
      ]
     },
     "execution_count": 89,
     "metadata": {},
     "output_type": "execute_result"
    }
   ],
   "source": [
    "sources[10]"
   ]
  },
  {
   "cell_type": "code",
   "execution_count": 92,
   "id": "e10f98c9-e111-4b67-9e75-ddab8624e2e0",
   "metadata": {},
   "outputs": [
    {
     "data": {
      "text/plain": [
       "Text(0.5, 0, 'distance [Mpc]')"
      ]
     },
     "execution_count": 92,
     "metadata": {},
     "output_type": "execute_result"
    },
    {
     "data": {
      "image/png": "[encoded data removed]",
      "text/plain": [
       "<Figure size 432x288 with 1 Axes>"
      ]
     },
     "metadata": {
      "needs_background": "light"
     },
     "output_type": "display_data"
    }
   ],
   "source": [
    "pl.hist(sources[:,3],20)\n",
    "pl.xlabel('distance [Mpc]')"
   ]
  },
  {
   "cell_type": "markdown",
   "id": "b9620730-1c7c-4cb7-829f-aa7c1b5b0538",
   "metadata": {},
   "source": [
    "http://leda.univ-lyon1.fr/a102/"
   ]
  },
  {
   "cell_type": "code",
   "execution_count": 93,
   "id": "ccad0078-ad59-41bb-8842-a87c3f7300af",
   "metadata": {},
   "outputs": [
    {
     "data": {
      "text/plain": [
       "Text(0.5, 1.0, 'classification')"
      ]
     },
     "execution_count": 93,
     "metadata": {},
     "output_type": "execute_result"
    },
    {
     "data": {
      "image/png": "[encoded data removed]",
      "text/plain": [
       "<Figure size 432x288 with 1 Axes>"
      ]
     },
     "metadata": {
      "needs_background": "light"
     },
     "output_type": "display_data"
    }
   ],
   "source": [
    "pl.hist(sources[:,2],20)\n",
    "pl.title(\"morph. classification\")"
   ]
  },
  {
   "cell_type": "code",
   "execution_count": 98,
   "id": "8349de7e-5fb1-4ffc-a274-75cb87526f89",
   "metadata": {},
   "outputs": [
    {
     "data": {
      "text/plain": [
       "174"
      ]
     },
     "execution_count": 98,
     "metadata": {},
     "output_type": "execute_result"
    }
   ],
   "source": [
    "oldtype=(sources[:-1,2]<=0)\n",
    "sum(oldtype)"
   ]
  },
  {
   "cell_type": "code",
   "execution_count": 99,
   "id": "0ecd1bcf-afa3-4d1a-8195-c08fe42a33f2",
   "metadata": {},
   "outputs": [
    {
     "data": {
      "text/plain": [
       "<matplotlib.legend.Legend at 0x7f7ffad85000>"
      ]
     },
     "execution_count": 99,
     "metadata": {},
     "output_type": "execute_result"
    },
    {
     "data": {
      "image/png": "[encoded data removed]",
      "text/plain": [
       "<Figure size 864x360 with 1 Axes>"
      ]
     },
     "metadata": {
      "needs_background": "light"
     },
     "output_type": "display_data"
    }
   ],
   "source": [
    "fig=pl.figure(figsize=(12,5))\n",
    "step=6\n",
    "d05=(radii10/step/2).astype(int) #half radius\n",
    "mag05=data[d05+begline[:-1],6][oldtype]\n",
    "pl.hist(mag05[mag05<90],20,alpha=0.3);\n",
    "\n",
    "d10=(radii10/step).astype(int)\n",
    "mag10=data[d10+begline[:-1],6][oldtype]\n",
    "pl.hist(mag10[mag10<90],20,alpha=0.3);\n",
    "\n",
    "d20=(radii10/step*2).astype(int) #half radius\n",
    "largsel=(begline[1:]-begline[:-1]>d20)[oldtype]\n",
    "mag20=data[d20+begline[:-1],6][oldtype][largsel]\n",
    "pl.hist(mag20[mag20<90],20,alpha=0.3);\n",
    "\n",
    "pl.title('galaxies at different dist. [not spiral]')\n",
    "pl.xlabel('surf. mag. density /arcsec^2')\n",
    "pl.legend(['half 0.1','0.1','double 0.1'])"
   ]
  },
  {
   "cell_type": "code",
   "execution_count": 105,
   "id": "ad1048b5-c9a5-4dd8-9468-b06d6ad026da",
   "metadata": {},
   "outputs": [
    {
     "data": {
      "text/plain": [
       "[(-5, 1),\n",
       " (-4, 21),\n",
       " (-3, 5),\n",
       " (-2, 49),\n",
       " (-1, 42),\n",
       " (0, 95),\n",
       " (1, 95),\n",
       " (2, 80),\n",
       " (3, 192),\n",
       " (4, 178),\n",
       " (5, 322),\n",
       " (6, 237),\n",
       " (7, 160),\n",
       " (8, 188),\n",
       " (9, 246),\n",
       " (10, 19)]"
      ]
     },
     "execution_count": 105,
     "metadata": {},
     "output_type": "execute_result"
    }
   ],
   "source": [
    "from collections import Counter\n",
    "cts=Counter(sources[:-1,2].astype(int))\n",
    "ckeys=list(cts.keys())\n",
    "ckeys=np.sort(ckeys)\n",
    "[(c,cts[c]) for c in ckeys]"
   ]
  },
  {
   "cell_type": "code",
   "execution_count": null,
   "id": "ab73655a-5bc1-4afd-a3c9-95c5abc4acd8",
   "metadata": {},
   "outputs": [],
   "source": []
  }
 ],
 "metadata": {
  "kernelspec": {
   "display_name": "Python 3 (ipykernel)",
   "language": "python",
   "name": "python3"
  },
  "language_info": {
   "codemirror_mode": {
    "name": "ipython",
    "version": 3
   },
   "file_extension": ".py",
   "mimetype": "text/x-python",
   "name": "python",
   "nbconvert_exporter": "python",
   "pygments_lexer": "ipython3",
   "version": "3.10.4"
  }
 },
 "nbformat": 4,
 "nbformat_minor": 5
}
