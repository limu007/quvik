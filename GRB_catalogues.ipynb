{
 "cells": [
  {
   "cell_type": "markdown",
   "id": "ddba535d-e843-434a-bdf6-e1135d0cb9ec",
   "metadata": {},
   "source": [
    "## other modeling\n",
    "\n",
    "- Kahn 2010 - data [here](https://ned.ipac.caltech.edu/uri/NED::InRefcode/2010ApJ...720.1513K)\n",
    "- Kahn 2011 - data [here](https://ned.ipac.caltech.edu/uri/NED::InRefcode/2011ApJ...734...96K)"
   ]
  },
  {
   "cell_type": "code",
   "execution_count": 1,
   "id": "dc088784-62cf-4098-a758-78f0cc7a3043",
   "metadata": {},
   "outputs": [],
   "source": [
    "from sklearn.linear_model import LinearRegression"
   ]
  },
  {
   "cell_type": "markdown",
   "id": "dd154861-9de7-48b7-a70b-112c404bc7c8",
   "metadata": {
    "tags": []
   },
   "source": [
    "SWIFT data\n",
    "-----------------\n",
    "\n",
    "..update till 2022 from the [Web catalogue](https://swift.gsfc.nasa.gov/results/batgrbcat/)\n",
    "\n",
    "list is saved here:\n",
    "\n",
    "\n",
    "crosscheck with [UVOT catalogue](https://www.mssl.ucl.ac.uk/www_astro/uvot/)\n",
    "\n",
    "article about calibration https://arxiv.org/pdf/0708.2259.pdf"
   ]
  },
  {
   "cell_type": "markdown",
   "id": "1d27c99f-ba41-4c57-a163-23b27e4760c9",
   "metadata": {},
   "source": [
    "needs to extract lightcurves:\n",
    "\n",
    "- Level3 data available under links like https://www.swift.ac.uk/archive/reproc/01161127002/uvot/products/sw01161127002usr.lc.gz\n",
    "- IDs of observations could be scraped from [QL page](https://www.swift.ac.uk/archive/ql.php)\n",
    " -> complete table parsed here:"
   ]
  },
  {
   "cell_type": "code",
   "execution_count": 57,
   "id": "83bfd4ac-854f-4be5-9d94-29e8d19d822c",
   "metadata": {},
   "outputs": [],
   "source": [
    "#import bs4\n",
    "#bspage=bs4.BeautifulSoup(open(\"/home/limu/Space/data/swift/obs_list_complete.html\"))\n",
    "\n",
    "tabs=bspage.find_all(\"table\")\n",
    "bstab1=tabs[0]\n",
    "a2=bstab1.find_all(\"tr\")\n",
    "allrows=[[c.text for c in b.find_all('td')] for b in a2[1:]]\n",
    "\n",
    "#open(\"/home/limu/Space/data/swift/obs_list_complete.txt\",\"w\").writelines(['\\t'.join(s)+'\\n' for s in allrows])\n",
    "selrows=[a for a in allrows[1:] if a[2].find('GRB')==0]\n",
    "len(allrows),len(selrows)\n",
    "#open(\"/home/limu/Space/data/swift/obs_list_grb.txt\",\"w\").writelines(['\\t'.join(s)+'\\n' for s in selrows])"
   ]
  },
  {
   "cell_type": "code",
   "execution_count": 66,
   "id": "b94e9b38-fb00-4120-9178-38435ce73fea",
   "metadata": {},
   "outputs": [
    {
     "data": {
      "text/plain": [
       "755"
      ]
     },
     "execution_count": 66,
     "metadata": {},
     "output_type": "execute_result"
    }
   ],
   "source": [
    "selrows=[a.split('\\t') for a in open(\"/home/limu/Space/data/swift/obs_list_grb.txt\")]\n",
    "\n",
    "from collections import Counter\n",
    "grbnames=Counter([a[2][:5+a[2][5:].find(' ')] for a in selrows])\n",
    "len(grbnames)"
   ]
  },
  {
   "cell_type": "code",
   "execution_count": 83,
   "id": "d1928164-4478-4b7e-a187-9278b3f1444f",
   "metadata": {},
   "outputs": [
    {
     "data": {
      "text/plain": [
       "247"
      ]
     },
     "execution_count": 83,
     "metadata": {},
     "output_type": "execute_result"
    }
   ],
   "source": [
    "#len(selrows),len(allrows)\n",
    "grblist=sorted(list(grbnames.keys()))\n",
    "grbsel=[g for g in grblist if grbnames[g]>5]\n",
    "len(grbsel)"
   ]
  },
  {
   "cell_type": "code",
   "execution_count": 84,
   "id": "2aaa9472-a7d2-465b-b872-875b23e8e841",
   "metadata": {},
   "outputs": [],
   "source": [
    "g1=grbsel[20]\n",
    "idlist1=sorted([a[0] for a in selrows if a[2][:len(g1)]==g1])\n",
    "file='https://www.swift.ac.uk/archive/reproc/{id}/uvot/products/sw{id}usr.lc.gz'.format(id=idlist1[1])"
   ]
  },
  {
   "cell_type": "code",
   "execution_count": 229,
   "id": "ef2d3b09-2083-4e1e-8645-9c38e1ed0fd3",
   "metadata": {},
   "outputs": [
    {
     "data": {
      "text/plain": [
       "['00020524001',\n",
       " '00020525001',\n",
       " '00020526001',\n",
       " '00020527001',\n",
       " '00020528001',\n",
       " '00020529001',\n",
       " '00020530001',\n",
       " '00020531001']"
      ]
     },
     "execution_count": 229,
     "metadata": {},
     "output_type": "execute_result"
    }
   ],
   "source": [
    "goodlc[grbsel[1]]"
   ]
  },
  {
   "cell_type": "code",
   "execution_count": 100,
   "id": "1444a9b8-8ea4-43c0-b6b7-a8344ac30ebc",
   "metadata": {},
   "outputs": [],
   "source": [
    "#goodlc={}\n",
    "def is_urlfile(url):\n",
    "    import urllib\n",
    "    # Check if online file exists\n",
    "    try:\n",
    "        r = urllib.request.urlopen(url)  # response\n",
    "        return r.getcode() == 200\n",
    "    except urllib.request.HTTPError:\n",
    "        return False\n",
    "goodlc[g1]=[idq for idq in idlist1 if is_urlfile(f'https://www.swift.ac.uk/archive/reproc/{idq}/uvot/products/')]"
   ]
  },
  {
   "cell_type": "code",
   "execution_count": 102,
   "id": "6d1f88d6-bd68-4159-9212-939edf53b20d",
   "metadata": {},
   "outputs": [],
   "source": [
    "for g1 in grbsel[:20]:\n",
    "    idlist1=sorted([a[0] for a in selrows if a[2][:len(g1)]==g1])\n",
    "    goodlc[g1]=[idq for idq in idlist1 if is_urlfile(f'https://www.swift.ac.uk/archive/reproc/{idq}/uvot/products/')]"
   ]
  },
  {
   "cell_type": "code",
   "execution_count": 227,
   "id": "125d2a4a-aeeb-4891-afb3-3238d3626e2f",
   "metadata": {},
   "outputs": [
    {
     "name": "stdout",
     "output_type": "stream",
     "text": [
      "00020524001  not found\n",
      "00020525001  not found\n",
      "00020526001  not found\n",
      "00020527001  not found\n",
      "00020528001  not found\n",
      "00020529001  not found\n",
      "00020530001  not found\n"
     ]
    }
   ],
   "source": [
    "def get_data(grb='GRB 151228B'):\n",
    "    ls1=goodlc[grb]\n",
    "    import urllib\n",
    "    from os import path\n",
    "    ls2=[]\n",
    "    for idq in ls1:\n",
    "        oname=f'uvotlc/sw{idq}usr.lc.gz'\n",
    "        if path.exists(oname):\n",
    "            ls2.append(idq)\n",
    "            continue\n",
    "        try:\n",
    "            urllib.request.urlretrieve(f'https://www.swift.ac.uk/archive/reproc/{idq}/uvot/products/sw{idq}usr.lc.gz',oname)\n",
    "        except:\n",
    "            print(idq,\" not found\")\n",
    "        else:\n",
    "            ls2.append(idq)\n",
    "    from astropy.io import fits\n",
    "    ofiles=[fits.open(f'uvotlc/sw{idq}usr.lc.gz') for idq in ls2]\n",
    "    return ofiles\n",
    "ofiles=get_data(grbsel[1])"
   ]
  },
  {
   "cell_type": "code",
   "execution_count": 216,
   "id": "f0a05f23-747f-4448-af8e-adf7fe37ed19",
   "metadata": {},
   "outputs": [],
   "source": [
    "colsel='TIME EXPOSURE MAG MAG_ERR AB_MAG'.split()\n",
    "extrdata=lambda ext:np.array([ext.data[s] for s in colsel])\n",
    "\n",
    "def get_bands(ofiles):\n",
    "    alldata=[[extrdata(of[i]) for i in range(1,len(of)) if 'FILTER' in colnames(of[i])] for of in ofiles]\n",
    "    allfilt=[[of[i].data['FILTER'] for i in range(1,len(of)) if 'FILTER' in colnames(of[i])] for of in ofiles]\n",
    "    mcurve={}\n",
    "    for i in range(len(alldata)):\n",
    "        #b2=np.concatenate([a.T for a in b])\n",
    "        for j in range(len(alldata[i])):\n",
    "            c=allfilt[i][j][0]\n",
    "            mcurve[c]=mcurve.get(c,[])+list(alldata[i][j].T)\n",
    "    for c in mcurve.keys():\n",
    "        mcurve[c]=np.array(mcurve[c])\n",
    "    return mcurve\n"
   ]
  },
  {
   "cell_type": "code",
   "execution_count": 246,
   "id": "96aa68a2-522e-4f7a-90b8-deb8abdc9632",
   "metadata": {},
   "outputs": [
    {
     "name": "stdout",
     "output_type": "stream",
     "text": [
      "GRB 210610B 8 7\n",
      "GRB 210619B 15 7\n",
      "GRB 210702A 9 7\n",
      "GRB 210704A 7 1\n",
      "GRB 210723A 7 7\n",
      "GRB 210724A 12 7\n",
      "GRB 210725A 6 7\n",
      "GRB 210725B 7 6\n",
      "GRB 210726A 12 7\n",
      "GRB 210730A 8 7\n",
      "GRB 210731A 8 7\n",
      "GRB 210807A 8 7\n",
      "GRB 210818A 6 7\n",
      "GRB 210820A 6 6\n",
      "GRB 210822A 6 7\n",
      "GRB 210901A 8 7\n",
      "GRB 210905A 24 6\n",
      "GRB 210912A 7 7\n",
      "GRB 210930A 6 7\n",
      "GRB 211023B 7 7\n",
      "GRB 211024B 18 6\n",
      "GRB 211106A 1 1\n",
      "GRB 211211A 8 7\n",
      "GRB 220101A 13 7\n",
      "GRB 220107A 7 4\n",
      "GRB 220219B 17 4\n",
      "GRB 220403B 6 7\n",
      "GRB 220427A 8 7\n",
      "GRB 220506A 0 0\n",
      "GRB 220527A 13 4\n",
      "GRB 220611A 13 7\n",
      "GRB 220706A 26 7\n",
      "GRB 220711B 8 7\n",
      "GRB 220714B 12 7\n",
      "GRB 220813A 7 7\n",
      "GRB 220826A 8 7\n",
      "GRB 220921A 2 1\n",
      "GRB 220930A 7 6\n",
      "GRB 221009A 75 7\n",
      "GRB 221110A 9 7\n",
      "GRB 221216A 6 7\n",
      "GRB 230307A 4 2\n",
      "GRB060218 0 0\n",
      "GRB060614 0 0\n",
      "GRB070809 0 0\n",
      "GRB090515 0 0\n",
      "GRB150710a 0 0\n"
     ]
    }
   ],
   "source": [
    "for i in range(200,len(grbsel)):\n",
    "    idlist1=sorted([a[0] for a in selrows if a[2][:len(grbsel[i])]==grbsel[i]])\n",
    "    goodlc[grbsel[i]]=[idq for idq in idlist1 if is_urlfile(f'https://www.swift.ac.uk/archive/reproc/{idq}/uvot/products/sw{idq}usr.lc.gz')]\n",
    "    \n",
    "    ofiles=get_data(grbsel[i])\n",
    "    mcurve=get_bands(ofiles)\n",
    "    print(grbsel[i],len(ofiles),len(mcurve))\n",
    "    #np.save(open(\"uvotlc/\"+grbsel[0].replace(\" \",\"\")+\".npz\",\"wb\"),mcurve)\n",
    "    if len(mcurve)>0: np.savez(open(\"uvotlc/\"+grbsel[i].replace(\" \",\"\")+\".npz\",\"wb\"),**mcurve)"
   ]
  },
  {
   "cell_type": "markdown",
   "id": "c7decce3-25ef-48ed-817a-1362dd003b81",
   "metadata": {},
   "source": [
    "### EVENT list"
   ]
  },
  {
   "cell_type": "code",
   "execution_count": 247,
   "id": "8cc918f7-8636-462b-b35e-fe540d0a459d",
   "metadata": {},
   "outputs": [
    {
     "data": {
      "text/plain": [
       "596"
      ]
     },
     "execution_count": 247,
     "metadata": {},
     "output_type": "execute_result"
    }
   ],
   "source": [
    "import os\n",
    "miss=[i for i in range(len(grbsel)) if not os.path.exists(\"uvotlc/\"+grbsel[i].replace(\" \",\"\")+\".npz\")]\n",
    "open(\"missing.txt\",\"w\").write(\"\\n\".join([grbsel[i] for i in miss]))\n",
    "#probably has event lists, not light curves \n",
    "#e.g. https://www.swift.ac.uk/archive/reproc/00727541000/uvot/event/"
   ]
  },
  {
   "cell_type": "code",
   "execution_count": 255,
   "id": "1857de25-784b-4f9d-8cb6-0745f9f457f2",
   "metadata": {},
   "outputs": [
    {
     "data": {
      "image/png": "[encoded data removed]",
      "text/plain": [
       "<Figure size 432x288 with 1 Axes>"
      ]
     },
     "metadata": {
      "needs_background": "light"
     },
     "output_type": "display_data"
    }
   ],
   "source": [
    "efile=fits.open(\"/home/limu/Space/data/swift/sw00727541000uuuw1po_uf.evt.gz\")\n",
    "out=pl.hist2d(efile[1].data['X'],efile[1].data['Y'],100)"
   ]
  },
  {
   "cell_type": "code",
   "execution_count": 175,
   "id": "7d6f2d6b-cdd2-462f-b983-0cf8ce32d6e1",
   "metadata": {},
   "outputs": [],
   "source": [
    "colors=dict(zip([d.header['EXTNAME'] for d in ofiles[0][1:]  if 'FILTER' in colnames(d)],list('wbmgyrc')))"
   ]
  },
  {
   "cell_type": "code",
   "execution_count": 179,
   "id": "5b7fc8c5-928c-4e74-8082-2bc410b00950",
   "metadata": {},
   "outputs": [
    {
     "data": {
      "text/plain": [
       "Text(0.5, 0, 'time[s]')"
      ]
     },
     "execution_count": 179,
     "metadata": {},
     "output_type": "execute_result"
    },
    {
     "data": {
      "image/png": "[encoded data removed]",
      "text/plain": [
       "<Figure size 432x288 with 1 Axes>"
      ]
     },
     "metadata": {
      "needs_background": "light"
     },
     "output_type": "display_data"
    }
   ],
   "source": [
    "#mcurve={}\n",
    "for i in range(len(alldata)):\n",
    "    #b2=np.concatenate([a.T for a in b])\n",
    "    for j in range(len(alldata[i])):\n",
    "        c=allfilt[i][j][0]\n",
    "        #mcurve[c]=mcurve.get(c,[])+list(alldata[i][j].T)\n",
    "        b2=alldata[i][j].T\n",
    "        sel=b2[:,2]<50\n",
    "        pl.semilogx(b2[sel,0],b2[sel,2],'+'+colors[c])\n",
    "pl.xlabel('time[s]')"
   ]
  },
  {
   "cell_type": "code",
   "execution_count": 225,
   "id": "d60f2e6b-83ce-4621-a845-63a7edc56246",
   "metadata": {},
   "outputs": [
    {
     "data": {
      "text/plain": [
       "array([[1.95865826e+06, 1.32914111e+03, 2.18361359e+01, 4.17890608e-01,\n",
       "        2.28561344e+01],\n",
       "       [1.96390846e+06, 1.62413416e+03, 2.26327057e+01, 7.51268566e-01,\n",
       "        2.36527061e+01],\n",
       "       [2.28528650e+06, 1.58848438e+03, 2.25935555e+01, 7.28901386e-01,\n",
       "        2.36135540e+01],\n",
       "       [2.29154266e+06, 1.55690662e+03, 2.26231995e+01, 7.57398665e-01,\n",
       "        2.36431980e+01],\n",
       "       [2.31405671e+06, 1.52924902e+03, 2.14459534e+01, 2.88967162e-01,\n",
       "        2.24659519e+01],\n",
       "       [2.62994909e+06, 1.30779248e+03, 2.18579369e+01, 4.34878200e-01,\n",
       "        2.28779373e+01],\n",
       "       [2.63542943e+06, 8.18110046e+02, 2.33494205e+01, 1.98330128e+00,\n",
       "        2.43694210e+01],\n",
       "       [2.64154688e+06, 1.50936633e+03, 2.21134911e+01, 5.01188815e-01,\n",
       "        2.31334915e+01],\n",
       "       [3.65826179e+06, 6.52652954e+02, 2.13567600e+01, 4.83312756e-01,\n",
       "        2.23767605e+01],\n",
       "       [3.66399176e+06, 5.93819397e+02, 2.19446640e+01, 8.32995594e-01,\n",
       "        2.29646645e+01],\n",
       "       [3.69283315e+06, 7.48374146e+02, 2.17238178e+01, 5.76270759e-01,\n",
       "        2.27438164e+01],\n",
       "       [3.69850299e+06, 5.71384827e+02, 2.25153122e+01, 1.33497274e+00,\n",
       "        2.35353127e+01],\n",
       "       [3.70423606e+06, 6.24387085e+02, 2.30071106e+01, 2.05439210e+00,\n",
       "        2.40271091e+01],\n",
       "       [6.15421929e+06, 4.99900726e+02, 2.22735348e+01, 9.63223457e-01,\n",
       "        2.32935352e+01],\n",
       "       [6.15991979e+06, 3.81028229e+02, 2.11152267e+01, 4.31399375e-01,\n",
       "        2.21352272e+01],\n",
       "       [6.16573925e+06, 5.00128754e+02, 2.20434322e+01, 8.01935971e-01,\n",
       "        2.30634308e+01]])"
      ]
     },
     "execution_count": 225,
     "metadata": {},
     "output_type": "execute_result"
    }
   ],
   "source": [
    "np.load(\"uvotlc/GRB150518A.npz\")['U']"
   ]
  },
  {
   "cell_type": "code",
   "execution_count": 202,
   "id": "6ed2a3a6-0291-4848-9385-dfabadd755a5",
   "metadata": {},
   "outputs": [
    {
     "data": {
      "text/plain": [
       "[1613.591540813446,\n",
       " 1913.5937805175781,\n",
       " 5155.584800720215,\n",
       " 964.7727088928223,\n",
       " 7445.718812942505,\n",
       " 1753.68115234375,\n",
       " 7995.515874862671]"
      ]
     },
     "execution_count": 202,
     "metadata": {},
     "output_type": "execute_result"
    }
   ],
   "source": [
    "if False:\n",
    "    for c in mcurve.keys():\n",
    "        mcurve[c]=np.array(mcurve[c])\n",
    "    np.save(open(\"uvotlc/\"+g1.replace(\" \",\"\")+\".npz\",\"wb\"),mcurve,allow_pickle=True)\n",
    "    print([sum(m[:,1]) for m in mcurve.values()])"
   ]
  },
  {
   "cell_type": "code",
   "execution_count": 186,
   "id": "eaec0201-51e9-4b0a-bccb-e8a0e7c724af",
   "metadata": {},
   "outputs": [
    {
     "data": {
      "text/plain": [
       "Text(0.5, 0, 'time[s]')"
      ]
     },
     "execution_count": 186,
     "metadata": {},
     "output_type": "execute_result"
    },
    {
     "data": {
      "image/png": "[encoded data removed]",
      "text/plain": [
       "<Figure size 432x288 with 1 Axes>"
      ]
     },
     "metadata": {
      "needs_background": "light"
     },
     "output_type": "display_data"
    }
   ],
   "source": [
    "for i in range(len(alldata)):\n",
    "    #b2=np.concatenate([a.T for a in b])\n",
    "    for j in range(len(alldata[i])):\n",
    "        b2=alldata[i][j].T\n",
    "        sel=b2[:,2]<50\n",
    "        pl.semilogx(b2[sel,0],b2[sel,4]-b2[sel,2],'+'+colors[allfilt[i][j][0]])\n",
    "pl.xlabel('time[s]')"
   ]
  },
  {
   "cell_type": "code",
   "execution_count": 14,
   "id": "c33d2ed2-34a4-4675-b4c5-72b6779fa80a",
   "metadata": {},
   "outputs": [],
   "source": [
    "from glob import glob\n",
    "alist=sorted(glob(\"uvotlc/GRB*z\"))\n",
    "import numpy as np\n",
    "dall=[np.load(a) for a in alist]"
   ]
  },
  {
   "cell_type": "code",
   "execution_count": 19,
   "id": "3824a226-d38a-4cdf-9204-e72a8ed69923",
   "metadata": {},
   "outputs": [],
   "source": [
    "cmplen_U=np.array([len(d['U']) if 'U' in d else 0 for d in dall])\n",
    "cmplen_W=np.array([len(d['UVW1']) if 'UVW1' in d else 0 for d in dall])\n",
    "#list(d1.keys())"
   ]
  },
  {
   "cell_type": "code",
   "execution_count": 23,
   "id": "cec5c14b-7752-455d-84d4-b8c8cccd79ef",
   "metadata": {},
   "outputs": [],
   "source": [
    "sel1=np.where((cmplen_U>3)*(cmplen_W>3))[0]"
   ]
  },
  {
   "cell_type": "code",
   "execution_count": 49,
   "id": "379a9e6f-5adf-4460-bfb0-77600e6a7fc4",
   "metadata": {},
   "outputs": [
    {
     "data": {
      "text/plain": [
       "1556"
      ]
     },
     "execution_count": 49,
     "metadata": {},
     "output_type": "execute_result"
    },
    {
     "data": {
      "image/png": "[encoded data removed]",
      "text/plain": [
       "<Figure size 432x288 with 1 Axes>"
      ]
     },
     "metadata": {
      "needs_background": "light"
     },
     "output_type": "display_data"
    }
   ],
   "source": [
    "from matplotlib import pyplot as pl\n",
    "cens=0\n",
    "for s in sel1:\n",
    "    d=dall[s]['UVW1']\n",
    "    sx=d[:,2]<50\n",
    "    cens+=sum(sx)\n",
    "    pl.errorbar(d[sx,0],d[sx,2],d[sx,3],d[sx,1]/2,'s')\n",
    "    ax=pl.gca()\n",
    "    ax.set_xscale(\"log\")\n",
    "pl.ylim(29,15)\n",
    "cens"
   ]
  },
  {
   "cell_type": "code",
   "execution_count": 45,
   "id": "b47b3b6b-ec42-438e-89d3-e7b0a047d764",
   "metadata": {},
   "outputs": [
    {
     "data": {
      "text/plain": [
       "[<matplotlib.lines.Line2D at 0x7f994cac1de0>]"
      ]
     },
     "execution_count": 45,
     "metadata": {},
     "output_type": "execute_result"
    },
    {
     "data": {
      "image/png": "[encoded data removed]",
      "text/plain": [
       "<Figure size 432x288 with 1 Axes>"
      ]
     },
     "metadata": {
      "needs_background": "light"
     },
     "output_type": "display_data"
    }
   ],
   "source": [
    "pl.plot(d[sx,1],d[sx,3],'d')"
   ]
  },
  {
   "cell_type": "code",
   "execution_count": 33,
   "id": "bbc3d589-6021-4ffb-8292-e9a80e1e4374",
   "metadata": {},
   "outputs": [
    {
     "name": "stderr",
     "output_type": "stream",
     "text": [
      "/tmp/ipykernel_4172/172822834.py:2: RuntimeWarning: Mean of empty slice.\n",
      "  umean=lambda x:x[x!=0].mean()\n"
     ]
    },
    {
     "data": {
      "text/plain": [
       "[-1.5300006866455078,\n",
       " -1.5299998196688565,\n",
       " -1.5299997744352922,\n",
       " -1.529999472878196,\n",
       " -1.5299998196688565,\n",
       " -1.5299999237060546,\n",
       " -1.5299999237060546,\n",
       " -1.5300000341315019,\n",
       " -1.5299999237060546,\n",
       " -1.5300001416887556,\n",
       " -1.5299993242536272,\n",
       " -1.5300001416887556,\n",
       " -1.5299998389350042,\n",
       " -1.5299998389350042,\n",
       " -1.5300002098083496,\n",
       " -1.530000166459517,\n",
       " -1.5300004141671317,\n",
       " -1.5300003051757813,\n",
       " -1.5299999373299735,\n",
       " -1.5300000508626301,\n",
       " -1.5299999237060546,\n",
       " -1.5299996462735264,\n",
       " -1.5299997890696806,\n",
       " -1.5300000508626301,\n",
       " -1.5100000381469727,\n",
       " -1.5100001284950657,\n",
       " -1.510000142184171,\n",
       " -1.510000228881836,\n",
       " -1.5100000315699085,\n",
       " -1.510000228881836,\n",
       " -1.5099997800939224,\n",
       " -1.5100000821627104,\n",
       " -1.5099998474121095,\n",
       " -1.5100001284950657,\n",
       " -1.5099999564034599,\n",
       " -1.5099998820911755,\n",
       " -1.5099998474121095,\n",
       " -1.5100000554865056,\n",
       " -1.5099997887244592,\n",
       " -1.5100000821627104,\n",
       " -1.5099999564034599,\n",
       " -1.510000228881836,\n",
       " -1.510000228881836,\n",
       " -1.5099999804149642,\n",
       " -1.5100000381469727,\n",
       " -1.509999974568685,\n",
       " -1.510000228881836,\n",
       " -1.5100000926426478,\n",
       " -1.510000228881836,\n",
       " -1.5099995930989583,\n",
       " -1.510000228881836,\n",
       " -1.5099997520446777,\n",
       " -1.510000228881836,\n",
       " -1.51000001695421,\n",
       " -1.5099999109903972,\n",
       " -1.510000228881836,\n",
       " -1.5100000762939454,\n",
       " -1.510000228881836,\n",
       " -1.510000228881836,\n",
       " -1.5100000245230538,\n",
       " -1.510000228881836,\n",
       " -1.510000228881836,\n",
       " -1.5099994659423828,\n",
       " -1.5100000381469727,\n",
       " -1.510000228881836,\n",
       " -1.510000228881836,\n",
       " -1.5100000281082957,\n",
       " -1.510000228881836,\n",
       " -1.5099999904632568,\n",
       " -1.5099998474121095,\n",
       " nan,\n",
       " -1.5099999904632568,\n",
       " -1.5099983215332031,\n",
       " -1.5099999564034599,\n",
       " -1.510000228881836,\n",
       " -1.510000228881836,\n",
       " -1.51000001695421,\n",
       " -1.510000228881836,\n",
       " -1.510000228881836,\n",
       " -1.5099998474121095,\n",
       " -1.510000228881836,\n",
       " -1.5100001284950657,\n",
       " -1.5099999109903972,\n",
       " -1.510000228881836,\n",
       " -1.5099992752075195,\n",
       " -1.510000228881836,\n",
       " -1.510000228881836,\n",
       " -1.510000142184171,\n",
       " -1.510000228881836,\n",
       " -1.5099999904632568,\n",
       " -1.510000228881836,\n",
       " -1.510000228881836,\n",
       " -1.5099996839250838,\n",
       " -1.5099992752075195,\n",
       " -1.510000228881836,\n",
       " -1.5100001335144042,\n",
       " -1.510000228881836,\n",
       " -1.5099997520446777,\n",
       " -1.510000228881836,\n",
       " -1.5099999109903972,\n",
       " -1.510000228881836,\n",
       " -1.510000228881836,\n",
       " -1.510000228881836,\n",
       " -1.5100000926426478,\n",
       " -1.510000228881836,\n",
       " -1.5099992752075195,\n",
       " -1.5099999109903972,\n",
       " -1.5099998474121095,\n",
       " -1.5099999564034599,\n",
       " -1.510000228881836,\n",
       " -1.5099999904632568,\n",
       " -1.510000228881836,\n",
       " -1.510000228881836,\n",
       " -1.510000228881836,\n",
       " -1.5099983215332031,\n",
       " -1.5099998474121095,\n",
       " -1.5099999564034599,\n",
       " -1.5099995930989583,\n",
       " -1.510000228881836,\n",
       " -1.5099996839250838,\n",
       " -1.5099997202555338,\n",
       " nan,\n",
       " -1.5099998820911755,\n",
       " -1.5100000554865056,\n",
       " -1.5099998474121095,\n",
       " -1.510000228881836,\n",
       " -1.510000228881836,\n",
       " -1.5099998474121095,\n",
       " -1.510000228881836,\n",
       " -1.510000228881836,\n",
       " -1.510000228881836,\n",
       " -1.510000228881836,\n",
       " -1.510000228881836,\n",
       " -1.5099995930989583,\n",
       " -1.5099999904632568,\n",
       " -1.510000228881836,\n",
       " -1.510000228881836,\n",
       " -1.5099995930989583,\n",
       " -1.510000228881836,\n",
       " -1.5100000381469727,\n",
       " -1.5099999904632568,\n",
       " -1.5099992752075195,\n",
       " -1.510000228881836,\n",
       " -1.5099997520446777,\n",
       " -1.510000228881836,\n",
       " -1.5099995930989583,\n",
       " -1.5100000554865056,\n",
       " -1.510000228881836,\n",
       " -1.510000228881836,\n",
       " -1.510000228881836,\n",
       " -1.510000228881836,\n",
       " -1.5099999277215255,\n",
       " -1.5099997520446777]"
      ]
     },
     "execution_count": 33,
     "metadata": {},
     "output_type": "execute_result"
    }
   ],
   "source": [
    "i=sel1[0]\n",
    "umean=lambda x:x[x!=0].mean()\n",
    "dif_U=[umean(dall[i]['UVW1'][:,2]-dall[i]['UVW1'][:,4]) for i in sel1]\n",
    "dif_U\n",
    "#dall[i]['UVW1'][:,2]"
   ]
  },
  {
   "cell_type": "markdown",
   "id": "4febca54-b039-4019-9fd3-d7a14273c824",
   "metadata": {},
   "source": [
    "### VO table for magnitudes"
   ]
  },
  {
   "cell_type": "code",
   "execution_count": 12,
   "id": "037c3bae-6c9b-417c-8f22-ee6dbec061f8",
   "metadata": {},
   "outputs": [
    {
     "data": {
      "text/plain": [
       "['w3___row',\n",
       " 'obsid',\n",
       " 'source_number',\n",
       " 'name',\n",
       " 'ra',\n",
       " 'ra_error',\n",
       " 'dec',\n",
       " 'dec_error',\n",
       " 'vmag',\n",
       " 'vmag_error',\n",
       " 'uvm2_mag',\n",
       " 'uvm2_mag_error',\n",
       " 'uvw2_mag',\n",
       " 'uvw2_mag_error',\n",
       " 'uvw1_mag',\n",
       " 'uvw1_mag_error',\n",
       " 'Search_Offset']"
      ]
     },
     "execution_count": 12,
     "metadata": {},
     "output_type": "execute_result"
    }
   ],
   "source": [
    "from astropy.io.votable import parse\n",
    "map1=parse(\"/home/limu/Space/data/swift/Swift_SSC_UV_votable.xml\")\n",
    "tab1=map1.resources[0].tables[0]\n",
    "[f.ID for f in tab1.fields]"
   ]
  },
  {
   "cell_type": "code",
   "execution_count": null,
   "id": "eb0403b7-b225-4871-87ec-41b478946f43",
   "metadata": {},
   "outputs": [],
   "source": [
    "import requests\n",
    "SR=3\n",
    "RA,DEC=12,14\n",
    "from astropy.table import Table\n",
    "import io\n",
    "params = {'table': 'swuvotssc', 'RA': RA, 'DEC':DEC, 'SR':SR}\n",
    "params['fields']='All'\n",
    "#r = requests.get('https://heasarc.gsfc.nasa.gov/cgi-bin/vo/cone/coneGet.pl', params=params)\n",
    "#ra2,dec2=tab1.array['ra'],tab1.array['dec']\n",
    "#tab2=Table.read(io.BytesIO(r.content))"
   ]
  },
  {
   "cell_type": "code",
   "execution_count": 5,
   "id": "ffad0937-44ba-4771-8430-5e1879c6acbb",
   "metadata": {},
   "outputs": [],
   "source": [
    "map2=parse(\"/home/limu/Space/data/swift/Swift_SSC_UV_multi.xml\")\n",
    "tab2=map2.resources[0].tables[0]"
   ]
  },
  {
   "cell_type": "markdown",
   "id": "7a27eea8-95df-45c7-b0f4-16763409027d",
   "metadata": {},
   "source": [
    "#### SWIFT/UVOT filter parameters [Angstrom] mid+-fwhm\n",
    "- v 5468 769\n",
    "- b 4392 975\n",
    "- u 3465 785\n",
    "- uvw1 2600 693\n",
    "- uvm2 2246 498\n",
    "- uvw2 1928 657"
   ]
  },
  {
   "cell_type": "code",
   "execution_count": 18,
   "id": "c0d8e6ae-dcdc-4bfb-8bc1-df294566cbfc",
   "metadata": {},
   "outputs": [],
   "source": [
    "[f.ID for f in tab2.fields]\n",
    "mag1,mag2,mag3=[tab2.array['uv%s_mag'%a].data for a in \"m2,w1,w2\".split(',')]"
   ]
  },
  {
   "cell_type": "code",
   "execution_count": 19,
   "id": "b86eab0c-81df-4c2c-b39d-4a7137827f2c",
   "metadata": {},
   "outputs": [
    {
     "data": {
      "text/plain": [
       "(299, 182, 519)"
      ]
     },
     "execution_count": 19,
     "metadata": {},
     "output_type": "execute_result"
    }
   ],
   "source": [
    "sum(mag1>0),sum(mag2>0),sum(mag3>0)"
   ]
  },
  {
   "cell_type": "code",
   "execution_count": 22,
   "id": "0cdb7604-7ce7-46c8-aae1-c6ac0f288527",
   "metadata": {},
   "outputs": [
    {
     "data": {
      "text/plain": [
       "[<matplotlib.lines.Line2D at 0x7efcf4af5a20>]"
      ]
     },
     "execution_count": 22,
     "metadata": {},
     "output_type": "execute_result"
    },
    {
     "data": {
      "image/png": "[encoded data removed]",
      "text/plain": [
       "<Figure size 432x288 with 1 Axes>"
      ]
     },
     "metadata": {
      "needs_background": "light"
     },
     "output_type": "display_data"
    }
   ],
   "source": [
    "sel=(mag2>0)*(mag3>0)\n",
    "pl.plot(mag2[sel],mag3[sel]-mag2[sel],'.')"
   ]
  },
  {
   "cell_type": "code",
   "execution_count": 25,
   "id": "476fabc6-7746-44a4-b6af-4b6f2de8a724",
   "metadata": {},
   "outputs": [
    {
     "data": {
      "text/plain": [
       "(182, 299, 0.10580000000000211)"
      ]
     },
     "execution_count": 25,
     "metadata": {},
     "output_type": "execute_result"
    },
    {
     "data": {
      "image/png": "[encoded data removed]",
      "text/plain": [
       "<Figure size 432x288 with 1 Axes>"
      ]
     },
     "metadata": {
      "needs_background": "light"
     },
     "output_type": "display_data"
    }
   ],
   "source": [
    "import numpy as np\n",
    "sel2=(mag1>0)*(mag3>0)\n",
    "pl.plot(mag1[sel2],mag3[sel2]-mag1[sel2],'.')\n",
    "sum(sel),sum(sel2),np.median(mag3[sel2]-mag1[sel2])"
   ]
  },
  {
   "cell_type": "code",
   "execution_count": 8,
   "id": "f29d1787-0975-48b6-b14d-eae7a21537cd",
   "metadata": {},
   "outputs": [
    {
     "data": {
      "text/plain": [
       "[<matplotlib.lines.Line2D at 0x7efcf7cb2380>]"
      ]
     },
     "execution_count": 8,
     "metadata": {},
     "output_type": "execute_result"
    },
    {
     "data": {
      "image/png": "[encoded data removed]",
      "text/plain": [
       "<Figure size 432x288 with 1 Axes>"
      ]
     },
     "metadata": {
      "needs_background": "light"
     },
     "output_type": "display_data"
    }
   ],
   "source": [
    "from matplotlib import pyplot as pl\n",
    "pl.plot(tab2.array['ra'],tab2.array['dec'],',')"
   ]
  },
  {
   "cell_type": "code",
   "execution_count": 31,
   "id": "45ac5841-50b5-4427-9749-513a7a6bad84",
   "metadata": {},
   "outputs": [
    {
     "data": {
      "text/plain": [
       "171"
      ]
     },
     "execution_count": 31,
     "metadata": {},
     "output_type": "execute_result"
    },
    {
     "data": {
      "image/png": "[encoded data removed]",
      "text/plain": [
       "<Figure size 432x288 with 2 Axes>"
      ]
     },
     "metadata": {
      "needs_background": "light"
     },
     "output_type": "display_data"
    }
   ],
   "source": [
    "from matplotlib import pyplot as pl\n",
    "sel=dec>3\n",
    "umag=tab1.array['uvm2_mag']\n",
    "pl.scatter(ra[sel],dec[sel],s=1,c=22-umag[sel])\n",
    "pl.colorbar()\n",
    "sum(sel)"
   ]
  },
  {
   "cell_type": "code",
   "execution_count": 17,
   "id": "fb01f511-7a25-4dc9-8358-b7320f3a637c",
   "metadata": {},
   "outputs": [
    {
     "data": {
      "image/png": "[encoded data removed]",
      "text/plain": [
       "<Figure size 432x288 with 1 Axes>"
      ]
     },
     "metadata": {
      "needs_background": "light"
     },
     "output_type": "display_data"
    }
   ],
   "source": [
    "pl.hist(tab1.array['uvm2_mag'],30);"
   ]
  },
  {
   "cell_type": "markdown",
   "id": "7dc5a52d-e4c8-4274-9792-b454e6a3b74e",
   "metadata": {},
   "source": [
    "### SIA search"
   ]
  },
  {
   "cell_type": "code",
   "execution_count": 37,
   "id": "1c5c9e04-8dae-4ef9-9483-2bb452c5c2d0",
   "metadata": {},
   "outputs": [
    {
     "name": "stdout",
     "output_type": "stream",
     "text": [
      "['Survey', 'Ra', 'Dec', 'Dim', 'Size', 'Scale', 'Format', 'PixFlags', 'URL', 'LogicalName']\n"
     ]
    }
   ],
   "source": [
    "pos='{},{}'.format(RA,DEC)\n",
    "params = {'survey': 'swiftuvot', 'POS': pos, 'SIZE':'0.03', \"NAXIS\":\"300,300\"}\n",
    "r = requests.get('https://skyview.gsfc.nasa.gov/cgi-bin/vo/sia.pl', params=params)\n",
    "table=Table.read(io.BytesIO(r.content))\n",
    "print(table.colnames)"
   ]
  },
  {
   "cell_type": "code",
   "execution_count": 41,
   "id": "8e508ccf-3317-4540-bf49-f328b4a38d81",
   "metadata": {},
   "outputs": [
    {
     "data": {
      "text/html": [
       "<img src=\"https://skyview.gsfc.nasa.gov/cgi-bin/images?position=10%2C12&survey=swiftuvotuint&pixels=300%2C300&sampler=LI&size=0.03%2C0.03&projection=Tan&coordinates=J2000.0&requestID=skv1679495514692&nofits=1&quicklook=jpeg&return=jpeg\"/>"
      ],
      "text/plain": [
       "<IPython.core.display.Image object>"
      ]
     },
     "metadata": {},
     "output_type": "display_data"
    }
   ],
   "source": [
    "from IPython.display import Image, display\n",
    "display(Image(url=table['URL'][5]))"
   ]
  },
  {
   "cell_type": "markdown",
   "id": "33a5032b-fbaf-4276-999d-d73e75256cfe",
   "metadata": {},
   "source": [
    "## Chandra data\n",
    "\n",
    "other tables:\n",
    "\n",
    "- GALEX\tivo://nasa.heasarc/skyview/galex\n",
    "- SWIFTUVOT\tivo://nasa.heasarc/skyview/swiftuvot\n",
    "- SwiftUVOT\tivo://nasa.heasarc/swiftuvlog"
   ]
  },
  {
   "cell_type": "code",
   "execution_count": 43,
   "id": "057a1112-9dee-4f38-8c9c-2808e51f73e1",
   "metadata": {},
   "outputs": [
    {
     "name": "stdout",
     "output_type": "stream",
     "text": [
      "connection failed\n"
     ]
    }
   ],
   "source": [
    "import astropy.coordinates as coord\n",
    "m82=coord.SkyCoord.from_name(\"m82\")\n",
    "pos='{},{}'.format(m82.ra.deg,m82.dec.deg)\n",
    "params = {'table': 'chanmaster',\"POS\":pos,\"SIZE\":\".01\", \"REQUEST\":\"queryData\"}\n",
    "try:\n",
    "    r = requests.get('https://heasarc.nasa.gov/xamin/vo/ssa', params=params)\n",
    "    spec_table = Table.read(io.BytesIO(r.content))\n",
    "except:\n",
    "    print(\"connection failed\")\n",
    "else:\n",
    "    spec_table.show_in_notebook()"
   ]
  },
  {
   "cell_type": "code",
   "execution_count": 46,
   "id": "0a32fd9d-16e9-48c4-8aa7-ec42c0ee820b",
   "metadata": {},
   "outputs": [
    {
     "ename": "ValueError",
     "evalue": "No table found",
     "output_type": "error",
     "traceback": [
      "\u001b[0;31m---------------------------------------------------------------------------\u001b[0m",
      "\u001b[0;31mValueError\u001b[0m                                Traceback (most recent call last)",
      "Input \u001b[0;32mIn [46]\u001b[0m, in \u001b[0;36m<cell line: 22>\u001b[0;34m()\u001b[0m\n\u001b[1;32m     10\u001b[0m old\u001b[38;5;241m=\u001b[39m\u001b[38;5;124m\"\"\"\u001b[39m\n\u001b[1;32m     11\u001b[0m \u001b[38;5;124m    select a.name,b.value\u001b[39m\n\u001b[1;32m     12\u001b[0m \u001b[38;5;124m      from metainfo a, metainfo b\u001b[39m\n\u001b[0;32m   (...)\u001b[0m\n\u001b[1;32m     19\u001b[0m \u001b[38;5;124m      order by name    \u001b[39m\n\u001b[1;32m     20\u001b[0m \u001b[38;5;124m      \u001b[39m\u001b[38;5;124m\"\"\"\u001b[39m\n\u001b[1;32m     21\u001b[0m r \u001b[38;5;241m=\u001b[39m requests\u001b[38;5;241m.\u001b[39mget(\u001b[38;5;124m'\u001b[39m\u001b[38;5;124mhttps://heasarc.gsfc.nasa.gov/xamin/vo/tap/sync\u001b[39m\u001b[38;5;124m'\u001b[39m, params\u001b[38;5;241m=\u001b[39mtap_params)\n\u001b[0;32m---> 22\u001b[0m table\u001b[38;5;241m=\u001b[39mTable\u001b[38;5;241m.\u001b[39mread(io\u001b[38;5;241m.\u001b[39mBytesIO(r\u001b[38;5;241m.\u001b[39mcontent))\n\u001b[1;32m     23\u001b[0m table\u001b[38;5;241m.\u001b[39mshow_in_notebook()\n",
      "File \u001b[0;32m/usr/local/lib64/python3.10/site-packages/astropy/table/connect.py:62\u001b[0m, in \u001b[0;36mTableRead.__call__\u001b[0;34m(self, *args, **kwargs)\u001b[0m\n\u001b[1;32m     59\u001b[0m units \u001b[38;5;241m=\u001b[39m kwargs\u001b[38;5;241m.\u001b[39mpop(\u001b[38;5;124m'\u001b[39m\u001b[38;5;124munits\u001b[39m\u001b[38;5;124m'\u001b[39m, \u001b[38;5;28;01mNone\u001b[39;00m)\n\u001b[1;32m     60\u001b[0m descriptions \u001b[38;5;241m=\u001b[39m kwargs\u001b[38;5;241m.\u001b[39mpop(\u001b[38;5;124m'\u001b[39m\u001b[38;5;124mdescriptions\u001b[39m\u001b[38;5;124m'\u001b[39m, \u001b[38;5;28;01mNone\u001b[39;00m)\n\u001b[0;32m---> 62\u001b[0m out \u001b[38;5;241m=\u001b[39m \u001b[38;5;28;43mself\u001b[39;49m\u001b[38;5;241;43m.\u001b[39;49m\u001b[43mregistry\u001b[49m\u001b[38;5;241;43m.\u001b[39;49m\u001b[43mread\u001b[49m\u001b[43m(\u001b[49m\u001b[38;5;28;43mcls\u001b[39;49m\u001b[43m,\u001b[49m\u001b[43m \u001b[49m\u001b[38;5;241;43m*\u001b[39;49m\u001b[43margs\u001b[49m\u001b[43m,\u001b[49m\u001b[43m \u001b[49m\u001b[38;5;241;43m*\u001b[39;49m\u001b[38;5;241;43m*\u001b[39;49m\u001b[43mkwargs\u001b[49m\u001b[43m)\u001b[49m\n\u001b[1;32m     64\u001b[0m \u001b[38;5;66;03m# For some readers (e.g., ascii.ecsv), the returned `out` class is not\u001b[39;00m\n\u001b[1;32m     65\u001b[0m \u001b[38;5;66;03m# guaranteed to be the same as the desired output `cls`.  If so,\u001b[39;00m\n\u001b[1;32m     66\u001b[0m \u001b[38;5;66;03m# try coercing to desired class without copying (io.registry.read\u001b[39;00m\n\u001b[1;32m     67\u001b[0m \u001b[38;5;66;03m# would normally do a copy).  The normal case here is swapping\u001b[39;00m\n\u001b[1;32m     68\u001b[0m \u001b[38;5;66;03m# Table <=> QTable.\u001b[39;00m\n\u001b[1;32m     69\u001b[0m \u001b[38;5;28;01mif\u001b[39;00m \u001b[38;5;28mcls\u001b[39m \u001b[38;5;129;01mis\u001b[39;00m \u001b[38;5;129;01mnot\u001b[39;00m out\u001b[38;5;241m.\u001b[39m\u001b[38;5;18m__class__\u001b[39m:\n",
      "File \u001b[0;32m/usr/local/lib64/python3.10/site-packages/astropy/io/registry/core.py:199\u001b[0m, in \u001b[0;36mUnifiedInputRegistry.read\u001b[0;34m(self, cls, format, cache, *args, **kwargs)\u001b[0m\n\u001b[1;32m    195\u001b[0m     \u001b[38;5;28mformat\u001b[39m \u001b[38;5;241m=\u001b[39m \u001b[38;5;28mself\u001b[39m\u001b[38;5;241m.\u001b[39m_get_valid_format(\n\u001b[1;32m    196\u001b[0m         \u001b[38;5;124m'\u001b[39m\u001b[38;5;124mread\u001b[39m\u001b[38;5;124m'\u001b[39m, \u001b[38;5;28mcls\u001b[39m, path, fileobj, args, kwargs)\n\u001b[1;32m    198\u001b[0m reader \u001b[38;5;241m=\u001b[39m \u001b[38;5;28mself\u001b[39m\u001b[38;5;241m.\u001b[39mget_reader(\u001b[38;5;28mformat\u001b[39m, \u001b[38;5;28mcls\u001b[39m)\n\u001b[0;32m--> 199\u001b[0m data \u001b[38;5;241m=\u001b[39m \u001b[43mreader\u001b[49m\u001b[43m(\u001b[49m\u001b[38;5;241;43m*\u001b[39;49m\u001b[43margs\u001b[49m\u001b[43m,\u001b[49m\u001b[43m \u001b[49m\u001b[38;5;241;43m*\u001b[39;49m\u001b[38;5;241;43m*\u001b[39;49m\u001b[43mkwargs\u001b[49m\u001b[43m)\u001b[49m\n\u001b[1;32m    201\u001b[0m \u001b[38;5;28;01mif\u001b[39;00m \u001b[38;5;129;01mnot\u001b[39;00m \u001b[38;5;28misinstance\u001b[39m(data, \u001b[38;5;28mcls\u001b[39m):\n\u001b[1;32m    202\u001b[0m     \u001b[38;5;66;03m# User has read with a subclass where only the parent class is\u001b[39;00m\n\u001b[1;32m    203\u001b[0m     \u001b[38;5;66;03m# registered.  This returns the parent class, so try coercing\u001b[39;00m\n\u001b[1;32m    204\u001b[0m     \u001b[38;5;66;03m# to desired subclass.\u001b[39;00m\n\u001b[1;32m    205\u001b[0m     \u001b[38;5;28;01mtry\u001b[39;00m:\n",
      "File \u001b[0;32m/usr/local/lib64/python3.10/site-packages/astropy/io/votable/connect.py:122\u001b[0m, in \u001b[0;36mread_table_votable\u001b[0;34m(input, table_id, use_names_over_ids, verify, **kwargs)\u001b[0m\n\u001b[1;32m    120\u001b[0m         table \u001b[38;5;241m=\u001b[39m tables[\u001b[38;5;241m0\u001b[39m]\n\u001b[1;32m    121\u001b[0m     \u001b[38;5;28;01melse\u001b[39;00m:\n\u001b[0;32m--> 122\u001b[0m         \u001b[38;5;28;01mraise\u001b[39;00m \u001b[38;5;167;01mValueError\u001b[39;00m(\u001b[38;5;124m\"\u001b[39m\u001b[38;5;124mNo table found\u001b[39m\u001b[38;5;124m\"\u001b[39m)\n\u001b[1;32m    123\u001b[0m \u001b[38;5;28;01melif\u001b[39;00m \u001b[38;5;28misinstance\u001b[39m(\u001b[38;5;28minput\u001b[39m, VOTable):\n\u001b[1;32m    124\u001b[0m     table \u001b[38;5;241m=\u001b[39m \u001b[38;5;28minput\u001b[39m\n",
      "\u001b[0;31mValueError\u001b[0m: No table found"
     ]
    }
   ],
   "source": [
    "tap_params = {\n",
    "    \"request\":\"doQuery\",\n",
    "    \"lang\":\"ADQL\",\n",
    "    }\n",
    "tap_params[\"query\"]=\"\"\"SELECT ra, dec, bmag, uvm2_mag FROM swuvotssc as cat where \n",
    "    contains(point('ICRS',cat.ra,cat.dec),circle('ICRS',{0},{1},{2}))=1 and\n",
    "    cat.bmag < 14\n",
    "    order by cat.radial_velocity_error\n",
    "    \"\"\".format(RA,DEC,0.1)\n",
    "old=\"\"\"\n",
    "    select a.name,b.value\n",
    "      from metainfo a, metainfo b\n",
    "      where\n",
    "         a.type='table' and b.type='table' and\n",
    "         a.relation='defaultSearchRadius' and\n",
    "         b.relation='description' and\n",
    "         a.name=b.name and\n",
    "         b.value like '%Redshift%' \n",
    "      order by name    \n",
    "      \"\"\"\n",
    "r = requests.get('https://heasarc.gsfc.nasa.gov/xamin/vo/tap/sync', params=tap_params)\n",
    "table=Table.read(io.BytesIO(r.content))\n",
    "table.show_in_notebook()\n",
    "\n"
   ]
  },
  {
   "cell_type": "code",
   "execution_count": 5,
   "id": "2b6497b5-6929-4c3a-b517-32c3446b2c95",
   "metadata": {},
   "outputs": [
    {
     "data": {
      "text/plain": [
       "\u001b[0;31mInit signature:\u001b[0m \u001b[0mfunctools\u001b[0m\u001b[0;34m.\u001b[0m\u001b[0mpartial\u001b[0m\u001b[0;34m(\u001b[0m\u001b[0mself\u001b[0m\u001b[0;34m,\u001b[0m \u001b[0;34m/\u001b[0m\u001b[0;34m,\u001b[0m \u001b[0;34m*\u001b[0m\u001b[0margs\u001b[0m\u001b[0;34m,\u001b[0m \u001b[0;34m**\u001b[0m\u001b[0mkwargs\u001b[0m\u001b[0;34m)\u001b[0m\u001b[0;34m\u001b[0m\u001b[0;34m\u001b[0m\u001b[0m\n",
       "\u001b[0;31mDocstring:\u001b[0m     \n",
       "partial(func, *args, **keywords) - new function with partial application\n",
       "of the given arguments and keywords.\n",
       "\u001b[0;31mSource:\u001b[0m        \n",
       "\u001b[0;32mclass\u001b[0m \u001b[0mpartial\u001b[0m\u001b[0;34m:\u001b[0m\u001b[0;34m\u001b[0m\n",
       "\u001b[0;34m\u001b[0m    \u001b[0;34m\"\"\"New function with partial application of the given arguments\u001b[0m\n",
       "\u001b[0;34m    and keywords.\u001b[0m\n",
       "\u001b[0;34m    \"\"\"\u001b[0m\u001b[0;34m\u001b[0m\n",
       "\u001b[0;34m\u001b[0m\u001b[0;34m\u001b[0m\n",
       "\u001b[0;34m\u001b[0m    \u001b[0m__slots__\u001b[0m \u001b[0;34m=\u001b[0m \u001b[0;34m\"func\"\u001b[0m\u001b[0;34m,\u001b[0m \u001b[0;34m\"args\"\u001b[0m\u001b[0;34m,\u001b[0m \u001b[0;34m\"keywords\"\u001b[0m\u001b[0;34m,\u001b[0m \u001b[0;34m\"__dict__\"\u001b[0m\u001b[0;34m,\u001b[0m \u001b[0;34m\"__weakref__\"\u001b[0m\u001b[0;34m\u001b[0m\n",
       "\u001b[0;34m\u001b[0m\u001b[0;34m\u001b[0m\n",
       "\u001b[0;34m\u001b[0m    \u001b[0;32mdef\u001b[0m \u001b[0m__new__\u001b[0m\u001b[0;34m(\u001b[0m\u001b[0mcls\u001b[0m\u001b[0;34m,\u001b[0m \u001b[0mfunc\u001b[0m\u001b[0;34m,\u001b[0m \u001b[0;34m/\u001b[0m\u001b[0;34m,\u001b[0m \u001b[0;34m*\u001b[0m\u001b[0margs\u001b[0m\u001b[0;34m,\u001b[0m \u001b[0;34m**\u001b[0m\u001b[0mkeywords\u001b[0m\u001b[0;34m)\u001b[0m\u001b[0;34m:\u001b[0m\u001b[0;34m\u001b[0m\n",
       "\u001b[0;34m\u001b[0m        \u001b[0;32mif\u001b[0m \u001b[0;32mnot\u001b[0m \u001b[0mcallable\u001b[0m\u001b[0;34m(\u001b[0m\u001b[0mfunc\u001b[0m\u001b[0;34m)\u001b[0m\u001b[0;34m:\u001b[0m\u001b[0;34m\u001b[0m\n",
       "\u001b[0;34m\u001b[0m            \u001b[0;32mraise\u001b[0m \u001b[0mTypeError\u001b[0m\u001b[0;34m(\u001b[0m\u001b[0;34m\"the first argument must be callable\"\u001b[0m\u001b[0;34m)\u001b[0m\u001b[0;34m\u001b[0m\n",
       "\u001b[0;34m\u001b[0m\u001b[0;34m\u001b[0m\n",
       "\u001b[0;34m\u001b[0m        \u001b[0;32mif\u001b[0m \u001b[0mhasattr\u001b[0m\u001b[0;34m(\u001b[0m\u001b[0mfunc\u001b[0m\u001b[0;34m,\u001b[0m \u001b[0;34m\"func\"\u001b[0m\u001b[0;34m)\u001b[0m\u001b[0;34m:\u001b[0m\u001b[0;34m\u001b[0m\n",
       "\u001b[0;34m\u001b[0m            \u001b[0margs\u001b[0m \u001b[0;34m=\u001b[0m \u001b[0mfunc\u001b[0m\u001b[0;34m.\u001b[0m\u001b[0margs\u001b[0m \u001b[0;34m+\u001b[0m \u001b[0margs\u001b[0m\u001b[0;34m\u001b[0m\n",
       "\u001b[0;34m\u001b[0m            \u001b[0mkeywords\u001b[0m \u001b[0;34m=\u001b[0m \u001b[0;34m{\u001b[0m\u001b[0;34m**\u001b[0m\u001b[0mfunc\u001b[0m\u001b[0;34m.\u001b[0m\u001b[0mkeywords\u001b[0m\u001b[0;34m,\u001b[0m \u001b[0;34m**\u001b[0m\u001b[0mkeywords\u001b[0m\u001b[0;34m}\u001b[0m\u001b[0;34m\u001b[0m\n",
       "\u001b[0;34m\u001b[0m            \u001b[0mfunc\u001b[0m \u001b[0;34m=\u001b[0m \u001b[0mfunc\u001b[0m\u001b[0;34m.\u001b[0m\u001b[0mfunc\u001b[0m\u001b[0;34m\u001b[0m\n",
       "\u001b[0;34m\u001b[0m\u001b[0;34m\u001b[0m\n",
       "\u001b[0;34m\u001b[0m        \u001b[0mself\u001b[0m \u001b[0;34m=\u001b[0m \u001b[0msuper\u001b[0m\u001b[0;34m(\u001b[0m\u001b[0mpartial\u001b[0m\u001b[0;34m,\u001b[0m \u001b[0mcls\u001b[0m\u001b[0;34m)\u001b[0m\u001b[0;34m.\u001b[0m\u001b[0m__new__\u001b[0m\u001b[0;34m(\u001b[0m\u001b[0mcls\u001b[0m\u001b[0;34m)\u001b[0m\u001b[0;34m\u001b[0m\n",
       "\u001b[0;34m\u001b[0m\u001b[0;34m\u001b[0m\n",
       "\u001b[0;34m\u001b[0m        \u001b[0mself\u001b[0m\u001b[0;34m.\u001b[0m\u001b[0mfunc\u001b[0m \u001b[0;34m=\u001b[0m \u001b[0mfunc\u001b[0m\u001b[0;34m\u001b[0m\n",
       "\u001b[0;34m\u001b[0m        \u001b[0mself\u001b[0m\u001b[0;34m.\u001b[0m\u001b[0margs\u001b[0m \u001b[0;34m=\u001b[0m \u001b[0margs\u001b[0m\u001b[0;34m\u001b[0m\n",
       "\u001b[0;34m\u001b[0m        \u001b[0mself\u001b[0m\u001b[0;34m.\u001b[0m\u001b[0mkeywords\u001b[0m \u001b[0;34m=\u001b[0m \u001b[0mkeywords\u001b[0m\u001b[0;34m\u001b[0m\n",
       "\u001b[0;34m\u001b[0m        \u001b[0;32mreturn\u001b[0m \u001b[0mself\u001b[0m\u001b[0;34m\u001b[0m\n",
       "\u001b[0;34m\u001b[0m\u001b[0;34m\u001b[0m\n",
       "\u001b[0;34m\u001b[0m    \u001b[0;32mdef\u001b[0m \u001b[0m__call__\u001b[0m\u001b[0;34m(\u001b[0m\u001b[0mself\u001b[0m\u001b[0;34m,\u001b[0m \u001b[0;34m/\u001b[0m\u001b[0;34m,\u001b[0m \u001b[0;34m*\u001b[0m\u001b[0margs\u001b[0m\u001b[0;34m,\u001b[0m \u001b[0;34m**\u001b[0m\u001b[0mkeywords\u001b[0m\u001b[0;34m)\u001b[0m\u001b[0;34m:\u001b[0m\u001b[0;34m\u001b[0m\n",
       "\u001b[0;34m\u001b[0m        \u001b[0mkeywords\u001b[0m \u001b[0;34m=\u001b[0m \u001b[0;34m{\u001b[0m\u001b[0;34m**\u001b[0m\u001b[0mself\u001b[0m\u001b[0;34m.\u001b[0m\u001b[0mkeywords\u001b[0m\u001b[0;34m,\u001b[0m \u001b[0;34m**\u001b[0m\u001b[0mkeywords\u001b[0m\u001b[0;34m}\u001b[0m\u001b[0;34m\u001b[0m\n",
       "\u001b[0;34m\u001b[0m        \u001b[0;32mreturn\u001b[0m \u001b[0mself\u001b[0m\u001b[0;34m.\u001b[0m\u001b[0mfunc\u001b[0m\u001b[0;34m(\u001b[0m\u001b[0;34m*\u001b[0m\u001b[0mself\u001b[0m\u001b[0;34m.\u001b[0m\u001b[0margs\u001b[0m\u001b[0;34m,\u001b[0m \u001b[0;34m*\u001b[0m\u001b[0margs\u001b[0m\u001b[0;34m,\u001b[0m \u001b[0;34m**\u001b[0m\u001b[0mkeywords\u001b[0m\u001b[0;34m)\u001b[0m\u001b[0;34m\u001b[0m\n",
       "\u001b[0;34m\u001b[0m\u001b[0;34m\u001b[0m\n",
       "\u001b[0;34m\u001b[0m    \u001b[0;34m@\u001b[0m\u001b[0mrecursive_repr\u001b[0m\u001b[0;34m(\u001b[0m\u001b[0;34m)\u001b[0m\u001b[0;34m\u001b[0m\n",
       "\u001b[0;34m\u001b[0m    \u001b[0;32mdef\u001b[0m \u001b[0m__repr__\u001b[0m\u001b[0;34m(\u001b[0m\u001b[0mself\u001b[0m\u001b[0;34m)\u001b[0m\u001b[0;34m:\u001b[0m\u001b[0;34m\u001b[0m\n",
       "\u001b[0;34m\u001b[0m        \u001b[0mqualname\u001b[0m \u001b[0;34m=\u001b[0m \u001b[0mtype\u001b[0m\u001b[0;34m(\u001b[0m\u001b[0mself\u001b[0m\u001b[0;34m)\u001b[0m\u001b[0;34m.\u001b[0m\u001b[0m__qualname__\u001b[0m\u001b[0;34m\u001b[0m\n",
       "\u001b[0;34m\u001b[0m        \u001b[0margs\u001b[0m \u001b[0;34m=\u001b[0m \u001b[0;34m[\u001b[0m\u001b[0mrepr\u001b[0m\u001b[0;34m(\u001b[0m\u001b[0mself\u001b[0m\u001b[0;34m.\u001b[0m\u001b[0mfunc\u001b[0m\u001b[0;34m)\u001b[0m\u001b[0;34m]\u001b[0m\u001b[0;34m\u001b[0m\n",
       "\u001b[0;34m\u001b[0m        \u001b[0margs\u001b[0m\u001b[0;34m.\u001b[0m\u001b[0mextend\u001b[0m\u001b[0;34m(\u001b[0m\u001b[0mrepr\u001b[0m\u001b[0;34m(\u001b[0m\u001b[0mx\u001b[0m\u001b[0;34m)\u001b[0m \u001b[0;32mfor\u001b[0m \u001b[0mx\u001b[0m \u001b[0;32min\u001b[0m \u001b[0mself\u001b[0m\u001b[0;34m.\u001b[0m\u001b[0margs\u001b[0m\u001b[0;34m)\u001b[0m\u001b[0;34m\u001b[0m\n",
       "\u001b[0;34m\u001b[0m        \u001b[0margs\u001b[0m\u001b[0;34m.\u001b[0m\u001b[0mextend\u001b[0m\u001b[0;34m(\u001b[0m\u001b[0;34mf\"{k}={v!r}\"\u001b[0m \u001b[0;32mfor\u001b[0m \u001b[0;34m(\u001b[0m\u001b[0mk\u001b[0m\u001b[0;34m,\u001b[0m \u001b[0mv\u001b[0m\u001b[0;34m)\u001b[0m \u001b[0;32min\u001b[0m \u001b[0mself\u001b[0m\u001b[0;34m.\u001b[0m\u001b[0mkeywords\u001b[0m\u001b[0;34m.\u001b[0m\u001b[0mitems\u001b[0m\u001b[0;34m(\u001b[0m\u001b[0;34m)\u001b[0m\u001b[0;34m)\u001b[0m\u001b[0;34m\u001b[0m\n",
       "\u001b[0;34m\u001b[0m        \u001b[0;32mif\u001b[0m \u001b[0mtype\u001b[0m\u001b[0;34m(\u001b[0m\u001b[0mself\u001b[0m\u001b[0;34m)\u001b[0m\u001b[0;34m.\u001b[0m\u001b[0m__module__\u001b[0m \u001b[0;34m==\u001b[0m \u001b[0;34m\"functools\"\u001b[0m\u001b[0;34m:\u001b[0m\u001b[0;34m\u001b[0m\n",
       "\u001b[0;34m\u001b[0m            \u001b[0;32mreturn\u001b[0m \u001b[0;34mf\"functools.{qualname}({', '.join(args)})\"\u001b[0m\u001b[0;34m\u001b[0m\n",
       "\u001b[0;34m\u001b[0m        \u001b[0;32mreturn\u001b[0m \u001b[0;34mf\"{qualname}({', '.join(args)})\"\u001b[0m\u001b[0;34m\u001b[0m\n",
       "\u001b[0;34m\u001b[0m\u001b[0;34m\u001b[0m\n",
       "\u001b[0;34m\u001b[0m    \u001b[0;32mdef\u001b[0m \u001b[0m__reduce__\u001b[0m\u001b[0;34m(\u001b[0m\u001b[0mself\u001b[0m\u001b[0;34m)\u001b[0m\u001b[0;34m:\u001b[0m\u001b[0;34m\u001b[0m\n",
       "\u001b[0;34m\u001b[0m        \u001b[0;32mreturn\u001b[0m \u001b[0mtype\u001b[0m\u001b[0;34m(\u001b[0m\u001b[0mself\u001b[0m\u001b[0;34m)\u001b[0m\u001b[0;34m,\u001b[0m \u001b[0;34m(\u001b[0m\u001b[0mself\u001b[0m\u001b[0;34m.\u001b[0m\u001b[0mfunc\u001b[0m\u001b[0;34m,\u001b[0m\u001b[0;34m)\u001b[0m\u001b[0;34m,\u001b[0m \u001b[0;34m(\u001b[0m\u001b[0mself\u001b[0m\u001b[0;34m.\u001b[0m\u001b[0mfunc\u001b[0m\u001b[0;34m,\u001b[0m \u001b[0mself\u001b[0m\u001b[0;34m.\u001b[0m\u001b[0margs\u001b[0m\u001b[0;34m,\u001b[0m\u001b[0;34m\u001b[0m\n",
       "\u001b[0;34m\u001b[0m               \u001b[0mself\u001b[0m\u001b[0;34m.\u001b[0m\u001b[0mkeywords\u001b[0m \u001b[0;32mor\u001b[0m \u001b[0;32mNone\u001b[0m\u001b[0;34m,\u001b[0m \u001b[0mself\u001b[0m\u001b[0;34m.\u001b[0m\u001b[0m__dict__\u001b[0m \u001b[0;32mor\u001b[0m \u001b[0;32mNone\u001b[0m\u001b[0;34m)\u001b[0m\u001b[0;34m\u001b[0m\n",
       "\u001b[0;34m\u001b[0m\u001b[0;34m\u001b[0m\n",
       "\u001b[0;34m\u001b[0m    \u001b[0;32mdef\u001b[0m \u001b[0m__setstate__\u001b[0m\u001b[0;34m(\u001b[0m\u001b[0mself\u001b[0m\u001b[0;34m,\u001b[0m \u001b[0mstate\u001b[0m\u001b[0;34m)\u001b[0m\u001b[0;34m:\u001b[0m\u001b[0;34m\u001b[0m\n",
       "\u001b[0;34m\u001b[0m        \u001b[0;32mif\u001b[0m \u001b[0;32mnot\u001b[0m \u001b[0misinstance\u001b[0m\u001b[0;34m(\u001b[0m\u001b[0mstate\u001b[0m\u001b[0;34m,\u001b[0m \u001b[0mtuple\u001b[0m\u001b[0;34m)\u001b[0m\u001b[0;34m:\u001b[0m\u001b[0;34m\u001b[0m\n",
       "\u001b[0;34m\u001b[0m            \u001b[0;32mraise\u001b[0m \u001b[0mTypeError\u001b[0m\u001b[0;34m(\u001b[0m\u001b[0;34m\"argument to __setstate__ must be a tuple\"\u001b[0m\u001b[0;34m)\u001b[0m\u001b[0;34m\u001b[0m\n",
       "\u001b[0;34m\u001b[0m        \u001b[0;32mif\u001b[0m \u001b[0mlen\u001b[0m\u001b[0;34m(\u001b[0m\u001b[0mstate\u001b[0m\u001b[0;34m)\u001b[0m \u001b[0;34m!=\u001b[0m \u001b[0;36m4\u001b[0m\u001b[0;34m:\u001b[0m\u001b[0;34m\u001b[0m\n",
       "\u001b[0;34m\u001b[0m            \u001b[0;32mraise\u001b[0m \u001b[0mTypeError\u001b[0m\u001b[0;34m(\u001b[0m\u001b[0;34mf\"expected 4 items in state, got {len(state)}\"\u001b[0m\u001b[0;34m)\u001b[0m\u001b[0;34m\u001b[0m\n",
       "\u001b[0;34m\u001b[0m        \u001b[0mfunc\u001b[0m\u001b[0;34m,\u001b[0m \u001b[0margs\u001b[0m\u001b[0;34m,\u001b[0m \u001b[0mkwds\u001b[0m\u001b[0;34m,\u001b[0m \u001b[0mnamespace\u001b[0m \u001b[0;34m=\u001b[0m \u001b[0mstate\u001b[0m\u001b[0;34m\u001b[0m\n",
       "\u001b[0;34m\u001b[0m        \u001b[0;32mif\u001b[0m \u001b[0;34m(\u001b[0m\u001b[0;32mnot\u001b[0m \u001b[0mcallable\u001b[0m\u001b[0;34m(\u001b[0m\u001b[0mfunc\u001b[0m\u001b[0;34m)\u001b[0m \u001b[0;32mor\u001b[0m \u001b[0;32mnot\u001b[0m \u001b[0misinstance\u001b[0m\u001b[0;34m(\u001b[0m\u001b[0margs\u001b[0m\u001b[0;34m,\u001b[0m \u001b[0mtuple\u001b[0m\u001b[0;34m)\u001b[0m \u001b[0;32mor\u001b[0m\u001b[0;34m\u001b[0m\n",
       "\u001b[0;34m\u001b[0m           \u001b[0;34m(\u001b[0m\u001b[0mkwds\u001b[0m \u001b[0;32mis\u001b[0m \u001b[0;32mnot\u001b[0m \u001b[0;32mNone\u001b[0m \u001b[0;32mand\u001b[0m \u001b[0;32mnot\u001b[0m \u001b[0misinstance\u001b[0m\u001b[0;34m(\u001b[0m\u001b[0mkwds\u001b[0m\u001b[0;34m,\u001b[0m \u001b[0mdict\u001b[0m\u001b[0;34m)\u001b[0m\u001b[0;34m)\u001b[0m \u001b[0;32mor\u001b[0m\u001b[0;34m\u001b[0m\n",
       "\u001b[0;34m\u001b[0m           \u001b[0;34m(\u001b[0m\u001b[0mnamespace\u001b[0m \u001b[0;32mis\u001b[0m \u001b[0;32mnot\u001b[0m \u001b[0;32mNone\u001b[0m \u001b[0;32mand\u001b[0m \u001b[0;32mnot\u001b[0m \u001b[0misinstance\u001b[0m\u001b[0;34m(\u001b[0m\u001b[0mnamespace\u001b[0m\u001b[0;34m,\u001b[0m \u001b[0mdict\u001b[0m\u001b[0;34m)\u001b[0m\u001b[0;34m)\u001b[0m\u001b[0;34m)\u001b[0m\u001b[0;34m:\u001b[0m\u001b[0;34m\u001b[0m\n",
       "\u001b[0;34m\u001b[0m            \u001b[0;32mraise\u001b[0m \u001b[0mTypeError\u001b[0m\u001b[0;34m(\u001b[0m\u001b[0;34m\"invalid partial state\"\u001b[0m\u001b[0;34m)\u001b[0m\u001b[0;34m\u001b[0m\n",
       "\u001b[0;34m\u001b[0m\u001b[0;34m\u001b[0m\n",
       "\u001b[0;34m\u001b[0m        \u001b[0margs\u001b[0m \u001b[0;34m=\u001b[0m \u001b[0mtuple\u001b[0m\u001b[0;34m(\u001b[0m\u001b[0margs\u001b[0m\u001b[0;34m)\u001b[0m \u001b[0;31m# just in case it's a subclass\u001b[0m\u001b[0;34m\u001b[0m\n",
       "\u001b[0;34m\u001b[0m        \u001b[0;32mif\u001b[0m \u001b[0mkwds\u001b[0m \u001b[0;32mis\u001b[0m \u001b[0;32mNone\u001b[0m\u001b[0;34m:\u001b[0m\u001b[0;34m\u001b[0m\n",
       "\u001b[0;34m\u001b[0m            \u001b[0mkwds\u001b[0m \u001b[0;34m=\u001b[0m \u001b[0;34m{\u001b[0m\u001b[0;34m}\u001b[0m\u001b[0;34m\u001b[0m\n",
       "\u001b[0;34m\u001b[0m        \u001b[0;32melif\u001b[0m \u001b[0mtype\u001b[0m\u001b[0;34m(\u001b[0m\u001b[0mkwds\u001b[0m\u001b[0;34m)\u001b[0m \u001b[0;32mis\u001b[0m \u001b[0;32mnot\u001b[0m \u001b[0mdict\u001b[0m\u001b[0;34m:\u001b[0m \u001b[0;31m# XXX does it need to be *exactly* dict?\u001b[0m\u001b[0;34m\u001b[0m\n",
       "\u001b[0;34m\u001b[0m            \u001b[0mkwds\u001b[0m \u001b[0;34m=\u001b[0m \u001b[0mdict\u001b[0m\u001b[0;34m(\u001b[0m\u001b[0mkwds\u001b[0m\u001b[0;34m)\u001b[0m\u001b[0;34m\u001b[0m\n",
       "\u001b[0;34m\u001b[0m        \u001b[0;32mif\u001b[0m \u001b[0mnamespace\u001b[0m \u001b[0;32mis\u001b[0m \u001b[0;32mNone\u001b[0m\u001b[0;34m:\u001b[0m\u001b[0;34m\u001b[0m\n",
       "\u001b[0;34m\u001b[0m            \u001b[0mnamespace\u001b[0m \u001b[0;34m=\u001b[0m \u001b[0;34m{\u001b[0m\u001b[0;34m}\u001b[0m\u001b[0;34m\u001b[0m\n",
       "\u001b[0;34m\u001b[0m\u001b[0;34m\u001b[0m\n",
       "\u001b[0;34m\u001b[0m        \u001b[0mself\u001b[0m\u001b[0;34m.\u001b[0m\u001b[0m__dict__\u001b[0m \u001b[0;34m=\u001b[0m \u001b[0mnamespace\u001b[0m\u001b[0;34m\u001b[0m\n",
       "\u001b[0;34m\u001b[0m        \u001b[0mself\u001b[0m\u001b[0;34m.\u001b[0m\u001b[0mfunc\u001b[0m \u001b[0;34m=\u001b[0m \u001b[0mfunc\u001b[0m\u001b[0;34m\u001b[0m\n",
       "\u001b[0;34m\u001b[0m        \u001b[0mself\u001b[0m\u001b[0;34m.\u001b[0m\u001b[0margs\u001b[0m \u001b[0;34m=\u001b[0m \u001b[0margs\u001b[0m\u001b[0;34m\u001b[0m\n",
       "\u001b[0;34m\u001b[0m        \u001b[0mself\u001b[0m\u001b[0;34m.\u001b[0m\u001b[0mkeywords\u001b[0m \u001b[0;34m=\u001b[0m \u001b[0mkwds\u001b[0m\u001b[0;34m\u001b[0m\u001b[0;34m\u001b[0m\u001b[0m\n",
       "\u001b[0;31mFile:\u001b[0m           /usr/lib64/python3.10/functools.py\n",
       "\u001b[0;31mType:\u001b[0m           type\n",
       "\u001b[0;31mSubclasses:\u001b[0m     \n"
      ]
     },
     "metadata": {},
     "output_type": "display_data"
    }
   ],
   "source": [
    "#from numba import jit\n",
    "import functools\n",
    "functools.partial??"
   ]
  },
  {
   "cell_type": "code",
   "execution_count": 2,
   "id": "34a351e1-78ea-4573-8ef4-0e4b160af142",
   "metadata": {},
   "outputs": [
    {
     "data": {
      "text/plain": [
       "\u001b[0;31mSignature:\u001b[0m \u001b[0mtheilslopes\u001b[0m\u001b[0;34m(\u001b[0m\u001b[0my\u001b[0m\u001b[0;34m,\u001b[0m \u001b[0mx\u001b[0m\u001b[0;34m=\u001b[0m\u001b[0;32mNone\u001b[0m\u001b[0;34m,\u001b[0m \u001b[0malpha\u001b[0m\u001b[0;34m=\u001b[0m\u001b[0;36m0.95\u001b[0m\u001b[0;34m,\u001b[0m \u001b[0mmethod\u001b[0m\u001b[0;34m=\u001b[0m\u001b[0;34m'separate'\u001b[0m\u001b[0;34m)\u001b[0m\u001b[0;34m\u001b[0m\u001b[0;34m\u001b[0m\u001b[0m\n",
       "\u001b[0;31mDocstring:\u001b[0m\n",
       "Computes the Theil-Sen estimator for a set of points (x, y).\n",
       "\n",
       "`theilslopes` implements a method for robust linear regression.  It\n",
       "computes the slope as the median of all slopes between paired values.\n",
       "\n",
       "Parameters\n",
       "----------\n",
       "y : array_like\n",
       "    Dependent variable.\n",
       "x : array_like or None, optional\n",
       "    Independent variable. If None, use ``arange(len(y))`` instead.\n",
       "alpha : float, optional\n",
       "    Confidence degree between 0 and 1. Default is 95% confidence.\n",
       "    Note that `alpha` is symmetric around 0.5, i.e. both 0.1 and 0.9 are\n",
       "    interpreted as \"find the 90% confidence interval\".\n",
       "method : {'joint', 'separate'}, optional\n",
       "    Method to be used for computing estimate for intercept.\n",
       "    Following methods are supported,\n",
       "\n",
       "        * 'joint': Uses np.median(y - slope * x) as intercept.\n",
       "        * 'separate': Uses np.median(y) - slope * np.median(x)\n",
       "                      as intercept.\n",
       "\n",
       "    The default is 'separate'.\n",
       "\n",
       "    .. versionadded:: 1.8.0\n",
       "\n",
       "Returns\n",
       "-------\n",
       "result : ``TheilslopesResult`` instance\n",
       "    The return value is an object with the following attributes:\n",
       "\n",
       "    slope : float\n",
       "        Theil slope.\n",
       "    intercept : float\n",
       "        Intercept of the Theil line.\n",
       "    low_slope : float\n",
       "        Lower bound of the confidence interval on `slope`.\n",
       "    high_slope : float\n",
       "        Upper bound of the confidence interval on `slope`.\n",
       "\n",
       "See Also\n",
       "--------\n",
       "siegelslopes : a similar technique using repeated medians\n",
       "\n",
       "\n",
       "Notes\n",
       "-----\n",
       "For more details on `theilslopes`, see `scipy.stats.theilslopes`.\n",
       "\u001b[0;31mFile:\u001b[0m      /usr/local/lib64/python3.10/site-packages/scipy/stats/_mstats_basic.py\n",
       "\u001b[0;31mType:\u001b[0m      function\n"
      ]
     },
     "metadata": {},
     "output_type": "display_data"
    }
   ],
   "source": [
    "from scipy.stats.mstats import theilslopes\n",
    "theilslopes?"
   ]
  },
  {
   "cell_type": "code",
   "execution_count": null,
   "id": "e25c18c7-1aa8-4c6f-af3d-fad58491e34e",
   "metadata": {},
   "outputs": [],
   "source": []
  }
 ],
 "metadata": {
  "kernelspec": {
   "display_name": "Python 3 (ipykernel)",
   "language": "python",
   "name": "python3"
  },
  "language_info": {
   "codemirror_mode": {
    "name": "ipython",
    "version": 3
   },
   "file_extension": ".py",
   "mimetype": "text/x-python",
   "name": "python",
   "nbconvert_exporter": "python",
   "pygments_lexer": "ipython3",
   "version": "3.10.10"
  }
 },
 "nbformat": 4,
 "nbformat_minor": 5
}
