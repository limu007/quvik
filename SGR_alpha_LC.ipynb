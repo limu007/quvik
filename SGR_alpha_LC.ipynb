{
 "cells": [
  {
   "cell_type": "code",
   "execution_count": 23,
   "id": "a6ebcbf5-d77f-4f5f-92b4-ef2e509a5846",
   "metadata": {},
   "outputs": [],
   "source": [
    "lst=open(\"/home/limu/Space/logs/all_nogs.lst\").readlines()"
   ]
  },
  {
   "cell_type": "code",
   "execution_count": 26,
   "id": "75bdacf2-c910-4390-ada5-15902e3a16ab",
   "metadata": {},
   "outputs": [],
   "source": [
    "mst=[[int(l.split()[4])]+l.strip()[l.rfind('/')+1:-4].split('_') for l in lst]"
   ]
  },
  {
   "cell_type": "code",
   "execution_count": 27,
   "id": "a4498c84-a2fc-463a-ba3e-89738b04a328",
   "metadata": {},
   "outputs": [],
   "source": [
    "from collections import Counter\n",
    "coo=Counter([m[2] for m in mst if m[2][:4]=='2022'])\n",
    "#coo\n",
    "coo2=Counter([m[2] for m in mst if m[2][:4]=='2022' and m[0]>0])"
   ]
  },
  {
   "cell_type": "code",
   "execution_count": 32,
   "id": "f2d739d0-a8bd-4cfc-8f59-f6d7c426738e",
   "metadata": {},
   "outputs": [
    {
     "data": {
      "text/plain": [
       "801"
      ]
     },
     "execution_count": 32,
     "metadata": {},
     "output_type": "execute_result"
    }
   ],
   "source": [
    "#[(a,coo[a],b) for a,b in coo2.items() if b>1]\n",
    "#sum(coo2.values())\n",
    "obid=[m[-1] for m in mst if m[2][:4]=='2022' and m[0]>0]\n",
    "len(obid)"
   ]
  },
  {
   "cell_type": "markdown",
   "id": "8f64190b-ca4a-4008-a1ca-c609af1a6cf1",
   "metadata": {},
   "source": [
    "### GRBAlpha\n",
    "\n",
    "API Key 6ff2ac453cd6ead9107ee4e3d33164d272241aaf\n",
    "\n",
    "https://db.satnogs.org/satellite/HFFD-8697-8440-3101-3937\n",
    "\n",
    "probably https://db.satnogs.org/api/satellites/HFFD-8697-8440-3101-3937 returns REST XML (according to [docs](https://db.satnogs.org/api/schema/docs/#/satellites/satellites_retrieve))"
   ]
  },
  {
   "cell_type": "code",
   "execution_count": 1,
   "id": "3aa4eadd-5132-4ac1-bfe2-e5d26e622c24",
   "metadata": {},
   "outputs": [],
   "source": [
    "from glouton.domain.parameters.programCmd import ProgramCmd\n",
    "from glouton.services.observation.observationsService import ObservationsService"
   ]
  },
  {
   "cell_type": "code",
   "execution_count": 5,
   "id": "8063979f-774d-44ec-ab55-1d56c41a87f9",
   "metadata": {},
   "outputs": [],
   "source": [
    "from datetime import datetime,timedelta\n",
    "start_date=datetime.now()\n",
    "end_date=start_date+timedelta(0,600)\n",
    "glouton_conf = ProgramCmd(norad_id=47959,\n",
    "                              ground_station_id=None,\n",
    "                              start_date=start_date,\n",
    "                              end_date=end_date,\n",
    "                              observation_status=None,\n",
    "                              working_dir=\"/tmp\",\n",
    "                              #payloads=False,\n",
    "                              waterfalls=False,\n",
    "                              demoddata=True,\n",
    "                              #payload_modules=None,\n",
    "                              demoddata_modules=[\"CSV\"],\n",
    "                              waterfall_modules=None,\n",
    "                              archives=None,\n",
    "                              archive_modules=None, \n",
    "                              archive_end_modules=None, \n",
    "                              demoddata_end_modules=None,\n",
    "                              waterfall_end_modules=None,\n",
    "                              frame_end_modules = None,\n",
    "                              user=None,\n",
    "                              transmitter_uuid=None,\n",
    "                              transmitter_mode=None,\n",
    "                              transmitter_type=None,\n",
    "                              frame_modules=None,\n",
    "                              observer=None,\n",
    "                              app_source=None,\n",
    "                              transmitter=None)"
   ]
  },
  {
   "cell_type": "code",
   "execution_count": 6,
   "id": "738c1097-644a-4e72-910f-10d6255bd2c9",
   "metadata": {},
   "outputs": [
    {
     "name": "stdout",
     "output_type": "stream",
     "text": [
      "(FOR_EACH) Demoddata module(s) loading :\n",
      "module : CSV loaded\n",
      "(END) Demoddata module(s) loading :\n",
      "No module list found\n",
      "job 1 scanning page...1\n",
      "job 1 terminated\n",
      "\n",
      "downloading started (Ctrl + C to stop)...\t~(  ^o^)~\n"
     ]
    }
   ],
   "source": [
    "obs = ObservationsService(glouton_conf)\n",
    "obs.extract()"
   ]
  },
  {
   "cell_type": "code",
   "execution_count": 29,
   "id": "b39bb6cb-2574-43c8-b0b6-06da101fc3a3",
   "metadata": {},
   "outputs": [
    {
     "data": {
      "image/png": "[encoded data removed]",
      "text/plain": [
       "<Figure size 432x288 with 1 Axes>"
      ]
     },
     "metadata": {
      "needs_background": "light"
     },
     "output_type": "display_data"
    }
   ],
   "source": [
    "#pileup simulation\n",
    "from scipy import stats as st\n",
    "set1=st.uniform.rvs(size=20000)\n",
    "set1=np.sort(set1)\n",
    "dis1=set1[1:]-set1[:-1]\n",
    "out=pl.hist(dis1*1000,np.r_[:.2:0.002])[0];"
   ]
  },
  {
   "cell_type": "code",
   "execution_count": 31,
   "id": "0fc26399-8dbe-483d-9b7d-2c37367fba92",
   "metadata": {},
   "outputs": [
    {
     "data": {
      "text/plain": [
       "11133.0"
      ]
     },
     "execution_count": 31,
     "metadata": {},
     "output_type": "execute_result"
    }
   ],
   "source": [
    "sum(out[:20])"
   ]
  },
  {
   "cell_type": "markdown",
   "id": "467980fa-0457-4788-b680-41474ba971e0",
   "metadata": {},
   "source": [
    "### SGR case"
   ]
  },
  {
   "cell_type": "code",
   "execution_count": 76,
   "id": "b50ea138-dd43-449d-9840-797ef25200f8",
   "metadata": {},
   "outputs": [
    {
     "ename": "ImportError",
     "evalue": "cannot import name 'Time' from 'astropy' (/usr/local/lib64/python3.10/site-packages/astropy/__init__.py)",
     "output_type": "error",
     "traceback": [
      "\u001b[0;31m---------------------------------------------------------------------------\u001b[0m",
      "\u001b[0;31mImportError\u001b[0m                               Traceback (most recent call last)",
      "Input \u001b[0;32mIn [76]\u001b[0m, in \u001b[0;36m<cell line: 2>\u001b[0;34m()\u001b[0m\n\u001b[1;32m      1\u001b[0m \u001b[38;5;28;01mfrom\u001b[39;00m \u001b[38;5;21;01mastropy\u001b[39;00m \u001b[38;5;28;01mimport\u001b[39;00m coordinates \u001b[38;5;28;01mas\u001b[39;00m coor\n\u001b[0;32m----> 2\u001b[0m \u001b[38;5;28;01mfrom\u001b[39;00m \u001b[38;5;21;01mastropy\u001b[39;00m \u001b[38;5;28;01mimport\u001b[39;00m Time\n\u001b[1;32m      3\u001b[0m sgr\u001b[38;5;241m=\u001b[39mcoor\u001b[38;5;241m.\u001b[39mname_resolve\u001b[38;5;241m.\u001b[39mget_icrs_coordinates(\u001b[38;5;124m\"\u001b[39m\u001b[38;5;124mSGR 1935+2154\u001b[39m\u001b[38;5;124m\"\u001b[39m)\n",
      "\u001b[0;31mImportError\u001b[0m: cannot import name 'Time' from 'astropy' (/usr/local/lib64/python3.10/site-packages/astropy/__init__.py)"
     ]
    }
   ],
   "source": [
    "from astropy import coordinates as coor\n",
    "sgr=coor.name_resolve.get_icrs_coordinates(\"SGR 1935+2154\")"
   ]
  },
  {
   "cell_type": "code",
   "execution_count": 44,
   "id": "7b7d30b1-37ba-471a-b1f5-855a8192718c",
   "metadata": {},
   "outputs": [],
   "source": [
    "from datetime import datetime\n",
    "import pytz\n",
    "time=datetime.fromisoformat(\"2022-10-13T22:41:28\").replace(tzinfo=pytz.timezone(\"UTC\"))"
   ]
  },
  {
   "cell_type": "code",
   "execution_count": 49,
   "id": "f229c73b-2684-48d7-a79d-582cee066074",
   "metadata": {},
   "outputs": [],
   "source": [
    "integral_ID=27540\n",
    "fermi_ID=33053\n",
    "tle_URL=\"https://celestrak.org/NORAD/elements/gp.php?CATNR=%i&FORMAT=TLE\"%integral_ID\n",
    "import requests\n",
    "web1=requests.get(tle_URL)\n",
    "tle_int=web1.text.strip().replace('\\r\\n','\\n')"
   ]
  },
  {
   "cell_type": "code",
   "execution_count": 94,
   "id": "437e31d0-4c79-434b-bd6a-86c0545fe400",
   "metadata": {},
   "outputs": [
    {
     "name": "stdout",
     "output_type": "stream",
     "text": [
      "INTEGRAL                \n",
      "1 27540U 02048A   22290.21659545 -.00000005  00000+0  00000+0 0  9998\n",
      "2 27540  78.4756  52.1931 8863541 296.6437  67.4206  0.37577721 21603\n"
     ]
    }
   ],
   "source": [
    "print(tle_int)"
   ]
  },
  {
   "cell_type": "code",
   "execution_count": 52,
   "id": "515faf03-5aa1-40e7-8582-b403b7c5285f",
   "metadata": {},
   "outputs": [],
   "source": [
    "tle='''VZLUSAT2\n",
    "1 51085U 22002BF  22150.70473102  .00004963  00000-0  28884-3 0  9994\n",
    "2 51085  97.4865 217.8168 0015989 133.4617 325.2380 15.12382761 20719'''\n",
    "import predict\n",
    "qth=(15,50,200)\n",
    "glopos=predict.observe(tle, qth, at=time.timestamp())\n",
    "pos=[glopos[a] for a in ['longitude','latitude','altitude']]\n",
    "sgr.location=coor.EarthLocation.from_geodetic(pos[0],pos[1],pos[2]*1e3)"
   ]
  },
  {
   "cell_type": "code",
   "execution_count": 90,
   "id": "3c9ee8f1-683f-4708-9fee-3845a29af704",
   "metadata": {},
   "outputs": [
    {
     "data": {
      "text/plain": [
       "{'norad_id': 27540,\n",
       " 'name': 'INTEGRAL                ',\n",
       " 'epoch': 1665700928.0000002,\n",
       " 'latitude': 15.84854806363751,\n",
       " 'longitude': 225.65168091656685,\n",
       " 'azimuth': 284.0322556156848,\n",
       " 'elevation': 1.034434996783022,\n",
       " 'orbital_velocity': 13043.907512693391,\n",
       " 'footprint': 18189.908484322124,\n",
       " 'altitude': 37810.50343965367,\n",
       " 'slant_range': 43612.09040345785,\n",
       " 'eclipse_depth': -134.12938686452688,\n",
       " 'orbital_phase': 244.96575573049358,\n",
       " 'orbital_model': 'SDP4',\n",
       " 'visibility': b'V',\n",
       " 'sunlit': 1,\n",
       " 'orbit': 2158,\n",
       " 'geostationary': 0,\n",
       " 'has_aos': 1,\n",
       " 'decayed': 0,\n",
       " 'doppler': 873.7458529942779,\n",
       " 'eci_x': -28080.961367640357,\n",
       " 'eci_y': -31915.451277050404,\n",
       " 'eci_z': 12056.488589564868,\n",
       " 'eci_vx': 1.922899124411742,\n",
       " 'eci_vy': 1.6005494695564657,\n",
       " 'eci_vz': -2.6208888996714057,\n",
       " 'eci_sun_x': -139717012.17497563,\n",
       " 'eci_sun_y': -48133042.98472636,\n",
       " 'eci_sun_z': -20867084.16314729,\n",
       " 'eci_obs_x': 4203.14616657446,\n",
       " 'eci_obs_y': -4506.497263230539,\n",
       " 'eci_obs_z': 1640.1519040049125,\n",
       " 'beta_angle': -33.71435645591969}"
      ]
     },
     "execution_count": 90,
     "metadata": {},
     "output_type": "execute_result"
    }
   ],
   "source": [
    "dt=40\n",
    "predict.observe(tle_int, qth, at=(time+timedelta(0,dt)).timestamp())"
   ]
  },
  {
   "cell_type": "code",
   "execution_count": 107,
   "id": "845b7e81-5ad8-44c6-ba74-0a0778dc2d46",
   "metadata": {},
   "outputs": [],
   "source": [
    "def passage(dtimes,tle,time):\n",
    "    alalt=[]\n",
    "    from datetime import timedelta\n",
    "    from astropy.time import Time\n",
    "    t0=time.timestamp()\n",
    "    for dt in dtimes:\n",
    "        glopos=predict.observe(tle, qth, at=t0+dt)\n",
    "        pos2=[glopos[a] for a in ['longitude','latitude','altitude']]\n",
    "        loc2=coor.EarthLocation.from_geodetic(pos2[0],pos2[1],pos2[2]*1e3)\n",
    "        altaz2=sgr.transform_to(coor.AltAz(obstime=Time(time+timedelta(0,dt)),location=loc2))\n",
    "        alalt.append([altaz2.alt.value,altaz2.az.value,pos2[0],pos2[1]])\n",
    "    return np.array(alalt).T\n",
    "dtimes=range(-2000,6000,300)\n",
    "alphapa=passage(dtimes,tle,time)"
   ]
  },
  {
   "cell_type": "code",
   "execution_count": 109,
   "id": "5851dc88-5069-421f-8521-0b8d6f949c2a",
   "metadata": {},
   "outputs": [
    {
     "data": {
      "text/plain": [
       "[<matplotlib.lines.Line2D at 0x7fae22933790>]"
      ]
     },
     "execution_count": 109,
     "metadata": {},
     "output_type": "execute_result"
    },
    {
     "data": {
      "image/png": "[encoded data removed]",
      "text/plain": [
       "<Figure size 432x288 with 1 Axes>"
      ]
     },
     "metadata": {
      "needs_background": "light"
     },
     "output_type": "display_data"
    }
   ],
   "source": [
    "pl.plot(np.array(dtimes)/60,alphapa[0])"
   ]
  },
  {
   "cell_type": "code",
   "execution_count": 72,
   "id": "1e2757d6-e096-48e6-9d47-f08c9297204a",
   "metadata": {},
   "outputs": [
    {
     "ename": "ImportError",
     "evalue": "cannot import name 'Time' from 'astropy' (/usr/local/lib64/python3.10/site-packages/astropy/__init__.py)",
     "output_type": "error",
     "traceback": [
      "\u001b[0;31m---------------------------------------------------------------------------\u001b[0m",
      "\u001b[0;31mImportError\u001b[0m                               Traceback (most recent call last)",
      "Input \u001b[0;32mIn [72]\u001b[0m, in \u001b[0;36m<cell line: 1>\u001b[0;34m()\u001b[0m\n\u001b[0;32m----> 1\u001b[0m \u001b[38;5;28;01mfrom\u001b[39;00m \u001b[38;5;21;01mastropy\u001b[39;00m \u001b[38;5;28;01mimport\u001b[39;00m Time\n\u001b[1;32m      2\u001b[0m sgr\u001b[38;5;241m.\u001b[39mtime\u001b[38;5;241m=\u001b[39mTime(time)\n",
      "\u001b[0;31mImportError\u001b[0m: cannot import name 'Time' from 'astropy' (/usr/local/lib64/python3.10/site-packages/astropy/__init__.py)"
     ]
    }
   ],
   "source": [
    "from astropy import Time\n",
    "sgr.time=Time(time)"
   ]
  },
  {
   "cell_type": "code",
   "execution_count": 1,
   "id": "c4306bf9-461a-4db3-b484-ed9871c0ee71",
   "metadata": {},
   "outputs": [],
   "source": [
    "inp=open(\"/home/limu/Space/logs/fermi_gcn_2022b.html\").read()"
   ]
  },
  {
   "cell_type": "code",
   "execution_count": 17,
   "id": "9fac7e6f-8e3a-4093-83b4-a6de9600decf",
   "metadata": {},
   "outputs": [],
   "source": [
    "import bs4\n",
    "#bbs=bs4.BeautifulSoup(inp,from_encoding='utf8')"
   ]
  },
  {
   "cell_type": "code",
   "execution_count": 5,
   "id": "4e41f715-4f9f-4a2b-bb94-b546e8a0c4fd",
   "metadata": {},
   "outputs": [
    {
     "data": {
      "text/plain": [
       "3357"
      ]
     },
     "execution_count": 5,
     "metadata": {},
     "output_type": "execute_result"
    }
   ],
   "source": [
    "inp.find('<td>')"
   ]
  },
  {
   "cell_type": "code",
   "execution_count": 11,
   "id": "52b87c94-c231-4220-9737-ab5581c23ed9",
   "metadata": {},
   "outputs": [],
   "source": [
    "lines=inp.split('<tr align=left>')"
   ]
  },
  {
   "cell_type": "code",
   "execution_count": 15,
   "id": "9c4de6cc-fae5-453c-84d2-7f82bcf0ba6b",
   "metadata": {},
   "outputs": [
    {
     "name": "stdout",
     "output_type": "stream",
     "text": [
      "\n",
      "<td><a href=other/687936237.fermi>687936237</a></td>\n",
      "<td align=left>22/10/20</td>\n",
      "<td align=left>05:23:52.83</td>\n",
      "<td align=left>GBM Final Position</td>\n",
      "<td align=left>172.900</td>\n",
      "<td align=left>+16.050</td>\n",
      "<td align=left>2.97</td>\n",
      "<td align=left>   Fermi-GBM Final Position.      This Notice was ground-generated -- not flight-generated.      The LC_URL file should be available by the time this FINAL notice is produced.      This notice was generated completely by automated pipeline processing.      In the LAT Field-of-view.      This is likely a Long GRB.    </td>\n",
      "</tr>\n",
      "\n",
      "\n"
     ]
    }
   ],
   "source": [
    "print(lines[3])"
   ]
  },
  {
   "cell_type": "code",
   "execution_count": 19,
   "id": "f2128ace-4bb7-42ce-ba28-4b1aa104c1dc",
   "metadata": {},
   "outputs": [],
   "source": [
    "sp1=bs4.BeautifulSoup(lines[3])"
   ]
  },
  {
   "cell_type": "code",
   "execution_count": 31,
   "id": "28d28ff4-bc5d-4478-a6ed-c14e6195c600",
   "metadata": {},
   "outputs": [],
   "source": [
    "alltext=[[a.text for a in bs4.BeautifulSoup(l).find_all('td')] for l in lines[:203]]"
   ]
  },
  {
   "cell_type": "code",
   "execution_count": 27,
   "id": "47a714ea-1ab3-4806-9674-c00067ed7442",
   "metadata": {},
   "outputs": [
    {
     "data": {
      "text/plain": [
       "[204, 205, 206]"
      ]
     },
     "execution_count": 27,
     "metadata": {},
     "output_type": "execute_result"
    }
   ],
   "source": [
    "[i for i in range(200,600) if lines[i].find('684716840')>0]"
   ]
  },
  {
   "cell_type": "code",
   "execution_count": 53,
   "id": "128128e3-fa48-4258-9192-f6edf69c578b",
   "metadata": {},
   "outputs": [
    {
     "name": "stdout",
     "output_type": "stream",
     "text": [
      "correcting at  1\n",
      "correcting at  3\n",
      "correcting at  4\n",
      "correcting at  11\n",
      "correcting at  13\n",
      "correcting at  16\n",
      "correcting at  17\n",
      "correcting at  20\n",
      "correcting at  22\n",
      "correcting at  26\n",
      "correcting at  31\n",
      "correcting at  34\n",
      "correcting at  36\n",
      "correcting at  41\n",
      "correcting at  44\n",
      "correcting at  46\n",
      "correcting at  48\n",
      "correcting at  50\n",
      "correcting at  52\n",
      "correcting at  54\n",
      "correcting at  61\n",
      "correcting at  64\n",
      "correcting at  65\n",
      "correcting at  67\n",
      "correcting at  69\n",
      "correcting at  75\n",
      "correcting at  77\n",
      "correcting at  79\n",
      "correcting at  81\n",
      "correcting at  86\n",
      "correcting at  89\n",
      "correcting at  119\n",
      "correcting at  124\n",
      "correcting at  126\n",
      "correcting at  131\n",
      "correcting at  132\n",
      "correcting at  133\n",
      "correcting at  138\n",
      "correcting at  140\n",
      "correcting at  160\n",
      "correcting at  163\n",
      "correcting at  164\n",
      "correcting at  173\n",
      "correcting at  186\n"
     ]
    }
   ],
   "source": [
    "hids={}\n",
    "for i in range(len(alltext[3:])):\n",
    "    l=alltext[3+i]\n",
    "    if len(l)<5: continue\n",
    "    if len(l[0])>4:\n",
    "        if l[0] in hids and l[3].find('Flight')>0:\n",
    "            if len(alltext[hids[l[0]]])>2 and alltext[hids[l[0]]][3].find('Flight')<0:\n",
    "                print(\"correcting at \",i)\n",
    "        else:\n",
    "            hids[l[0]]=i+3"
   ]
  },
  {
   "cell_type": "code",
   "execution_count": 55,
   "id": "1a7dc9eb-3070-449a-a2b7-8e259aade06e",
   "metadata": {},
   "outputs": [],
   "source": [
    "open(\"reparse.csv\",\"w\").writelines(['; '.join(alltext[k])+'\\n' for k in hids.values()])"
   ]
  },
  {
   "cell_type": "code",
   "execution_count": 60,
   "id": "9b754503-10e7-45f2-86d4-d52000216892",
   "metadata": {},
   "outputs": [],
   "source": [
    "loc_url=\"http://gcn.gsfc.nasa.gov/notices_f/gbm_gnd_loc_map_686770317.fits\"\n",
    "loc_url=\"/home/limu/Space/data/spectra/grbalpha_20210415_20210430_FW2_spec_det0.pha\"\n",
    "from astropy.io import fits"
   ]
  },
  {
   "cell_type": "code",
   "execution_count": 61,
   "id": "c5ea40fc-f1a1-42f0-8808-5d8809a092d8",
   "metadata": {},
   "outputs": [],
   "source": [
    "dd=fits.open(loc_url)"
   ]
  },
  {
   "cell_type": "code",
   "execution_count": 68,
   "id": "bfcf202c-c6e0-46b7-9d93-cecf81f1d12a",
   "metadata": {},
   "outputs": [
    {
     "data": {
      "text/plain": [
       "\u001b[0;31mSignature:\u001b[0m \u001b[0mfits\u001b[0m\u001b[0;34m.\u001b[0m\u001b[0mtable_to_hdu\u001b[0m\u001b[0;34m(\u001b[0m\u001b[0mtable\u001b[0m\u001b[0;34m,\u001b[0m \u001b[0mcharacter_as_bytes\u001b[0m\u001b[0;34m=\u001b[0m\u001b[0;32mFalse\u001b[0m\u001b[0;34m)\u001b[0m\u001b[0;34m\u001b[0m\u001b[0;34m\u001b[0m\u001b[0m\n",
       "\u001b[0;31mDocstring:\u001b[0m\n",
       "Convert an `~astropy.table.Table` object to a FITS\n",
       "`~astropy.io.fits.BinTableHDU`.\n",
       "\n",
       "Parameters\n",
       "----------\n",
       "table : astropy.table.Table\n",
       "    The table to convert.\n",
       "character_as_bytes : bool\n",
       "    Whether to return bytes for string columns when accessed from the HDU.\n",
       "    By default this is `False` and (unicode) strings are returned, but for\n",
       "    large tables this may use up a lot of memory.\n",
       "\n",
       "Returns\n",
       "-------\n",
       "table_hdu : `~astropy.io.fits.BinTableHDU`\n",
       "    The FITS binary table HDU.\n",
       "\u001b[0;31mFile:\u001b[0m      /usr/local/lib64/python3.10/site-packages/astropy/io/fits/convenience.py\n",
       "\u001b[0;31mType:\u001b[0m      function\n"
      ]
     },
     "metadata": {},
     "output_type": "display_data"
    }
   ],
   "source": [
    "#fits.table_to_hdu?"
   ]
  },
  {
   "cell_type": "code",
   "execution_count": 78,
   "id": "8408f6dd-3907-4eb6-b4d1-87a85ec7cba2",
   "metadata": {},
   "outputs": [
    {
     "data": {
      "image/png": "[encoded data removed]",
      "text/plain": [
       "<Figure size 432x288 with 1 Axes>"
      ]
     },
     "metadata": {
      "needs_background": "light"
     },
     "output_type": "display_data"
    }
   ],
   "source": [
    "dd[1].data[4]['TSTART']\n",
    "from matplotlib import pyplot as pl\n",
    "for i in range(0,40,4):\n",
    "    pl.semilogy(dd[1].data[i]['CHANNEL'],dd[1].data[i]['COUNTS'])"
   ]
  },
  {
   "cell_type": "code",
   "execution_count": 72,
   "id": "97691fa3-ac34-4b55-8656-4fa938d3c263",
   "metadata": {},
   "outputs": [
    {
     "data": {
      "text/plain": [
       "ColDefs(\n",
       "    name = 'TSTART_UTC'; format = '19A'\n",
       "    name = 'TSTART'; format = '1D'; unit = 's'\n",
       "    name = 'TELLAPSE'; format = '1D'; unit = 's'\n",
       "    name = 'SPEC_NUM'; format = '1I'\n",
       "    name = 'CHANNEL'; format = '256J'\n",
       "    name = 'COUNTS'; format = '256J'\n",
       "    name = 'STAT_ERR'; format = '256D'\n",
       "    name = 'EXPOSURE'; format = '1D'; unit = 's'\n",
       ")"
      ]
     },
     "execution_count": 72,
     "metadata": {},
     "output_type": "execute_result"
    }
   ],
   "source": [
    "dd[1].columns"
   ]
  },
  {
   "cell_type": "code",
   "execution_count": 87,
   "id": "6653ddc9-234b-4325-b277-3ce25f3b5235",
   "metadata": {},
   "outputs": [],
   "source": [
    "import numpy as np\n",
    "olist=[fits.PrimaryHDU(np.array([]),header=dd[0].header),dd[1]]\n",
    "fits.writeto(\"/home/limu/Space/data/spectra/grbalpha_2022_new.pha\",np.array([]),header=dd[0].header)"
   ]
  },
  {
   "cell_type": "code",
   "execution_count": 83,
   "id": "0b55af7d-d397-4188-a73a-c55173315b2c",
   "metadata": {},
   "outputs": [],
   "source": [
    "intr=fits.PrimaryHDU()\n",
    "intr.data"
   ]
  },
  {
   "cell_type": "code",
   "execution_count": 88,
   "id": "6352dbc8-e173-4c0f-aa35-d0cefa4226b5",
   "metadata": {},
   "outputs": [],
   "source": [
    "ls1=fits.HDUList()"
   ]
  },
  {
   "cell_type": "code",
   "execution_count": 89,
   "id": "1bc8f1af-7f62-4139-bc60-40b8b4a204be",
   "metadata": {},
   "outputs": [],
   "source": [
    "ls1.append(intr)"
   ]
  },
  {
   "cell_type": "code",
   "execution_count": 90,
   "id": "b52e1de3-5209-4c0e-82fe-b342e74e2d40",
   "metadata": {},
   "outputs": [],
   "source": [
    "ls1.append(dd[1])"
   ]
  },
  {
   "cell_type": "code",
   "execution_count": 92,
   "id": "14e426c2-3a97-47cf-9c31-f66c6cf8b10f",
   "metadata": {},
   "outputs": [],
   "source": [
    "ls1.writeto(\"/home/limu/Space/data/spectra/grbalpha_2022_new.pha\",overwrite=True)"
   ]
  },
  {
   "cell_type": "code",
   "execution_count": null,
   "id": "302a6f60-6d23-496e-971f-90d9fcf7a339",
   "metadata": {},
   "outputs": [],
   "source": []
  }
 ],
 "metadata": {
  "kernelspec": {
   "display_name": "Python 3 (ipykernel)",
   "language": "python",
   "name": "python3"
  },
  "language_info": {
   "codemirror_mode": {
    "name": "ipython",
    "version": 3
   },
   "file_extension": ".py",
   "mimetype": "text/x-python",
   "name": "python",
   "nbconvert_exporter": "python",
   "pygments_lexer": "ipython3",
   "version": "3.10.9"
  }
 },
 "nbformat": 4,
 "nbformat_minor": 5
}
