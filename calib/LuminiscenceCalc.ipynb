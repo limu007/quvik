{
 "cells": [
  {
   "cell_type": "code",
   "execution_count": 1,
   "id": "7c68b555-8ace-4313-b4d9-e7b97b24812d",
   "metadata": {},
   "outputs": [],
   "source": [
    "import numpy as np"
   ]
  },
  {
   "cell_type": "code",
   "execution_count": 23,
   "id": "ea0cd9fc-3a83-4f8a-b2b0-1474966c83e9",
   "metadata": {},
   "outputs": [],
   "source": [
    "Eg=1.08\n",
    "Eg=1.9\n",
    "El=1240/520.\n",
    "me,mh=0.13,0.45\n",
    "h=6.62607015e-34\n",
    "m=511e3 #eV\n",
    "c=298e6 #m/s"
   ]
  },
  {
   "cell_type": "code",
   "execution_count": 24,
   "id": "a8259145-f160-494d-b1a2-61bb0a4cc46a",
   "metadata": {},
   "outputs": [
    {
     "data": {
      "text/plain": [
       "5.514698822311034e-09"
      ]
     },
     "execution_count": 24,
     "metadata": {},
     "output_type": "execute_result"
    }
   ],
   "source": [
    "eV=1.602e-19\n",
    "m_r=m/c**2*eV\n",
    "con=h**2/2/m_r*(1/me+1/mh)\n",
    "np.sqrt(con/(El-Eg)/eV)"
   ]
  },
  {
   "cell_type": "code",
   "execution_count": 25,
   "id": "d8215a18-8aae-405e-a995-c0049efae597",
   "metadata": {},
   "outputs": [
    {
     "data": {
      "text/plain": [
       "-1.943175489676173e-29"
      ]
     },
     "execution_count": 25,
     "metadata": {},
     "output_type": "execute_result"
    }
   ],
   "source": [
    "eps=10.6\n",
    "eps0=8.8541878e-12 #A/m/s\n",
    "cor=-1.786*eV**2/8/np.pi/eps/eps0\n",
    "cor"
   ]
  },
  {
   "cell_type": "code",
   "execution_count": 26,
   "id": "c9db1a99-3eb8-45ed-8e45-a469896d2145",
   "metadata": {},
   "outputs": [
    {
     "data": {
      "text/plain": [
       "5.390971113642758e-09"
      ]
     },
     "execution_count": 26,
     "metadata": {},
     "output_type": "execute_result"
    }
   ],
   "source": [
    "quad = lambda a,b,c:(-b+np.sqrt(b**2-4*a*c))/2/a\n",
    "1/quad(con,cor,-(El-Eg)*eV)"
   ]
  },
  {
   "cell_type": "code",
   "execution_count": 28,
   "id": "8a1f52cc-ec1e-41f6-a91c-9aa135867c82",
   "metadata": {},
   "outputs": [
    {
     "data": {
      "text/plain": [
       "(806.40756426833, 55.5)"
      ]
     },
     "execution_count": 28,
     "metadata": {},
     "output_type": "execute_result"
    }
   ],
   "source": [
    "np.pi/4*(37.0**2-18.5**2),37*1.5"
   ]
  },
  {
   "cell_type": "code",
   "execution_count": null,
   "id": "17f82f89-0085-4004-9a0b-4cdf6829672a",
   "metadata": {},
   "outputs": [],
   "source": []
  }
 ],
 "metadata": {
  "kernelspec": {
   "display_name": "Python 3 (ipykernel)",
   "language": "python",
   "name": "python3"
  },
  "language_info": {
   "codemirror_mode": {
    "name": "ipython",
    "version": 3
   },
   "file_extension": ".py",
   "mimetype": "text/x-python",
   "name": "python",
   "nbconvert_exporter": "python",
   "pygments_lexer": "ipython3",
   "version": "3.10.8"
  }
 },
 "nbformat": 4,
 "nbformat_minor": 5
}
