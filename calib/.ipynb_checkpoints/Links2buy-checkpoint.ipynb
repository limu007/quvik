{
 "cells": [
  {
   "cell_type": "markdown",
   "id": "cd9776f5-2e93-4957-827c-9f876286e005",
   "metadata": {},
   "source": [
    "### UV sources\n",
    "\n",
    "**Roithner**\n",
    "- 255-260 LED https://www.roithner-laser.com/datasheets/led_deepuv/uvtop250-hl-to39.pdf (400 EUR/pc)\n",
    "- 370 nm laser LED (2nm) https://www.roithner-laser.com/datasheets/ld_div/rlu4116e.pdf (!6000 EUR)\n",
    "- 380 nm - 200mW! https://www.roithner-laser.com/datasheets/ld_div/shd38200mg.pdf (500 EUR)"
   ]
  },
  {
   "cell_type": "markdown",
   "id": "3907ca5e-07c3-40ec-9ec8-d114695c28bd",
   "metadata": {},
   "source": [
    "-  ozone detection   \n",
    "https://en.maritex.com.pl/product/attachment/104616/b9adb1d2c674fdd1c8e3a8bda99e46ce (300 EUR)\n",
    "\n",
    "- oxygen level \n",
    "https://sps.honeywell.com/us/en/products/advanced-sensing-technologies/healthcare-sensing/medical-gas-sensors/oom-envitec (use scrubber electronics)"
   ]
  },
  {
   "cell_type": "markdown",
   "id": "7ec475cb-ff3f-4a9d-83ca-0c6cc8281a7b",
   "metadata": {},
   "source": [
    "## thermal cycling\n",
    "\n",
    "- evacuate BMT chamber with ROOTS pump.. test pressure "
   ]
  },
  {
   "cell_type": "markdown",
   "id": "3be41856-b659-427f-ae50-006de58665e8",
   "metadata": {},
   "source": [
    "### test bench\n",
    "\n",
    "https://mcphersoninc.com/accessories/telecol.html"
   ]
  },
  {
   "cell_type": "code",
   "execution_count": null,
   "id": "f3131657-f0f1-4599-a823-b633c09624bc",
   "metadata": {},
   "outputs": [],
   "source": []
  }
 ],
 "metadata": {
  "kernelspec": {
   "display_name": "Python 3 (ipykernel)",
   "language": "python",
   "name": "python3"
  },
  "language_info": {
   "codemirror_mode": {
    "name": "ipython",
    "version": 3
   },
   "file_extension": ".py",
   "mimetype": "text/x-python",
   "name": "python",
   "nbconvert_exporter": "python",
   "pygments_lexer": "ipython3",
   "version": "3.10.10"
  }
 },
 "nbformat": 4,
 "nbformat_minor": 5
}
