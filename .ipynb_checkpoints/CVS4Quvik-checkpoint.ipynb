{
 "cells": [
  {
   "cell_type": "markdown",
   "id": "ce3101e3-d35d-4714-b556-4ce53453709d",
   "metadata": {},
   "source": [
    "## Symbiotics\n",
    "\n",
    "http://astronomy.science.upjs.sk/symbiotics/galactic-symbiotic-stars/confirmed-galactic-symbiotic-stars/"
   ]
  },
  {
   "cell_type": "code",
   "execution_count": null,
   "id": "ba23c8ef-d7b6-4d06-aae6-bd9628638cc6",
   "metadata": {},
   "outputs": [],
   "source": []
  },
  {
   "cell_type": "code",
   "execution_count": 2,
   "id": "2fcd4827-90a7-4727-a76e-f32f6a9e6150",
   "metadata": {},
   "outputs": [],
   "source": [
    "import pandas\n",
    "import numpy as np\n",
    "cat=pandas.read_csv(\"/home/limu/Documents/Space/QUVIK/Science/catalogue_symbiotic_confirmed.csv\")"
   ]
  },
  {
   "cell_type": "code",
   "execution_count": 16,
   "id": "d64e8e7c-ecf7-44d3-9740-afc5c63b2f6c",
   "metadata": {},
   "outputs": [
    {
     "data": {
      "text/plain": [
       "116"
      ]
     },
     "execution_count": 16,
     "metadata": {},
     "output_type": "execute_result"
    }
   ],
   "source": [
    "cb=cat.columns[3]\n",
    "sum(npmake(cat[cb])<15)"
   ]
  },
  {
   "cell_type": "code",
   "execution_count": 15,
   "id": "4d5f7cc4-93aa-4249-8904-739c5758e4f8",
   "metadata": {},
   "outputs": [],
   "source": [
    "q=cat[cb]\n",
    "npmake=lambda q:np.array(q[q!='-']).astype(float)"
   ]
  },
  {
   "cell_type": "markdown",
   "id": "2bbe5470-f177-4836-9b98-5533f5407e05",
   "metadata": {},
   "source": [
    "## Cataclysmics"
   ]
  },
  {
   "cell_type": "code",
   "execution_count": 17,
   "id": "462eaf98-9437-4d03-b670-e75bab8aca5f",
   "metadata": {},
   "outputs": [],
   "source": [
    "cvs=pandas.read_html(\"/home/limu/Documents/Space/QUVIK/Science/cataclysmic_downes.html\")"
   ]
  },
  {
   "cell_type": "code",
   "execution_count": 21,
   "id": "d94e8a81-f5eb-4c85-863b-04848e1e1fe2",
   "metadata": {},
   "outputs": [],
   "source": [
    "cat2=cvs[3]\n",
    "cat2.columns=[\"Name\",\"RA\",\"Dec\",\"Type\",\"Range\",\"Chart\",\"Spectrum\",\"Period\",\"Other\"]"
   ]
  },
  {
   "cell_type": "code",
   "execution_count": 63,
   "id": "981fcc5a-d5f3-48c0-ad4b-c8b9917afb2f",
   "metadata": {},
   "outputs": [],
   "source": [
    "zz=cat2.Range[10]\n",
    "mags=[zz.replace('\\xa0',' ').replace('  ',' ').split() for zz in cat2.Range[1:]]\n",
    "magmax=np.array([float(a[0].replace('>','')) for a in mags if a[0]!='-'])"
   ]
  },
  {
   "cell_type": "code",
   "execution_count": 42,
   "id": "ab7b07e5-cedb-480f-892d-4c3354da887b",
   "metadata": {},
   "outputs": [
    {
     "data": {
      "image/png": "[encoded data removed]",
      "text/plain": [
       "<Figure size 432x288 with 1 Axes>"
      ]
     },
     "metadata": {
      "needs_background": "light"
     },
     "output_type": "display_data"
    }
   ],
   "source": [
    "len(magmax)\n",
    "%matplotlib inline\n",
    "import matplotlib.pyplot as pl\n",
    "pl.hist(magmax,np.r_[5:25]);"
   ]
  },
  {
   "cell_type": "code",
   "execution_count": 64,
   "id": "434def03-26fd-42c2-ae1e-3c6540b08dfa",
   "metadata": {},
   "outputs": [],
   "source": [
    "typmax=np.array([(a[1]).upper() for a in mags if a[0]!='-'])\n",
    "typmin=np.array([(a[-1]).upper() for a in mags if a[0]!='-'])"
   ]
  },
  {
   "cell_type": "code",
   "execution_count": 71,
   "id": "4d3a3e7e-2de8-4225-bf16-12d856bed69f",
   "metadata": {},
   "outputs": [
    {
     "data": {
      "text/plain": [
       "(Counter({'V': 381,\n",
       "          'I': 48,\n",
       "          'P': 421,\n",
       "          'U': 3,\n",
       "          'F': 2,\n",
       "          'R': 15,\n",
       "          'B': 79,\n",
       "          'C': 20,\n",
       "          'J': 8,\n",
       "          'S': 3,\n",
       "          'G': 3,\n",
       "          '-': 3,\n",
       "          'X': 2}),\n",
       " Counter({'V': 375,\n",
       "          'I': 48,\n",
       "          'P': 288,\n",
       "          'B': 128,\n",
       "          'U': 3,\n",
       "          'R': 26,\n",
       "          'S': 11,\n",
       "          'C': 13,\n",
       "          'J': 84,\n",
       "          '<21': 2,\n",
       "          '21.3': 1,\n",
       "          'G': 3,\n",
       "          '18': 1,\n",
       "          'X': 2,\n",
       "          '<18': 1,\n",
       "          '21': 1,\n",
       "          '22': 1}))"
      ]
     },
     "execution_count": 71,
     "metadata": {},
     "output_type": "execute_result"
    }
   ],
   "source": [
    "from collections import Counter\n",
    "#Counter(typmax),Counter(typmin)"
   ]
  },
  {
   "cell_type": "code",
   "execution_count": 70,
   "id": "cd9ed1de-fb7c-4fa8-ba39-e5b28e01848d",
   "metadata": {},
   "outputs": [
    {
     "data": {
      "text/plain": [
       "<matplotlib.legend.Legend at 0x7ff2f09e1990>"
      ]
     },
     "execution_count": 70,
     "metadata": {},
     "output_type": "execute_result"
    },
    {
     "data": {
      "image/png": "[encoded data removed]",
      "text/plain": [
       "<Figure size 432x288 with 1 Axes>"
      ]
     },
     "metadata": {
      "needs_background": "light"
     },
     "output_type": "display_data"
    }
   ],
   "source": [
    "[pl.hist(magmax[typmax==a],np.r_[5:25],label=a,alpha=0.3) for a in list(\"VBP\")];\n",
    "pl.legend()"
   ]
  },
  {
   "cell_type": "code",
   "execution_count": 74,
   "id": "ab497536-932c-4679-b995-4a0eb941bf51",
   "metadata": {},
   "outputs": [
    {
     "ename": "ValueError",
     "evalue": "could not convert string to float: 'p'",
     "output_type": "error",
     "traceback": [
      "\u001b[0;31m---------------------------------------------------------------------------\u001b[0m",
      "\u001b[0;31mValueError\u001b[0m                                Traceback (most recent call last)",
      "\u001b[0;32m/tmp/ipykernel_270202/3189859436.py\u001b[0m in \u001b[0;36m<module>\u001b[0;34m\u001b[0m\n\u001b[0;32m----> 1\u001b[0;31m \u001b[0mmagmin\u001b[0m\u001b[0;34m=\u001b[0m\u001b[0mnp\u001b[0m\u001b[0;34m.\u001b[0m\u001b[0marray\u001b[0m\u001b[0;34m(\u001b[0m\u001b[0;34m[\u001b[0m\u001b[0mfloat\u001b[0m\u001b[0;34m(\u001b[0m\u001b[0ma\u001b[0m\u001b[0;34m[\u001b[0m\u001b[0;36m3\u001b[0m\u001b[0;34m]\u001b[0m\u001b[0;34m.\u001b[0m\u001b[0mreplace\u001b[0m\u001b[0;34m(\u001b[0m\u001b[0;34m'<'\u001b[0m\u001b[0;34m,\u001b[0m\u001b[0;34m''\u001b[0m\u001b[0;34m)\u001b[0m\u001b[0;34m)\u001b[0m \u001b[0;32mfor\u001b[0m \u001b[0ma\u001b[0m \u001b[0;32min\u001b[0m \u001b[0mmags\u001b[0m \u001b[0;32mif\u001b[0m \u001b[0ma\u001b[0m\u001b[0;34m[\u001b[0m\u001b[0;36m0\u001b[0m\u001b[0;34m]\u001b[0m\u001b[0;34m!=\u001b[0m\u001b[0;34m'-'\u001b[0m \u001b[0;32mand\u001b[0m \u001b[0mlen\u001b[0m\u001b[0;34m(\u001b[0m\u001b[0ma\u001b[0m\u001b[0;34m)\u001b[0m\u001b[0;34m>\u001b[0m\u001b[0;36m3\u001b[0m\u001b[0;34m]\u001b[0m\u001b[0;34m)\u001b[0m\u001b[0;34m\u001b[0m\u001b[0;34m\u001b[0m\u001b[0m\n\u001b[0m",
      "\u001b[0;32m/tmp/ipykernel_270202/3189859436.py\u001b[0m in \u001b[0;36m<listcomp>\u001b[0;34m(.0)\u001b[0m\n\u001b[0;32m----> 1\u001b[0;31m \u001b[0mmagmin\u001b[0m\u001b[0;34m=\u001b[0m\u001b[0mnp\u001b[0m\u001b[0;34m.\u001b[0m\u001b[0marray\u001b[0m\u001b[0;34m(\u001b[0m\u001b[0;34m[\u001b[0m\u001b[0mfloat\u001b[0m\u001b[0;34m(\u001b[0m\u001b[0ma\u001b[0m\u001b[0;34m[\u001b[0m\u001b[0;36m3\u001b[0m\u001b[0;34m]\u001b[0m\u001b[0;34m.\u001b[0m\u001b[0mreplace\u001b[0m\u001b[0;34m(\u001b[0m\u001b[0;34m'<'\u001b[0m\u001b[0;34m,\u001b[0m\u001b[0;34m''\u001b[0m\u001b[0;34m)\u001b[0m\u001b[0;34m)\u001b[0m \u001b[0;32mfor\u001b[0m \u001b[0ma\u001b[0m \u001b[0;32min\u001b[0m \u001b[0mmags\u001b[0m \u001b[0;32mif\u001b[0m \u001b[0ma\u001b[0m\u001b[0;34m[\u001b[0m\u001b[0;36m0\u001b[0m\u001b[0;34m]\u001b[0m\u001b[0;34m!=\u001b[0m\u001b[0;34m'-'\u001b[0m \u001b[0;32mand\u001b[0m \u001b[0mlen\u001b[0m\u001b[0;34m(\u001b[0m\u001b[0ma\u001b[0m\u001b[0;34m)\u001b[0m\u001b[0;34m>\u001b[0m\u001b[0;36m3\u001b[0m\u001b[0;34m]\u001b[0m\u001b[0;34m)\u001b[0m\u001b[0;34m\u001b[0m\u001b[0;34m\u001b[0m\u001b[0m\n\u001b[0m",
      "\u001b[0;31mValueError\u001b[0m: could not convert string to float: 'p'"
     ]
    }
   ],
   "source": [
    "magmin=np.array([float(a[3].replace('<','')) for a in mags if a[0]!='-' and len(a)>3])"
   ]
  },
  {
   "cell_type": "code",
   "execution_count": 2,
   "id": "4c6c1bda-c134-4abe-9669-7ebd72be0d8a",
   "metadata": {},
   "outputs": [],
   "source": [
    "import numpy as np\n",
    "from astroquery.vizier import Vizier"
   ]
  },
  {
   "cell_type": "code",
   "execution_count": 5,
   "id": "b6785dc1-eacd-4015-81e0-528f6dbaff13",
   "metadata": {},
   "outputs": [],
   "source": [
    "names=[\"TXS 0506+056\",\"PKS 1502+106\",\"PKS 0735+178\"]"
   ]
  },
  {
   "cell_type": "code",
   "execution_count": 6,
   "id": "0330c615-479f-43ea-8745-ab288833ff41",
   "metadata": {},
   "outputs": [],
   "source": [
    "from astroquery.simbad import Simbad\n",
    "\n",
    "result_table = Simbad.query_object(names[1])"
   ]
  },
  {
   "cell_type": "code",
   "execution_count": 11,
   "id": "4520af36-3fa5-47cd-abb2-292d15d9208b",
   "metadata": {},
   "outputs": [],
   "source": [
    "r1=result_table[0]"
   ]
  },
  {
   "cell_type": "code",
   "execution_count": 16,
   "id": "621b0437-3ac4-4c7f-b4b3-94c9e7c1d558",
   "metadata": {},
   "outputs": [
    {
     "data": {
      "text/plain": [
       "'+10 29 39.197'"
      ]
     },
     "execution_count": 16,
     "metadata": {},
     "output_type": "execute_result"
    }
   ],
   "source": [
    "r1[\"DEC\"]"
   ]
  },
  {
   "cell_type": "code",
   "execution_count": null,
   "id": "e0ad4dc0-6627-40a0-8431-ff8ad47e35cc",
   "metadata": {},
   "outputs": [],
   "source": []
  }
 ],
 "metadata": {
  "kernelspec": {
   "display_name": "Python 3 (ipykernel)",
   "language": "python",
   "name": "python3"
  },
  "language_info": {
   "codemirror_mode": {
    "name": "ipython",
    "version": 3
   },
   "file_extension": ".py",
   "mimetype": "text/x-python",
   "name": "python",
   "nbconvert_exporter": "python",
   "pygments_lexer": "ipython3",
   "version": "3.10.4"
  }
 },
 "nbformat": 4,
 "nbformat_minor": 5
}
