{
 "cells": [
  {
   "cell_type": "markdown",
   "id": "4bc8e909-d5c0-4891-8680-266b7b69b3df",
   "metadata": {},
   "source": [
    "### finding holes\n",
    "places around ecliptic with lowest density of bright stars (for flatfielding) "
   ]
  },
  {
   "cell_type": "code",
   "execution_count": 4,
   "id": "c655aff0-fd3f-4652-9417-81436e3c3531",
   "metadata": {},
   "outputs": [],
   "source": [
    "inp=\"/home/limu/Documents/Space/QUVIK/Work/feasibility/sources/USNOb1_B2_remo.npz\"\n",
    "import numpy as np\n",
    "cat1=np.load(inp)\n",
    "klist=list(cat1.keys())"
   ]
  },
  {
   "cell_type": "code",
   "execution_count": 11,
   "id": "17a376e6-289a-4d84-92ae-51e2b17d0e67",
   "metadata": {},
   "outputs": [
    {
     "data": {
      "text/plain": [
       "([0.0007, 359.9991], [-26.6661, -24.2449])"
      ]
     },
     "execution_count": 11,
     "metadata": {},
     "output_type": "execute_result"
    }
   ],
   "source": [
    "key1='dec_-2666_-2424'\n",
    "ran=lambda a:[a.min(),a.max()]\n",
    "ran(cat1[key1][0]),ran(cat1[key1][1])"
   ]
  },
  {
   "cell_type": "code",
   "execution_count": 5,
   "id": "a4ae3632-b626-4f77-8b26-66ed327ec05d",
   "metadata": {},
   "outputs": [
    {
     "data": {
      "text/plain": [
       "89.96"
      ]
     },
     "execution_count": 5,
     "metadata": {},
     "output_type": "execute_result"
    }
   ],
   "source": [
    "kbord=np.array([[float(z)/100. for z in k.split('_')[1:3]] for k in klist])\n",
    "kbord.max()"
   ]
  },
  {
   "cell_type": "raw",
   "id": "1c94d606-bade-4c10-bb63-0737333e6d6f",
   "metadata": {},
   "source": [
    "nlist=['dec_%05i_%05i'%ran(cat1[k][1]) for k in klist]\n",
    "nlist=[d[:4]+d[5:10]+d[11:] if d.find('_0')>0 else d for d in nlist]\n",
    "newhash={}\n",
    "for i in range(len(klist)):\n",
    "    newhash[nlist[i]]=cat1[klist[i]]\n",
    "np.savez_compressed(inp.replace('more','remo'),**newhash)"
   ]
  },
  {
   "cell_type": "code",
   "execution_count": 2,
   "id": "ed33ab10-137e-41ef-b481-6ff48b8f9ea6",
   "metadata": {},
   "outputs": [],
   "source": [
    "from astropy import coordinates as coor\n",
    "from astropy import units as u\n"
   ]
  },
  {
   "cell_type": "code",
   "execution_count": 14,
   "id": "5464b58f-cf3e-4171-9481-90af3c03e49c",
   "metadata": {},
   "outputs": [],
   "source": [
    "def get_field(b=60,l=0):\n",
    "    c1=coor.GeocentricTrueEcliptic(b*u.deg,l*u.rad)\n",
    "    pos1=c1.transform_to(coor.Galactic())\n",
    "    qsel=(pos1.b.degree>kbord[:,0])*(pos1.b.degree<kbord[:,1])\n",
    "    ksel1=klist[np.where(qsel)[0][0]]\n",
    "    fld=cat1[ksel1]\n",
    "    return fld[:,(fld[0]>pos1.l.degree-1)*(fld[0]<pos1.l.degree+1)]"
   ]
  },
  {
   "cell_type": "code",
   "execution_count": 16,
   "id": "7d7de947-bf65-4d01-90bf-1b2070c4e89c",
   "metadata": {},
   "outputs": [
    {
     "name": "stdout",
     "output_type": "stream",
     "text": [
      "failed for  90\n",
      "failed for  270\n"
     ]
    }
   ],
   "source": [
    "allstat=[]\n",
    "bpos=np.r_[:360]\n",
    "for b in bpos:\n",
    "    try:\n",
    "        fld=get_field(b)\n",
    "    except:\n",
    "        print('failed for ',b)\n",
    "        allstat.append([0]*8)\n",
    "    else:\n",
    "        allstat.append(ran(fld[0])+ran(fld[1])+[sum(fld[2]<q) for q in [10,12,14,16]])"
   ]
  },
  {
   "cell_type": "code",
   "execution_count": 17,
   "id": "b83d9ce0-c6d9-4c0c-a726-f3f803a4b7e9",
   "metadata": {},
   "outputs": [],
   "source": [
    "arrstat=np.array(allstat).T"
   ]
  },
  {
   "cell_type": "code",
   "execution_count": 19,
   "id": "672b2984-822c-40ef-b084-f999c6edb6fa",
   "metadata": {},
   "outputs": [
    {
     "data": {
      "text/plain": [
       "array([5.5133, 5.5157, 5.5202, 5.5176, 5.4996, 5.5196, 5.5112, 5.5151,\n",
       "       5.5179, 5.5185, 5.5065, 5.5093, 5.5192, 5.5055, 5.5171, 5.5089,\n",
       "       5.0248, 5.0379, 5.0272, 5.0288, 5.0249, 5.0198, 5.0303, 5.0312,\n",
       "       5.0351, 5.0351, 4.5907, 4.5934, 4.5947, 4.5962, 4.5936, 4.5939,\n",
       "       4.5913, 4.1873, 4.1889, 4.1916, 4.1831, 4.1769, 4.1758, 3.8229,\n",
       "       3.8233, 3.8223, 3.8237, 3.8249, 3.4912, 3.4896, 3.4903, 3.4901,\n",
       "       3.488 , 3.1836, 3.1769, 3.1862, 3.1862, 2.8985, 2.9027, 2.9047,\n",
       "       2.6512, 2.6497, 2.6497, 2.4191, 2.4188, 2.42  , 2.2088, 2.2088,\n",
       "       2.2086, 2.0111, 2.015 , 1.8319, 1.8319, 1.6763, 1.6763, 1.5308,\n",
       "       1.53  , 1.3971, 1.3971, 1.271 , 1.1635, 1.1635, 1.0617, 0.9665,\n",
       "       0.8833, 0.8056, 0.7348, 0.6706, 0.559 , 0.5099, 0.4224, 0.3222,\n",
       "       0.244 , 0.17  , 0.    , 0.1687, 0.2451, 0.3221, 0.4237, 0.4654,\n",
       "       0.5588, 0.6713, 0.7353, 0.8063, 0.8825, 0.9681, 1.0618, 1.1635,\n",
       "       1.1635, 1.2751, 1.3967, 1.3967, 1.5311, 1.5295, 1.6783, 1.6783,\n",
       "       1.8394, 1.8392, 2.0138, 2.0128, 2.2051, 2.2089, 2.2089, 2.4154,\n",
       "       2.4207, 2.4206, 2.6518, 2.6521, 2.6521, 2.907 , 2.907 , 2.9078,\n",
       "       3.1785, 3.1857, 3.1864, 3.1841, 3.486 , 3.4877, 3.4907, 3.4886,\n",
       "       3.4886, 3.8222, 3.8212, 3.8156, 3.8268, 3.8268, 4.194 , 4.194 ,\n",
       "       4.1896, 4.1864, 4.1912, 4.1924, 4.5854, 4.5658, 4.5953, 4.5953,\n",
       "       4.5861, 4.5956, 4.5956, 5.0263, 5.0246, 5.0213, 5.0306, 5.0359,\n",
       "       5.0347, 5.0324, 5.0339, 5.0317, 5.0241, 5.4962, 5.5185, 5.5186,\n",
       "       5.5161, 5.5134, 5.5187, 5.5183, 5.516 , 5.5152, 5.5111, 5.5051,\n",
       "       5.5171, 5.5173, 5.5107, 5.5172, 5.5043, 5.4972, 5.5108, 5.5054,\n",
       "       5.5163, 5.4989, 5.5125, 5.513 , 5.5148, 5.5143, 5.5   , 5.4985,\n",
       "       5.5077, 5.5165, 5.4942, 5.4937, 5.0339, 5.0365, 5.0337, 5.0354,\n",
       "       5.0286, 5.0312, 5.0346, 5.0375, 5.0355, 5.036 , 4.5884, 4.5913,\n",
       "       4.5932, 4.5944, 4.5911, 4.5968, 4.5941, 4.1898, 4.1858, 4.1864,\n",
       "       4.1876, 4.1914, 4.1914, 3.8222, 3.8274, 3.8274, 3.8272, 3.8168,\n",
       "       3.4885, 3.4873, 3.4869, 3.4888, 3.4915, 3.1864, 3.1864, 3.1861,\n",
       "       3.1859, 2.9066, 2.9055, 2.9068, 2.6529, 2.6529, 2.6469, 2.4207,\n",
       "       2.4199, 2.4199, 2.2087, 2.2089, 2.2089, 2.0145, 2.0145, 1.8393,\n",
       "       1.8387, 1.6769, 1.677 , 1.5307, 1.5307, 1.3969, 1.3969, 1.2752,\n",
       "       1.1627, 1.1627, 1.0571, 0.9675, 0.8835, 0.8056, 0.7342, 0.6715,\n",
       "       0.5586, 0.51  , 0.422 , 0.3227, 0.2447, 0.1699, 0.    , 0.17  ,\n",
       "       0.2449, 0.3227, 0.4248, 0.5103, 0.5591, 0.6716, 0.736 , 0.8066,\n",
       "       0.8838, 0.9685, 1.0618, 1.1634, 1.1635, 1.2749, 1.3973, 1.3973,\n",
       "       1.5312, 1.5312, 1.6784, 1.6784, 1.8394, 1.8394, 2.0151, 2.0151,\n",
       "       2.2079, 2.2086, 2.2081, 2.4208, 2.4204, 2.4201, 2.6532, 2.6533,\n",
       "       2.6533, 2.9068, 2.9071, 2.9071, 3.1815, 3.1842, 3.1842, 3.1849,\n",
       "       3.4903, 3.488 , 3.4875, 3.4915, 3.4915, 3.8228, 3.8237, 3.8237,\n",
       "       3.8231, 3.823 , 4.1908, 4.1942, 4.1942, 4.1937, 4.1943, 4.1941,\n",
       "       4.5964, 4.5934, 4.5903, 4.5852, 4.5948, 4.5949, 4.594 , 5.0343,\n",
       "       5.0334, 5.0368, 5.0338, 5.0281, 5.0223, 5.0285, 5.0264, 5.0374,\n",
       "       5.0347, 5.5178, 5.5153, 5.5127, 5.5165, 5.5189, 5.5075, 5.5141,\n",
       "       5.5048, 5.4703, 5.4977, 5.5181, 5.5177, 5.5152, 5.5115, 5.5157])"
      ]
     },
     "execution_count": 19,
     "metadata": {},
     "output_type": "execute_result"
    }
   ],
   "source": [
    "arrstat[3]-arrstat[2]"
   ]
  },
  {
   "cell_type": "code",
   "execution_count": 60,
   "id": "42ca962d-d86e-4c42-a9d0-2201b3d15fb5",
   "metadata": {},
   "outputs": [
    {
     "data": {
      "text/plain": [
       "[<matplotlib.lines.Line2D at 0x7fb2acee71c0>]"
      ]
     },
     "execution_count": 60,
     "metadata": {},
     "output_type": "execute_result"
    },
    {
     "data": {
      "image/png": "[encoded data removed]",
      "text/plain": [
       "<Figure size 432x288 with 1 Axes>"
      ]
     },
     "metadata": {
      "needs_background": "light"
     },
     "output_type": "display_data"
    }
   ],
   "source": [
    "from matplotlib import pyplot as pl\n",
    "pl.plot(fld[0],fld[1],',')\n",
    "s=fld[2]<12\n",
    "pl.plot(fld[0][s],fld[1][s],'.')"
   ]
  },
  {
   "cell_type": "code",
   "execution_count": 59,
   "id": "239ef1ec-9723-4a60-8f14-31187b187827",
   "metadata": {},
   "outputs": [
    {
     "data": {
      "text/plain": [
       "31"
      ]
     },
     "execution_count": 59,
     "metadata": {},
     "output_type": "execute_result"
    }
   ],
   "source": [
    "sum(fld[2]<11)"
   ]
  },
  {
   "cell_type": "code",
   "execution_count": 67,
   "id": "71bac095-286b-4680-abfa-82b753dd059e",
   "metadata": {},
   "outputs": [],
   "source": [
    "cx=coor.GeocentricTrueEcliptic(np.r_[0:360:5]*u.deg,0*u.rad)"
   ]
  },
  {
   "cell_type": "code",
   "execution_count": 68,
   "id": "f17e844e-05da-44f1-85fb-e0b0e2449d16",
   "metadata": {},
   "outputs": [],
   "source": [
    "gx=cx.transform_to(coor.Galactic())"
   ]
  },
  {
   "cell_type": "markdown",
   "id": "049853a1-95bd-4ba7-8e2b-4da79310a6cb",
   "metadata": {},
   "source": [
    "#### ecliptic in galactic coordinates  \n",
    "want to select places most distant from MW"
   ]
  },
  {
   "cell_type": "code",
   "execution_count": 69,
   "id": "c69078c6-6b59-4e25-b328-1620c6e31bff",
   "metadata": {},
   "outputs": [
    {
     "data": {
      "text/plain": [
       "[<matplotlib.lines.Line2D at 0x7fb2acc2d090>]"
      ]
     },
     "execution_count": 69,
     "metadata": {},
     "output_type": "execute_result"
    },
    {
     "data": {
      "image/png": "[encoded data removed]",
      "text/plain": [
       "<Figure size 432x288 with 1 Axes>"
      ]
     },
     "metadata": {
      "needs_background": "light"
     },
     "output_type": "display_data"
    }
   ],
   "source": [
    "pl.plot(gx.l.degree,gx.b.degree)"
   ]
  },
  {
   "cell_type": "code",
   "execution_count": 71,
   "id": "49c9bb7b-7169-4f16-96d5-868be1b35dbf",
   "metadata": {},
   "outputs": [],
   "source": [
    "pos1=gx[0]\n",
    "qsel=(pos1.b.degree>kbord[:,0])*(pos1.b.degree<kbord[:,1])\n",
    "ksel1=klist[np.where(qsel)[0][0]]\n",
    "fld=cat1[ksel1]\n",
    "fld=fld[:,(fld[0]>pos1.l.degree-1)*(fld[0]<pos1.l.degree+1)]"
   ]
  },
  {
   "cell_type": "code",
   "execution_count": 76,
   "id": "29a3e8f3-963d-4f99-82ce-dffadc7769f2",
   "metadata": {},
   "outputs": [
    {
     "data": {
      "text/plain": [
       "(-61.1812, -59.1901)"
      ]
     },
     "execution_count": 76,
     "metadata": {},
     "output_type": "execute_result"
    }
   ],
   "source": [
    "fld=fld[:,(fld[1]>pos1.b.degree-1)*(fld[1]<pos1.b.degree+1)]\n",
    "ran(fld[1])"
   ]
  },
  {
   "cell_type": "code",
   "execution_count": 78,
   "id": "6db288c1-daac-4f28-b048-30ea94df3250",
   "metadata": {},
   "outputs": [
    {
     "data": {
      "text/plain": [
       "583"
      ]
     },
     "execution_count": 78,
     "metadata": {},
     "output_type": "execute_result"
    },
    {
     "data": {
      "image/png": "[encoded data removed]",
      "text/plain": [
       "<Figure size 432x288 with 1 Axes>"
      ]
     },
     "metadata": {
      "needs_background": "light"
     },
     "output_type": "display_data"
    }
   ],
   "source": [
    "pl.plot(fld[0],fld[1],',')\n",
    "s=fld[2]<12\n",
    "pl.plot(fld[0][s],fld[1][s],'.')\n",
    "len(fld[1])"
   ]
  },
  {
   "cell_type": "code",
   "execution_count": null,
   "id": "8622fb6d-98e3-4395-b9fc-c824e1b68c67",
   "metadata": {},
   "outputs": [],
   "source": []
  }
 ],
 "metadata": {
  "kernelspec": {
   "display_name": "Python 3 (ipykernel)",
   "language": "python",
   "name": "python3"
  },
  "language_info": {
   "codemirror_mode": {
    "name": "ipython",
    "version": 3
   },
   "file_extension": ".py",
   "mimetype": "text/x-python",
   "name": "python",
   "nbconvert_exporter": "python",
   "pygments_lexer": "ipython3",
   "version": "3.10.7"
  }
 },
 "nbformat": 4,
 "nbformat_minor": 5
}
