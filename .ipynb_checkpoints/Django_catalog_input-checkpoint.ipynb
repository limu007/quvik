{
 "cells": [
  {
   "cell_type": "code",
   "execution_count": null,
   "id": "ee8fb69c-fec2-49fb-b6fd-75f8c4ed7e1e",
   "metadata": {},
   "outputs": [],
   "source": [
    "lnx=[a.strip() for a in open(\"/home/limu/Data/Quvik/targets_intermediate_mass_mergers.txt\").readlines()]      \n",
    "lnx=[a for a in lnx if len(a)>10 and a[0]!='#'] \n",
    "set1=[a.split('\\t') for a in lnx if a.find('\\t')>0][1:] \n",
    "\n",
    "pos=[coord.ICRS(Angle(a[-1][:mpos(a[-1])].strip()+'h'),Angle(a[-1][mpos(a[-1]):40].strip()+'d')) for a in set1]\n",
    "names=[a[1] if a[0][:4]=='IRAS' and a[1].strip()!='' else a[0] for a in set1] \n",
    "targ=[md.Target(name=t.strip(),group='medmerg:',mag1=0,mag2=0,mag3=0,mag0=0) for t in names]\n",
    "[targ[i].set_pos(pos[i]) for i in range(len(pos))]\n",
    "\n",
    "oo=[md.Objective(expo=10,repeat=3*24*3600/10,target=t) for t in targ[4:6]]\n",
    "\n",
    "#all have objectives\n",
    "[t for t in md.Target.objects.all() if t.objective_set.count()==0]"
   ]
  },
  {
   "cell_type": "code",
   "execution_count": null,
   "id": "a0909250-39a1-4a63-bbc3-09e66946047a",
   "metadata": {},
   "outputs": [],
   "source": [
    "import json,requests\n",
    "def cat2url(table=\"hcvsummary\",release=\"v3\",magtype=\"magaper2\",baseurl=hscapiurl):\n",
    "    #checklegal(table,release,magtype)\n",
    "    if table == \"summary\":\n",
    "        url = \"{baseurl}/{release}/{table}/{magtype}\".format(**locals())\n",
    "    else:\n",
    "        url = \"{baseurl}/{release}/{table}\".format(**locals())\n",
    "    return url\n",
    "\n",
    "\n",
    "def mastQuery(request):\n",
    "    requestString = json.dumps(request)\n",
    "    r = requests.post(url, data={'request': requestString})\n",
    "    r.raise_for_status()\n",
    "    return r.text\n",
    "\n",
    "def resolve(name):\n",
    "    resolverRequest = {'service':'Mast.Name.Lookup',\n",
    "                       'params':{'input':name,'format':'json'},\n",
    "                      }\n",
    "    resolvedObjectString = mastQuery(resolverRequest)\n",
    "    resolvedObject = json.loads(resolvedObjectString)\n",
    "    try:\n",
    "        objRa = resolvedObject['resolvedCoordinate'][0]['ra']\n",
    "        objDec = resolvedObject['resolvedCoordinate'][0]['decl']\n",
    "    except IndexError as e:\n",
    "        raise ValueError(\"Unknown object '{}'\".format(name))\n",
    "    return (objRa, objDec)"
   ]
  }
 ],
 "metadata": {
  "kernelspec": {
   "display_name": "Python 3 (ipykernel)",
   "language": "python",
   "name": "python3"
  },
  "language_info": {
   "codemirror_mode": {
    "name": "ipython",
    "version": 3
   },
   "file_extension": ".py",
   "mimetype": "text/x-python",
   "name": "python",
   "nbconvert_exporter": "python",
   "pygments_lexer": "ipython3",
   "version": "3.10.7"
  }
 },
 "nbformat": 4,
 "nbformat_minor": 5
}
