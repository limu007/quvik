{
 "cells": [
  {
   "cell_type": "markdown",
   "id": "4bc8e909-d5c0-4891-8680-266b7b69b3df",
   "metadata": {},
   "source": [
    "### finding holes\n",
    "places around ecliptic with lowest density of bright stars (for flatfielding) "
   ]
  },
  {
   "cell_type": "code",
   "execution_count": 4,
   "id": "c655aff0-fd3f-4652-9417-81436e3c3531",
   "metadata": {},
   "outputs": [],
   "source": [
    "inp=\"/home/limu/Documents/Space/QUVIK/Work/feasibility/sources/USNOb1_B2_remo.npz\"\n",
    "import numpy as np\n",
    "cat1=np.load(inp)\n",
    "klist=list(cat1.keys())"
   ]
  },
  {
   "cell_type": "code",
   "execution_count": 11,
   "id": "17a376e6-289a-4d84-92ae-51e2b17d0e67",
   "metadata": {},
   "outputs": [
    {
     "data": {
      "text/plain": [
       "([0.0007, 359.9991], [-26.6661, -24.2449])"
      ]
     },
     "execution_count": 11,
     "metadata": {},
     "output_type": "execute_result"
    }
   ],
   "source": [
    "key1='dec_-2666_-2424'\n",
    "ran=lambda a:[a.min(),a.max()]\n",
    "ran(cat1[key1][0]),ran(cat1[key1][1])"
   ]
  },
  {
   "cell_type": "code",
   "execution_count": 5,
   "id": "a4ae3632-b626-4f77-8b26-66ed327ec05d",
   "metadata": {},
   "outputs": [
    {
     "data": {
      "text/plain": [
       "89.96"
      ]
     },
     "execution_count": 5,
     "metadata": {},
     "output_type": "execute_result"
    }
   ],
   "source": [
    "kbord=np.array([[float(z)/100. for z in k.split('_')[1:3]] for k in klist])\n",
    "kbord.max()"
   ]
  },
  {
   "cell_type": "raw",
   "id": "1c94d606-bade-4c10-bb63-0737333e6d6f",
   "metadata": {},
   "source": [
    "nlist=['dec_%05i_%05i'%ran(cat1[k][1]) for k in klist]\n",
    "nlist=[d[:4]+d[5:10]+d[11:] if d.find('_0')>0 else d for d in nlist]\n",
    "newhash={}\n",
    "for i in range(len(klist)):\n",
    "    newhash[nlist[i]]=cat1[klist[i]]\n",
    "np.savez_compressed(inp.replace('more','remo'),**newhash)"
   ]
  },
  {
   "cell_type": "code",
   "execution_count": 2,
   "id": "ed33ab10-137e-41ef-b481-6ff48b8f9ea6",
   "metadata": {},
   "outputs": [],
   "source": [
    "from astropy import coordinates as coor\n",
    "from astropy import units as u\n"
   ]
  },
  {
   "cell_type": "code",
   "execution_count": 14,
   "id": "5464b58f-cf3e-4171-9481-90af3c03e49c",
   "metadata": {},
   "outputs": [],
   "source": [
    "def get_field(b=60,l=0):\n",
    "    c1=coor.GeocentricTrueEcliptic(b*u.deg,l*u.rad)\n",
    "    pos1=c1.transform_to(coor.Galactic())\n",
    "    qsel=(pos1.b.degree>kbord[:,0])*(pos1.b.degree<kbord[:,1])\n",
    "    ksel1=klist[np.where(qsel)[0][0]]\n",
    "    fld=cat1[ksel1]\n",
    "    return fld[:,(fld[0]>pos1.l.degree-1)*(fld[0]<pos1.l.degree+1)]"
   ]
  },
  {
   "cell_type": "code",
   "execution_count": 16,
   "id": "7d7de947-bf65-4d01-90bf-1b2070c4e89c",
   "metadata": {},
   "outputs": [
    {
     "name": "stdout",
     "output_type": "stream",
     "text": [
      "failed for  90\n",
      "failed for  270\n"
     ]
    }
   ],
   "source": [
    "allstat=[]\n",
    "bpos=np.r_[:360]\n",
    "for b in bpos:\n",
    "    try:\n",
    "        fld=get_field(b)\n",
    "    except:\n",
    "        print('failed for ',b)\n",
    "        allstat.append([0]*8)\n",
    "    else:\n",
    "        allstat.append(ran(fld[0])+ran(fld[1])+[sum(fld[2]<q) for q in [10,12,14,16]])"
   ]
  },
  {
   "cell_type": "code",
   "execution_count": 17,
   "id": "b83d9ce0-c6d9-4c0c-a726-f3f803a4b7e9",
   "metadata": {},
   "outputs": [],
   "source": [
    "arrstat=np.array(allstat).T"
   ]
  },
  {
   "cell_type": "code",
   "execution_count": 22,
   "id": "672b2984-822c-40ef-b084-f999c6edb6fa",
   "metadata": {},
   "outputs": [],
   "source": [
    "surf=(arrstat[1]-arrstat[0])*(arrstat[3]-arrstat[2])"
   ]
  },
  {
   "cell_type": "code",
   "execution_count": 25,
   "id": "8b1cf440-0677-4cec-85ba-7d65e26cb980",
   "metadata": {},
   "outputs": [
    {
     "data": {
      "text/plain": [
       "10"
      ]
     },
     "execution_count": 25,
     "metadata": {},
     "output_type": "execute_result"
    }
   ],
   "source": [
    "sum(sel==False)"
   ]
  },
  {
   "cell_type": "code",
   "execution_count": 38,
   "id": "849bd4bc-e991-4d5a-988f-ea2b5368b909",
   "metadata": {},
   "outputs": [
    {
     "data": {
      "text/plain": [
       "[array([ 15,  19,  81,  82, 156, 165, 166, 169, 170, 174, 176, 177, 178,\n",
       "        186, 188, 249, 258, 357]),\n",
       " array([  1,   6,  19, 156, 168, 176, 177, 178, 179, 180, 181, 185, 186,\n",
       "        189, 193, 351, 355, 357]),\n",
       " array([  5,   6,  13,  14, 165, 166, 168, 169, 170, 172, 175, 184, 185,\n",
       "        186, 187, 188, 189, 205]),\n",
       " array([  5,   6,   7,  11,  12,  13, 165, 166, 167, 168, 169, 170, 172,\n",
       "        184, 185, 186, 187, 188])]"
      ]
     },
     "execution_count": 38,
     "metadata": {},
     "output_type": "execute_result"
    },
    {
     "data": {
      "image/png": "[encoded data removed]",
      "text/plain": [
       "<Figure size 432x288 with 1 Axes>"
      ]
     },
     "metadata": {
      "needs_background": "light"
     },
     "output_type": "display_data"
    }
   ],
   "source": [
    "sel=surf>0.5\n",
    "from matplotlib import pyplot as pl\n",
    "low_sel=[]\n",
    "for i in range(4,8):\n",
    "    pl.plot(arrstat[i][sel]/surf[sel])\n",
    "    plow=np.percentile(arrstat[i][sel]/surf[sel],5)\n",
    "    low_sel.append(np.where(sel)[0][arrstat[i][sel]/surf[sel]<plow])\n",
    "low_sel"
   ]
  },
  {
   "cell_type": "code",
   "execution_count": 41,
   "id": "580642fd-77d0-4fe8-b0ea-1ba94f94bb8f",
   "metadata": {},
   "outputs": [
    {
     "data": {
      "text/plain": [
       "{186}"
      ]
     },
     "execution_count": 41,
     "metadata": {},
     "output_type": "execute_result"
    }
   ],
   "source": [
    "set.intersection(*[set(a) for a in low_sel])"
   ]
  },
  {
   "cell_type": "code",
   "execution_count": 30,
   "id": "42ca962d-d86e-4c42-a9d0-2201b3d15fb5",
   "metadata": {},
   "outputs": [
    {
     "data": {
      "text/plain": [
       "[<matplotlib.lines.Line2D at 0x7f555de04340>]"
      ]
     },
     "execution_count": 30,
     "metadata": {},
     "output_type": "execute_result"
    },
    {
     "data": {
      "image/png": "[encoded data removed]",
      "text/plain": [
       "<Figure size 432x288 with 1 Axes>"
      ]
     },
     "metadata": {
      "needs_background": "light"
     },
     "output_type": "display_data"
    }
   ],
   "source": [
    "from matplotlib import pyplot as pl\n",
    "pl.plot(fld[0],fld[1],',')\n",
    "s=fld[2]<12\n",
    "pl.plot(fld[0][s],fld[1][s],'.')"
   ]
  },
  {
   "cell_type": "code",
   "execution_count": 44,
   "id": "04582154-355a-48d3-843d-746cac097d22",
   "metadata": {},
   "outputs": [
    {
     "data": {
      "text/plain": [
       "1088"
      ]
     },
     "execution_count": 44,
     "metadata": {},
     "output_type": "execute_result"
    }
   ],
   "source": [
    "len(fld[0])"
   ]
  },
  {
   "cell_type": "code",
   "execution_count": 43,
   "id": "239ef1ec-9723-4a60-8f14-31187b187827",
   "metadata": {},
   "outputs": [
    {
     "data": {
      "text/plain": [
       "[<matplotlib.lines.Line2D at 0x7f555d4d90c0>]"
      ]
     },
     "execution_count": 43,
     "metadata": {},
     "output_type": "execute_result"
    },
    {
     "data": {
      "image/png": "[encoded data removed]",
      "text/plain": [
       "<Figure size 432x288 with 1 Axes>"
      ]
     },
     "metadata": {
      "needs_background": "light"
     },
     "output_type": "display_data"
    }
   ],
   "source": [
    "fld=get_field(b=186)\n",
    "pl.plot(fld[0],fld[1],',')\n",
    "s=fld[2]<12\n",
    "pl.plot(fld[0][s],fld[1][s],'.')"
   ]
  },
  {
   "cell_type": "code",
   "execution_count": 36,
   "id": "66db327e-a116-45d7-b762-14eda822c06a",
   "metadata": {},
   "outputs": [
    {
     "data": {
      "text/plain": [
       "(3, 3370)"
      ]
     },
     "execution_count": 36,
     "metadata": {},
     "output_type": "execute_result"
    }
   ],
   "source": [
    "fld=get_field(b=300)\n",
    "fld.shape"
   ]
  },
  {
   "cell_type": "code",
   "execution_count": 67,
   "id": "71bac095-286b-4680-abfa-82b753dd059e",
   "metadata": {},
   "outputs": [],
   "source": [
    "cx=coor.GeocentricTrueEcliptic(np.r_[0:360:5]*u.deg,0*u.rad)"
   ]
  },
  {
   "cell_type": "code",
   "execution_count": 68,
   "id": "f17e844e-05da-44f1-85fb-e0b0e2449d16",
   "metadata": {},
   "outputs": [],
   "source": [
    "gx=cx.transform_to(coor.Galactic())"
   ]
  },
  {
   "cell_type": "markdown",
   "id": "049853a1-95bd-4ba7-8e2b-4da79310a6cb",
   "metadata": {},
   "source": [
    "#### ecliptic in galactic coordinates  \n",
    "want to select places most distant from MW"
   ]
  },
  {
   "cell_type": "code",
   "execution_count": 69,
   "id": "c69078c6-6b59-4e25-b328-1620c6e31bff",
   "metadata": {},
   "outputs": [
    {
     "data": {
      "text/plain": [
       "[<matplotlib.lines.Line2D at 0x7fb2acc2d090>]"
      ]
     },
     "execution_count": 69,
     "metadata": {},
     "output_type": "execute_result"
    },
    {
     "data": {
      "image/png": "[encoded data removed]",
      "text/plain": [
       "<Figure size 432x288 with 1 Axes>"
      ]
     },
     "metadata": {
      "needs_background": "light"
     },
     "output_type": "display_data"
    }
   ],
   "source": [
    "pl.plot(gx.l.degree,gx.b.degree)"
   ]
  },
  {
   "cell_type": "code",
   "execution_count": 71,
   "id": "49c9bb7b-7169-4f16-96d5-868be1b35dbf",
   "metadata": {},
   "outputs": [],
   "source": [
    "pos1=gx[0]\n",
    "qsel=(pos1.b.degree>kbord[:,0])*(pos1.b.degree<kbord[:,1])\n",
    "ksel1=klist[np.where(qsel)[0][0]]\n",
    "fld=cat1[ksel1]\n",
    "fld=fld[:,(fld[0]>pos1.l.degree-1)*(fld[0]<pos1.l.degree+1)]"
   ]
  },
  {
   "cell_type": "code",
   "execution_count": 76,
   "id": "29a3e8f3-963d-4f99-82ce-dffadc7769f2",
   "metadata": {},
   "outputs": [
    {
     "data": {
      "text/plain": [
       "(-61.1812, -59.1901)"
      ]
     },
     "execution_count": 76,
     "metadata": {},
     "output_type": "execute_result"
    }
   ],
   "source": [
    "fld=fld[:,(fld[1]>pos1.b.degree-1)*(fld[1]<pos1.b.degree+1)]\n",
    "ran(fld[1])"
   ]
  },
  {
   "cell_type": "code",
   "execution_count": 78,
   "id": "6db288c1-daac-4f28-b048-30ea94df3250",
   "metadata": {},
   "outputs": [
    {
     "data": {
      "text/plain": [
       "583"
      ]
     },
     "execution_count": 78,
     "metadata": {},
     "output_type": "execute_result"
    },
    {
     "data": {
      "image/png": "[encoded data removed]",
      "text/plain": [
       "<Figure size 432x288 with 1 Axes>"
      ]
     },
     "metadata": {
      "needs_background": "light"
     },
     "output_type": "display_data"
    }
   ],
   "source": [
    "pl.plot(fld[0],fld[1],',')\n",
    "s=fld[2]<12\n",
    "pl.plot(fld[0][s],fld[1][s],'.')\n",
    "len(fld[1])"
   ]
  },
  {
   "cell_type": "code",
   "execution_count": null,
   "id": "8622fb6d-98e3-4395-b9fc-c824e1b68c67",
   "metadata": {},
   "outputs": [],
   "source": []
  }
 ],
 "metadata": {
  "kernelspec": {
   "display_name": "Python 3 (ipykernel)",
   "language": "python",
   "name": "python3"
  },
  "language_info": {
   "codemirror_mode": {
    "name": "ipython",
    "version": 3
   },
   "file_extension": ".py",
   "mimetype": "text/x-python",
   "name": "python",
   "nbconvert_exporter": "python",
   "pygments_lexer": "ipython3",
   "version": "3.10.8"
  }
 },
 "nbformat": 4,
 "nbformat_minor": 5
}
