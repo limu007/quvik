{
 "cells": [
  {
   "cell_type": "code",
   "execution_count": null,
   "id": "ee8fb69c-fec2-49fb-b6fd-75f8c4ed7e1e",
   "metadata": {},
   "outputs": [],
   "source": [
    "lnx=[a.strip() for a in open(\"/home/limu/Data/Quvik/targets_intermediate_mass_mergers.txt\").readlines()]      \n",
    "lnx=[a for a in lnx if len(a)>10 and a[0]!='#'] \n",
    "set1=[a.split('\\t') for a in lnx if a.find('\\t')>0][1:] \n",
    "\n",
    "pos=[coord.ICRS(Angle(a[-1][:mpos(a[-1])].strip()+'h'),Angle(a[-1][mpos(a[-1]):40].strip()+'d')) for a in set1]\n",
    "names=[a[1] if a[0][:4]=='IRAS' and a[1].strip()!='' else a[0] for a in set1] \n",
    "targ=[md.Target(name=t.strip(),group='medmerg:',mag1=0,mag2=0,mag3=0,mag0=0) for t in names]\n",
    "[targ[i].set_pos(pos[i]) for i in range(len(pos))]\n",
    "\n",
    "oo=[md.Objective(expo=10,repeat=3*24*3600/10,target=t) for t in targ[4:6]]\n",
    "\n",
    "#all have objectives\n",
    "[t for t in md.Target.objects.all() if t.objective_set.count()==0]"
   ]
  },
  {
   "cell_type": "code",
   "execution_count": 4,
   "id": "a0909250-39a1-4a63-bbc3-09e66946047a",
   "metadata": {},
   "outputs": [],
   "source": [
    "import json,requests\n",
    "hscapiurl = \"https://catalogs.mast.stsci.edu/api/v0.1/hsc\"\n",
    "\n",
    "def cat2url(table=\"hcvsummary\",release=\"v3\",magtype=\"magaper2\",baseurl=hscapiurl):\n",
    "    #checklegal(table,release,magtype)\n",
    "    if table == \"summary\":\n",
    "        url = \"{baseurl}/{release}/{table}/{magtype}\".format(**locals())\n",
    "    else:\n",
    "        url = \"{baseurl}/{release}/{table}\".format(**locals())\n",
    "    return url\n",
    "\n",
    "def get_hla_cutout(imagename,ra,dec,size=33,autoscale=99.5,asinh=True,zoom=1):\n",
    "    \"\"\"Get JPEG cutout for an image\"\"\"\n",
    "    if imagename==None:\n",
    "        from astropy.io import ascii\n",
    "        tab=ascii.read(hcvcone(ra,dec,radius,table=\"hcvsummary\"))\n",
    "\n",
    "    url = \"https://hla.stsci.edu/cgi-bin/fitscut.cgi\"\n",
    "    r = requests.get(url, params=dict(ra=ra, dec=dec, size=size, \n",
    "            format=\"jpeg\", red=imagename, autoscale=autoscale, asinh=asinh, zoom=zoom))\n",
    "    im = Image.open(BytesIO(r.content))\n",
    "    return im\n",
    "\n",
    "\n",
    "def mastQuery(request, url='https://mast.stsci.edu/api/v0/invoke'):\n",
    "    requestString = json.dumps(request)\n",
    "    r = requests.post(url, data={'request': requestString})\n",
    "    r.raise_for_status()\n",
    "    return r.text\n",
    "\n",
    "def resolve(name):\n",
    "    resolverRequest = {'service':'Mast.Name.Lookup',\n",
    "                       'params':{'input':name,'format':'json'},\n",
    "                      }\n",
    "    resolvedObjectString = mastQuery(resolverRequest)\n",
    "    resolvedObject = json.loads(resolvedObjectString)\n",
    "    try:\n",
    "        objRa = resolvedObject['resolvedCoordinate'][0]['ra']\n",
    "        objDec = resolvedObject['resolvedCoordinate'][0]['decl']\n",
    "    except IndexError as e:\n",
    "        raise ValueError(\"Unknown object '{}'\".format(name))\n",
    "    return (objRa, objDec)"
   ]
  },
  {
   "cell_type": "code",
   "execution_count": 22,
   "id": "76037aa5-0bd8-4a81-ab68-12e9ef3f12d1",
   "metadata": {},
   "outputs": [
    {
     "ename": "ResolverError",
     "evalue": "Could not resolve EPIC 5481390 to a sky position.",
     "output_type": "error",
     "traceback": [
      "\u001b[0;31m---------------------------------------------------------------------------\u001b[0m",
      "\u001b[0;31mResolverError\u001b[0m                             Traceback (most recent call last)",
      "Input \u001b[0;32mIn [22]\u001b[0m, in \u001b[0;36m<cell line: 3>\u001b[0;34m()\u001b[0m\n\u001b[1;32m      1\u001b[0m \u001b[38;5;66;03m#resolve('EPIC 5481390')\u001b[39;00m\n\u001b[1;32m      2\u001b[0m \u001b[38;5;28;01mfrom\u001b[39;00m \u001b[38;5;21;01mastroquery\u001b[39;00m\u001b[38;5;21;01m.\u001b[39;00m\u001b[38;5;21;01mmast\u001b[39;00m \u001b[38;5;28;01mimport\u001b[39;00m Observations\n\u001b[0;32m----> 3\u001b[0m obs_table \u001b[38;5;241m=\u001b[39m Observations\u001b[38;5;241m.\u001b[39mquery_object(\u001b[38;5;124m\"\u001b[39m\u001b[38;5;124mEPIC 5481390\u001b[39m\u001b[38;5;124m\"\u001b[39m,radius\u001b[38;5;241m=\u001b[39m\u001b[38;5;124m\"\u001b[39m\u001b[38;5;124m.2 arcsec\u001b[39m\u001b[38;5;124m\"\u001b[39m)\n",
      "File \u001b[0;32m/usr/local/lib/python3.10/site-packages/astroquery/utils/class_or_instance.py:25\u001b[0m, in \u001b[0;36mclass_or_instance.__get__.<locals>.f\u001b[0;34m(*args, **kwds)\u001b[0m\n\u001b[1;32m     23\u001b[0m \u001b[38;5;28;01mdef\u001b[39;00m \u001b[38;5;21mf\u001b[39m(\u001b[38;5;241m*\u001b[39margs, \u001b[38;5;241m*\u001b[39m\u001b[38;5;241m*\u001b[39mkwds):\n\u001b[1;32m     24\u001b[0m     \u001b[38;5;28;01mif\u001b[39;00m obj \u001b[38;5;129;01mis\u001b[39;00m \u001b[38;5;129;01mnot\u001b[39;00m \u001b[38;5;28;01mNone\u001b[39;00m:\n\u001b[0;32m---> 25\u001b[0m         \u001b[38;5;28;01mreturn\u001b[39;00m \u001b[38;5;28;43mself\u001b[39;49m\u001b[38;5;241;43m.\u001b[39;49m\u001b[43mfn\u001b[49m\u001b[43m(\u001b[49m\u001b[43mobj\u001b[49m\u001b[43m,\u001b[49m\u001b[43m \u001b[49m\u001b[38;5;241;43m*\u001b[39;49m\u001b[43margs\u001b[49m\u001b[43m,\u001b[49m\u001b[43m \u001b[49m\u001b[38;5;241;43m*\u001b[39;49m\u001b[38;5;241;43m*\u001b[39;49m\u001b[43mkwds\u001b[49m\u001b[43m)\u001b[49m\n\u001b[1;32m     26\u001b[0m     \u001b[38;5;28;01melse\u001b[39;00m:\n\u001b[1;32m     27\u001b[0m         \u001b[38;5;28;01mreturn\u001b[39;00m \u001b[38;5;28mself\u001b[39m\u001b[38;5;241m.\u001b[39mfn(\u001b[38;5;28mcls\u001b[39m, \u001b[38;5;241m*\u001b[39margs, \u001b[38;5;241m*\u001b[39m\u001b[38;5;241m*\u001b[39mkwds)\n",
      "File \u001b[0;32m/usr/local/lib/python3.10/site-packages/astroquery/utils/process_asyncs.py:26\u001b[0m, in \u001b[0;36masync_to_sync.<locals>.create_method.<locals>.newmethod\u001b[0;34m(self, *args, **kwargs)\u001b[0m\n\u001b[1;32m     22\u001b[0m \u001b[38;5;129m@class_or_instance\u001b[39m\n\u001b[1;32m     23\u001b[0m \u001b[38;5;28;01mdef\u001b[39;00m \u001b[38;5;21mnewmethod\u001b[39m(\u001b[38;5;28mself\u001b[39m, \u001b[38;5;241m*\u001b[39margs, \u001b[38;5;241m*\u001b[39m\u001b[38;5;241m*\u001b[39mkwargs):\n\u001b[1;32m     24\u001b[0m     verbose \u001b[38;5;241m=\u001b[39m kwargs\u001b[38;5;241m.\u001b[39mpop(\u001b[38;5;124m'\u001b[39m\u001b[38;5;124mverbose\u001b[39m\u001b[38;5;124m'\u001b[39m, \u001b[38;5;28;01mFalse\u001b[39;00m)\n\u001b[0;32m---> 26\u001b[0m     response \u001b[38;5;241m=\u001b[39m \u001b[38;5;28;43mgetattr\u001b[39;49m\u001b[43m(\u001b[49m\u001b[38;5;28;43mself\u001b[39;49m\u001b[43m,\u001b[49m\u001b[43m \u001b[49m\u001b[43masync_method_name\u001b[49m\u001b[43m)\u001b[49m\u001b[43m(\u001b[49m\u001b[38;5;241;43m*\u001b[39;49m\u001b[43margs\u001b[49m\u001b[43m,\u001b[49m\u001b[43m \u001b[49m\u001b[38;5;241;43m*\u001b[39;49m\u001b[38;5;241;43m*\u001b[39;49m\u001b[43mkwargs\u001b[49m\u001b[43m)\u001b[49m\n\u001b[1;32m     27\u001b[0m     \u001b[38;5;28;01mif\u001b[39;00m kwargs\u001b[38;5;241m.\u001b[39mget(\u001b[38;5;124m'\u001b[39m\u001b[38;5;124mget_query_payload\u001b[39m\u001b[38;5;124m'\u001b[39m) \u001b[38;5;129;01mor\u001b[39;00m kwargs\u001b[38;5;241m.\u001b[39mget(\u001b[38;5;124m'\u001b[39m\u001b[38;5;124mfield_help\u001b[39m\u001b[38;5;124m'\u001b[39m):\n\u001b[1;32m     28\u001b[0m         \u001b[38;5;28;01mreturn\u001b[39;00m response\n",
      "File \u001b[0;32m/usr/local/lib/python3.10/site-packages/astroquery/utils/class_or_instance.py:25\u001b[0m, in \u001b[0;36mclass_or_instance.__get__.<locals>.f\u001b[0;34m(*args, **kwds)\u001b[0m\n\u001b[1;32m     23\u001b[0m \u001b[38;5;28;01mdef\u001b[39;00m \u001b[38;5;21mf\u001b[39m(\u001b[38;5;241m*\u001b[39margs, \u001b[38;5;241m*\u001b[39m\u001b[38;5;241m*\u001b[39mkwds):\n\u001b[1;32m     24\u001b[0m     \u001b[38;5;28;01mif\u001b[39;00m obj \u001b[38;5;129;01mis\u001b[39;00m \u001b[38;5;129;01mnot\u001b[39;00m \u001b[38;5;28;01mNone\u001b[39;00m:\n\u001b[0;32m---> 25\u001b[0m         \u001b[38;5;28;01mreturn\u001b[39;00m \u001b[38;5;28;43mself\u001b[39;49m\u001b[38;5;241;43m.\u001b[39;49m\u001b[43mfn\u001b[49m\u001b[43m(\u001b[49m\u001b[43mobj\u001b[49m\u001b[43m,\u001b[49m\u001b[43m \u001b[49m\u001b[38;5;241;43m*\u001b[39;49m\u001b[43margs\u001b[49m\u001b[43m,\u001b[49m\u001b[43m \u001b[49m\u001b[38;5;241;43m*\u001b[39;49m\u001b[38;5;241;43m*\u001b[39;49m\u001b[43mkwds\u001b[49m\u001b[43m)\u001b[49m\n\u001b[1;32m     26\u001b[0m     \u001b[38;5;28;01melse\u001b[39;00m:\n\u001b[1;32m     27\u001b[0m         \u001b[38;5;28;01mreturn\u001b[39;00m \u001b[38;5;28mself\u001b[39m\u001b[38;5;241m.\u001b[39mfn(\u001b[38;5;28mcls\u001b[39m, \u001b[38;5;241m*\u001b[39margs, \u001b[38;5;241m*\u001b[39m\u001b[38;5;241m*\u001b[39mkwds)\n",
      "File \u001b[0;32m/usr/local/lib/python3.10/site-packages/astroquery/mast/observations.py:253\u001b[0m, in \u001b[0;36mObservationsClass.query_object_async\u001b[0;34m(self, objectname, radius, pagesize, page)\u001b[0m\n\u001b[1;32m    224\u001b[0m \u001b[38;5;129m@class_or_instance\u001b[39m\n\u001b[1;32m    225\u001b[0m \u001b[38;5;28;01mdef\u001b[39;00m \u001b[38;5;21mquery_object_async\u001b[39m(\u001b[38;5;28mself\u001b[39m, objectname, \u001b[38;5;241m*\u001b[39m, radius\u001b[38;5;241m=\u001b[39m\u001b[38;5;241m0.2\u001b[39m\u001b[38;5;241m*\u001b[39mu\u001b[38;5;241m.\u001b[39mdeg, pagesize\u001b[38;5;241m=\u001b[39m\u001b[38;5;28;01mNone\u001b[39;00m, page\u001b[38;5;241m=\u001b[39m\u001b[38;5;28;01mNone\u001b[39;00m):\n\u001b[1;32m    226\u001b[0m     \u001b[38;5;124;03m\"\"\"\u001b[39;00m\n\u001b[1;32m    227\u001b[0m \u001b[38;5;124;03m    Given an object name, returns a list of MAST observations.\u001b[39;00m\n\u001b[1;32m    228\u001b[0m \u001b[38;5;124;03m    See column documentation `here <https://mast.stsci.edu/api/v0/_c_a_o_mfields.html>`__.\u001b[39;00m\n\u001b[0;32m   (...)\u001b[0m\n\u001b[1;32m    250\u001b[0m \u001b[38;5;124;03m    response : list of `~requests.Response`\u001b[39;00m\n\u001b[1;32m    251\u001b[0m \u001b[38;5;124;03m    \"\"\"\u001b[39;00m\n\u001b[0;32m--> 253\u001b[0m     coordinates \u001b[38;5;241m=\u001b[39m \u001b[43mutils\u001b[49m\u001b[38;5;241;43m.\u001b[39;49m\u001b[43mresolve_object\u001b[49m\u001b[43m(\u001b[49m\u001b[43mobjectname\u001b[49m\u001b[43m)\u001b[49m\n\u001b[1;32m    255\u001b[0m     \u001b[38;5;28;01mreturn\u001b[39;00m \u001b[38;5;28mself\u001b[39m\u001b[38;5;241m.\u001b[39mquery_region_async(coordinates, radius\u001b[38;5;241m=\u001b[39mradius, pagesize\u001b[38;5;241m=\u001b[39mpagesize, page\u001b[38;5;241m=\u001b[39mpage)\n",
      "File \u001b[0;32m/usr/local/lib/python3.10/site-packages/astroquery/mast/utils.py:110\u001b[0m, in \u001b[0;36mresolve_object\u001b[0;34m(objectname)\u001b[0m\n\u001b[1;32m    107\u001b[0m result \u001b[38;5;241m=\u001b[39m response\u001b[38;5;241m.\u001b[39mjson()\n\u001b[1;32m    109\u001b[0m \u001b[38;5;28;01mif\u001b[39;00m \u001b[38;5;28mlen\u001b[39m(result[\u001b[38;5;124m'\u001b[39m\u001b[38;5;124mresolvedCoordinate\u001b[39m\u001b[38;5;124m'\u001b[39m]) \u001b[38;5;241m==\u001b[39m \u001b[38;5;241m0\u001b[39m:\n\u001b[0;32m--> 110\u001b[0m     \u001b[38;5;28;01mraise\u001b[39;00m ResolverError(\u001b[38;5;124m\"\u001b[39m\u001b[38;5;124mCould not resolve \u001b[39m\u001b[38;5;132;01m{}\u001b[39;00m\u001b[38;5;124m to a sky position.\u001b[39m\u001b[38;5;124m\"\u001b[39m\u001b[38;5;241m.\u001b[39mformat(objectname))\n\u001b[1;32m    112\u001b[0m ra \u001b[38;5;241m=\u001b[39m result[\u001b[38;5;124m'\u001b[39m\u001b[38;5;124mresolvedCoordinate\u001b[39m\u001b[38;5;124m'\u001b[39m][\u001b[38;5;241m0\u001b[39m][\u001b[38;5;124m'\u001b[39m\u001b[38;5;124mra\u001b[39m\u001b[38;5;124m'\u001b[39m]\n\u001b[1;32m    113\u001b[0m dec \u001b[38;5;241m=\u001b[39m result[\u001b[38;5;124m'\u001b[39m\u001b[38;5;124mresolvedCoordinate\u001b[39m\u001b[38;5;124m'\u001b[39m][\u001b[38;5;241m0\u001b[39m][\u001b[38;5;124m'\u001b[39m\u001b[38;5;124mdecl\u001b[39m\u001b[38;5;124m'\u001b[39m]\n",
      "\u001b[0;31mResolverError\u001b[0m: Could not resolve EPIC 5481390 to a sky position."
     ]
    }
   ],
   "source": [
    "#resolve('EPIC 5481390')\n",
    "from astroquery.mast import Observations\n",
    "obs_table = Observations.query_object(\"EPIC 5481390\",radius=\".2 arcsec\")"
   ]
  },
  {
   "cell_type": "code",
   "execution_count": 14,
   "id": "e58771d8-57d0-4052-8402-dca263665780",
   "metadata": {},
   "outputs": [],
   "source": [
    "table2=Observations.query_criteria(filters=[\"*UV\",\"GALEX\"],objectname=\"M101\")"
   ]
  },
  {
   "cell_type": "code",
   "execution_count": 18,
   "id": "b34c6819-5271-4cdd-be6c-90d0505b6919",
   "metadata": {},
   "outputs": [
    {
     "data": {
      "text/plain": [
       "266"
      ]
     },
     "execution_count": 18,
     "metadata": {},
     "output_type": "execute_result"
    }
   ],
   "source": [
    "len(obs_table)"
   ]
  },
  {
   "cell_type": "code",
   "execution_count": 21,
   "id": "6ea1fbda-42b9-41bc-baa4-a3b1d566ccbe",
   "metadata": {},
   "outputs": [
    {
     "data": {
      "text/plain": [
       "array([  0.        ,   0.        , 371.71837196, 371.71837196,\n",
       "         0.        ,   0.        ,   3.83290685,   3.83290685,\n",
       "         0.        ,   0.        , 229.81061601, 229.81061601])"
      ]
     },
     "execution_count": 21,
     "metadata": {},
     "output_type": "execute_result"
    }
   ],
   "source": [
    "\n",
    "import numpy as np\n",
    "np.array(table2['distance'])"
   ]
  },
  {
   "cell_type": "code",
   "execution_count": null,
   "id": "53756d30-9214-4d99-993f-70641c91d9af",
   "metadata": {},
   "outputs": [],
   "source": []
  }
 ],
 "metadata": {
  "kernelspec": {
   "display_name": "Python 3 (ipykernel)",
   "language": "python",
   "name": "python3"
  },
  "language_info": {
   "codemirror_mode": {
    "name": "ipython",
    "version": 3
   },
   "file_extension": ".py",
   "mimetype": "text/x-python",
   "name": "python",
   "nbconvert_exporter": "python",
   "pygments_lexer": "ipython3",
   "version": "3.10.7"
  }
 },
 "nbformat": 4,
 "nbformat_minor": 5
}
